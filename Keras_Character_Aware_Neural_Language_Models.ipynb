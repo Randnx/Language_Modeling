{
 "cells": [
  {
   "cell_type": "markdown",
   "metadata": {
    "colab_type": "text",
    "id": "view-in-github"
   },
   "source": [
    "[View in Colaboratory](https://colab.research.google.com/github/stikbuf/Language_Modeling/blob/master/Keras_Character_Aware_Neural_Language_Models.ipynb)"
   ]
  },
  {
   "cell_type": "markdown",
   "metadata": {
    "colab_type": "text",
    "id": "4_0CMzmyQXoy"
   },
   "source": [
    "## Configure the cloud environment\n"
   ]
  },
  {
   "cell_type": "markdown",
   "metadata": {
    "colab_type": "text",
    "id": "QB7JyNTfQfKF"
   },
   "source": [
    "### Mount Google Drive"
   ]
  },
  {
   "cell_type": "code",
   "execution_count": null,
   "metadata": {
    "colab": {
     "base_uri": "https://localhost:8080/",
     "height": 2539
    },
    "colab_type": "code",
    "id": "oTB-axrvQiZU",
    "outputId": "e2997ab7-5a01-4406-d696-aae0c2c981aa"
   },
   "outputs": [],
   "source": [
    "# Install a Drive FUSE wrapper.\n",
    "# https://github.com/astrada/google-drive-ocamlfuse\n",
    "!apt-get install -y -qq software-properties-common python-software-properties module-init-tools\n",
    "!add-apt-repository -y ppa:alessandro-strada/ppa 2>&1 > /dev/null\n",
    "!apt-get update -qq 2>&1 > /dev/null\n",
    "!apt-get -y install -qq google-drive-ocamlfuse fuse\n",
    "\n",
    "\n",
    "# Generate auth tokens for Colab\n",
    "from google.colab import auth\n",
    "auth.authenticate_user()\n",
    "\n",
    "\n",
    "# Generate creds for the Drive FUSE library.\n",
    "from oauth2client.client import GoogleCredentials\n",
    "creds = GoogleCredentials.get_application_default()\n",
    "import getpass\n",
    "!google-drive-ocamlfuse -headless -id={creds.client_id} -secret={creds.client_secret} < /dev/null 2>&1 | grep URL\n",
    "vcode = getpass.getpass()\n",
    "!echo {vcode} | google-drive-ocamlfuse -headless -id={creds.client_id} -secret={creds.client_secret}"
   ]
  },
  {
   "cell_type": "code",
   "execution_count": null,
   "metadata": {
    "colab": {
     "base_uri": "https://localhost:8080/",
     "height": 35
    },
    "colab_type": "code",
    "id": "zVhUtsJjQqy5",
    "outputId": "fbf684be-5cab-471f-ed07-2cc929cc4e7d"
   },
   "outputs": [],
   "source": [
    "# If you got a \"Transport endpoint is not connected.\" error. Please run this line first to unmount the drive.\n",
    "# See https://stackoverflow.com/questions/49588113/google-colab-script-throws-transport-endpoint-is-not-connected?utm_medium=organic&utm_source=google_rich_qa&utm_campaign=google_rich_qa\n",
    "!fusermount -u drive\n",
    "\n",
    "# Create a directory and mount Google Drive using that directory.\n",
    "!mkdir -p drive\n",
    "!google-drive-ocamlfuse drive\n",
    "a = !ls drive/\n",
    "print('Files in Drive:', a)\n",
    "assert a!=[], 'Drive should not be empty!'"
   ]
  },
  {
   "cell_type": "code",
   "execution_count": null,
   "metadata": {
    "colab": {
     "base_uri": "https://localhost:8080/",
     "height": 126
    },
    "colab_type": "code",
    "id": "bvfVOCzkRErx",
    "outputId": "2b10a93a-4be4-457f-ff93-749ace078ab4"
   },
   "outputs": [],
   "source": [
    "local_path='./drive/share_with_me/AI/Character-aware_LM/'\n",
    "#local_path='./'\n",
    "import sys\n",
    "sys.path.append(local_path)\n",
    "!ls './drive/share_with_me/AI/Character-aware_LM/'"
   ]
  },
  {
   "cell_type": "code",
   "execution_count": null,
   "metadata": {
    "colab": {
     "base_uri": "https://localhost:8080/",
     "height": 35
    },
    "colab_type": "code",
    "id": "TbWRANsEQr6U",
    "outputId": "fbedffd8-9029-4ca3-c73c-b87c6a74bfe6"
   },
   "outputs": [],
   "source": [
    "import tensorflow as tf\n",
    "#assert tf.test.gpu_device_name() != '', \"GPU not avaliable!\"\n",
    "tf.test.gpu_device_name()"
   ]
  },
  {
   "cell_type": "markdown",
   "metadata": {
    "colab_type": "text",
    "id": "yUldvgY1RH0S"
   },
   "source": [
    "## Load data"
   ]
  },
  {
   "cell_type": "code",
   "execution_count": 1,
   "metadata": {},
   "outputs": [],
   "source": [
    "local_path='./'"
   ]
  },
  {
   "cell_type": "code",
   "execution_count": 2,
   "metadata": {
    "colab": {},
    "colab_type": "code",
    "id": "5NgfjuJbPoz9"
   },
   "outputs": [
    {
     "name": "stderr",
     "output_type": "stream",
     "text": [
      "/usr/local/lib/python3.5/dist-packages/h5py/__init__.py:36: FutureWarning: Conversion of the second argument of issubdtype from `float` to `np.floating` is deprecated. In future, it will be treated as `np.float64 == np.dtype(float).type`.\n",
      "  from ._conv import register_converters as _register_converters\n"
     ]
    }
   ],
   "source": [
    "from __future__ import print_function\n",
    "import os\n",
    "import matplotlib.pyplot as plt\n",
    "%matplotlib inline\n",
    "import tensorflow as tf\n",
    "import numpy as np\n",
    "import pandas as pd\n",
    "\n",
    "from reader import ptb_raw_data, ptb_producer # by Google"
   ]
  },
  {
   "cell_type": "code",
   "execution_count": 3,
   "metadata": {
    "colab": {
     "base_uri": "https://localhost:8080/",
     "height": 35
    },
    "colab_type": "code",
    "id": "dpHEJHNnPo0U",
    "outputId": "78431c7b-a03d-4609-a381-9d7aa5b96632"
   },
   "outputs": [
    {
     "data": {
      "text/plain": [
       "10000"
      ]
     },
     "execution_count": 3,
     "metadata": {},
     "output_type": "execute_result"
    }
   ],
   "source": [
    "train_data, valid_data, test_data, word_to_id = ptb_raw_data(local_path + 'data') # tokens\n",
    "id_to_word = dict((v, k) for k, v in word_to_id.items())\n",
    "voc_size = len(id_to_word)\n",
    "voc_size"
   ]
  },
  {
   "cell_type": "code",
   "execution_count": 4,
   "metadata": {},
   "outputs": [
    {
     "name": "stdout",
     "output_type": "stream",
     "text": [
      "Train data size: 929589, Valid data size: 73760, Test data size: 82430\n",
      "\n",
      "train/val/test_data is a list, some elements in train_data is [9970, 9971, 9972, 9974, 9975, 9976, 9980, 9981, 9982, 9983]\n"
     ]
    }
   ],
   "source": [
    "print('Train data size: {0}, Valid data size: {1}, Test data size: {2}\\n'.\n",
    "      format(len(train_data), len(valid_data), len(test_data)))\n",
    "print('train/val/test_data is a list, some elements in train_data is', train_data[:10])"
   ]
  },
  {
   "cell_type": "code",
   "execution_count": 5,
   "metadata": {
    "colab": {
     "base_uri": "https://localhost:8080/",
     "height": 35
    },
    "colab_type": "code",
    "id": "oZ8sUleQSoWQ",
    "outputId": "c4796a76-4fe3-48a3-f62a-bef541f937b0"
   },
   "outputs": [
    {
     "data": {
      "text/plain": [
       "10002"
      ]
     },
     "execution_count": 5,
     "metadata": {},
     "output_type": "execute_result"
    }
   ],
   "source": [
    "id_to_word[voc_size]='<SS>' # Add start word token '<SS>'\n",
    "id_to_word[voc_size+1]='<EE>' # Add end word token '<EE>'\n",
    "word_to_id = dict((v, k) for k, v in id_to_word.items())\n",
    "voc_size = len(id_to_word)\n",
    "voc_size"
   ]
  },
  {
   "cell_type": "code",
   "execution_count": 6,
   "metadata": {
    "colab": {
     "base_uri": "https://localhost:8080/",
     "height": 235
    },
    "colab_type": "code",
    "id": "zj8IWqJ8Po0h",
    "outputId": "5e9fded6-d6d9-44f1-dfa6-9fdece6f2df4"
   },
   "outputs": [
    {
     "name": "stdout",
     "output_type": "stream",
     "text": [
      "       id\n",
      "the     0\n",
      "<unk>   1\n",
      "<eos>   2\n",
      "N       3\n",
      "of      4\n",
      "              id\n",
      "ssangyong   9997\n",
      "swapo       9998\n",
      "wachter     9999\n",
      "<SS>       10000\n",
      "<EE>       10001\n"
     ]
    }
   ],
   "source": [
    "word_id = pd.DataFrame.from_dict(word_to_id, orient='index').sort_values(by=0, ascending=True)\n",
    "word_id.columns = ['id']\n",
    "print(word_id.head())\n",
    "print(word_id.tail())"
   ]
  },
  {
   "cell_type": "code",
   "execution_count": 7,
   "metadata": {
    "colab": {
     "base_uri": "https://localhost:8080/",
     "height": 235
    },
    "colab_type": "code",
    "id": "uxPQPQqMPo0t",
    "outputId": "946af7f2-7906-4fa3-f2bc-d1d7bffe5428"
   },
   "outputs": [
    {
     "name": "stdout",
     "output_type": "stream",
     "text": [
      "    word\n",
      "0    the\n",
      "1  <unk>\n",
      "2  <eos>\n",
      "3      N\n",
      "4     of\n",
      "            word\n",
      "9997   ssangyong\n",
      "9998       swapo\n",
      "9999     wachter\n",
      "10000       <SS>\n",
      "10001       <EE>\n"
     ]
    }
   ],
   "source": [
    "id_word = pd.DataFrame.from_dict(id_to_word, orient='index')\n",
    "id_word.columns = ['word']\n",
    "print(id_word.head())\n",
    "print(id_word.tail())"
   ]
  },
  {
   "cell_type": "code",
   "execution_count": 8,
   "metadata": {
    "colab": {
     "base_uri": "https://localhost:8080/",
     "height": 55
    },
    "colab_type": "code",
    "id": "Hz5IRBM6Po04",
    "outputId": "3d885c2d-15f3-4176-e943-1ae2ed489515"
   },
   "outputs": [
    {
     "data": {
      "text/plain": [
       "'aer banknote berlitz calloway centrust cluett fromstein gitano guterman hydro-quebec ipo kia memotec mlx nahb punts rake regatta rubens sim snack-food ssangyong swapo wachter <eos> pierre <unk> N years old will join the board as a nonexecutive director nov. N <eos> mr. <unk> is chairman of <unk> n.v. the dutch'"
      ]
     },
     "execution_count": 8,
     "metadata": {},
     "output_type": "execute_result"
    }
   ],
   "source": [
    "' '.join([id_to_word[id] for id in train_data[:50]])"
   ]
  },
  {
   "cell_type": "code",
   "execution_count": 9,
   "metadata": {},
   "outputs": [],
   "source": [
    "seq_len = 35"
   ]
  },
  {
   "cell_type": "markdown",
   "metadata": {
    "colab_type": "text",
    "id": "GDwfc2jpPo1D"
   },
   "source": [
    "## RNN baseline"
   ]
  },
  {
   "cell_type": "markdown",
   "metadata": {},
   "source": [
    "## data generator"
   ]
  },
  {
   "cell_type": "code",
   "execution_count": 10,
   "metadata": {
    "colab": {},
    "colab_type": "code",
    "id": "KPQMjhyePo1F"
   },
   "outputs": [],
   "source": [
    "import random\n",
    "\n",
    "from tensorflow.python.keras.utils import to_categorical \n",
    "\n",
    "def gen_word_word(batch_size=128, dataset='train'):\n",
    "    assert dataset in ['train', 'valid', 'test'], 'Dataset must be train or valid or test.'\n",
    "    \n",
    "    dic = {'train':train_data, 'valid':valid_data, 'test':test_data}\n",
    "    data = dic[dataset]\n",
    "    \n",
    "    while True:\n",
    "        rnd_idxs = list(range(len(data)-seq_len-1))\n",
    "        random.shuffle(rnd_idxs)\n",
    "        cnt = 0\n",
    "        while cnt < len(rnd_idxs) - batch_size :\n",
    "            X = np.array([[word_to_id['<SS>']] + data[i:i+seq_len] + [word_to_id['<EE>']]\n",
    "                          for i in rnd_idxs[cnt:cnt+batch_size]])\n",
    "            Y = X[:,1:]\n",
    "            X = X[:,:-1]\n",
    "            Y = to_categorical(Y)\n",
    "            #print(X.shape)\n",
    "            cnt += batch_size\n",
    "            yield X, Y"
   ]
  },
  {
   "cell_type": "markdown",
   "metadata": {},
   "source": [
    "## Keras model"
   ]
  },
  {
   "cell_type": "code",
   "execution_count": null,
   "metadata": {
    "colab": {},
    "colab_type": "code",
    "id": "JL6Za0iNPo1O"
   },
   "outputs": [],
   "source": [
    "from tensorflow.python.keras.models import Sequential\n",
    "from tensorflow.python.keras.layers import GRU, Dense, Embedding, InputLayer, Dropout\n",
    "from tensorflow.python.keras.optimizers import RMSprop"
   ]
  },
  {
   "cell_type": "markdown",
   "metadata": {},
   "source": [
    "Add dropout between layers, see [Recurrent Neural Network Regularization](https://arxiv.org/abs/1409.2329)"
   ]
  },
  {
   "cell_type": "code",
   "execution_count": null,
   "metadata": {
    "colab": {},
    "colab_type": "code",
    "id": "Pt6IvftHPo1Y"
   },
   "outputs": [],
   "source": [
    "model = Sequential()\n",
    "\n",
    "embedding_size = 128\n",
    "\n",
    "\n",
    "model.add(Embedding(input_dim=voc_size,\n",
    "                    output_dim=embedding_size,\n",
    "                    name='inputEmbedding'))\n",
    "model.add(GRU(units=128, return_sequences=True))\n",
    "model.add(Dropout(0.3)) \n",
    "model.add(GRU(units=64, return_sequences=True))\n",
    "model.add(Dropout(0.2))\n",
    "model.add(Dense(voc_size, activation='softmax'))"
   ]
  },
  {
   "cell_type": "code",
   "execution_count": null,
   "metadata": {
    "colab": {},
    "colab_type": "code",
    "id": "Evcq5fYye8jt"
   },
   "outputs": [],
   "source": [
    "# perplexity\n",
    "def PPL(y_true, y_pred):\n",
    "    return tf.exp(tf.reduce_mean(tf.keras.backend.categorical_crossentropy(y_true, y_pred)))\n",
    "\n",
    "def ACC(y_true, y_pred):\n",
    "    ACC = tf.equal(tf.argmax(y_true, axis = 2), \n",
    "                   tf.argmax(y_pred, axis = 2))\n",
    "    ACC = tf.cast(ACC, tf.float32)\n",
    "\n",
    "    return tf.reduce_mean(ACC)"
   ]
  },
  {
   "cell_type": "code",
   "execution_count": null,
   "metadata": {
    "colab": {},
    "colab_type": "code",
    "id": "KRoe-64bZAWz"
   },
   "outputs": [],
   "source": [
    "optimizer = RMSprop(lr=1e-3)\n",
    "model.compile(optimizer=optimizer,\n",
    "              loss='categorical_crossentropy',\n",
    "              metrics=[ACC, PPL])"
   ]
  },
  {
   "cell_type": "code",
   "execution_count": null,
   "metadata": {
    "colab": {
     "base_uri": "https://localhost:8080/",
     "height": 290
    },
    "colab_type": "code",
    "id": "efPbWtAJPo2P",
    "outputId": "c9bf68c6-3436-44f3-e4e4-04b33a82dfd0"
   },
   "outputs": [],
   "source": [
    "model.summary()"
   ]
  },
  {
   "cell_type": "code",
   "execution_count": null,
   "metadata": {},
   "outputs": [],
   "source": [
    "from tensorflow.python.keras.callbacks import TensorBoard, ModelCheckpoint\n",
    "import os\n",
    "if not os.path.exists(local_path + 'model/'):\n",
    "    os.mkdir(local_path + 'model/')\n",
    "\n",
    "path_model = local_path + 'model/model.keras'    \n",
    "tensorboard = TensorBoard(log_dir='log')\n",
    "checkpoint = ModelCheckpoint(filepath=path_model, verbose=1,\n",
    "                             monitor='val_PPL',mode='min' ,save_best_only='True')\n",
    "# path_model = local_path + 'model/model.keras'\n",
    "# model.save(path_model)\n",
    "\n",
    "callback_lists=[tensorboard,checkpoint]"
   ]
  },
  {
   "cell_type": "code",
   "execution_count": null,
   "metadata": {
    "colab": {
     "base_uri": "https://localhost:8080/",
     "height": 3677
    },
    "colab_type": "code",
    "id": "7rWihlHePo2Z",
    "outputId": "19ef2c40-5173-42d2-e4ff-d43ff273cd1d"
   },
   "outputs": [],
   "source": [
    "hist = model.fit_generator(generator=gen_word_word(), \n",
    "                           steps_per_epoch=50, epochs=100,\n",
    "                           callbacks=callback_lists,\n",
    "                           validation_data=gen_word_word(dataset='valid'),\n",
    "                           validation_steps=30)"
   ]
  },
  {
   "cell_type": "code",
   "execution_count": null,
   "metadata": {
    "colab": {},
    "colab_type": "code",
    "id": "G2l21JdFPo3A"
   },
   "outputs": [],
   "source": [
    "history = pd.DataFrame(hist.history)"
   ]
  },
  {
   "cell_type": "code",
   "execution_count": null,
   "metadata": {
    "colab": {
     "base_uri": "https://localhost:8080/",
     "height": 301
    },
    "colab_type": "code",
    "id": "jQLqEZwRPo3M",
    "outputId": "9e0c5672-82b6-4fdb-8f11-739eb0007baa"
   },
   "outputs": [],
   "source": [
    "print(history.columns)\n",
    "history.loc[:,['PPL','val_PPL']].tail(4600).plot()"
   ]
  },
  {
   "cell_type": "code",
   "execution_count": null,
   "metadata": {
    "colab": {},
    "colab_type": "code",
    "id": "kI9DyqjoPo3s"
   },
   "outputs": [],
   "source": [
    "# path_model = local_path + 'model/model.keras'\n",
    "# model.save(path_model)"
   ]
  },
  {
   "cell_type": "code",
   "execution_count": null,
   "metadata": {
    "colab": {},
    "colab_type": "code",
    "id": "V_USEcjEPo3x"
   },
   "outputs": [],
   "source": [
    "from tensorflow.python.keras.models import load_model\n",
    "\n",
    "model_restore = load_model(path_model, custom_objects={'ACC':ACC,'PPL': PPL})"
   ]
  },
  {
   "cell_type": "code",
   "execution_count": null,
   "metadata": {
    "colab": {
     "base_uri": "https://localhost:8080/",
     "height": 1129
    },
    "colab_type": "code",
    "id": "9iSl3szGPo37",
    "outputId": "150689c7-d3fb-4935-9184-dfc4ec6ef708",
    "scrolled": false
   },
   "outputs": [],
   "source": [
    "hist = model_restore.fit_generator(generator=gen_word_word(), \n",
    "                           steps_per_epoch=50, epochs=1,\n",
    "                           callbacks=callback_lists,\n",
    "                           validation_data=gen_word_word(dataset='valid'),\n",
    "                           validation_steps=30)"
   ]
  },
  {
   "cell_type": "code",
   "execution_count": null,
   "metadata": {
    "colab": {
     "base_uri": "https://localhost:8080/",
     "height": 301
    },
    "colab_type": "code",
    "id": "WPNTJojePo4D",
    "outputId": "8b2ce958-73e2-4498-9f01-78d2f5d49a86"
   },
   "outputs": [],
   "source": [
    "history = pd.DataFrame(hist.history)\n",
    "print(history.columns)\n",
    "history.loc[:,['PPL','val_PPL']].tail(4600).plot()"
   ]
  },
  {
   "cell_type": "code",
   "execution_count": null,
   "metadata": {
    "colab": {},
    "colab_type": "code",
    "id": "SY8V79vOPo4N"
   },
   "outputs": [],
   "source": [
    "def predict_seq(model, preSeq=None, genLen=seq_len, power=1):\n",
    "    \"\"\" Predict a sequence with length genLen.\n",
    "        arg:\n",
    "            model: Keras model used to predict.\n",
    "            preSeq: list. The leading sequence.\n",
    "            genLen: float or np.inf. If power is equal to np.inf, then an argmax will be used. \n",
    "            power: Probility power.\n",
    "    \"\"\"\n",
    "    preSeq = [word_to_id['<SS>']] if preSeq == None else [word_to_id['<SS>']] + preSeq   \n",
    "    pointer = len(preSeq) - 1\n",
    "    \n",
    "    for _ in range(genLen):\n",
    "        inputSeq = np.array([preSeq])\n",
    "        prob = model.predict(inputSeq)[0, pointer, :]\n",
    "        if power==np.inf:\n",
    "            pred = np.argmax(prob)\n",
    "        else:\n",
    "            prob = np.power(prob, power)\n",
    "            prob = prob / np.sum(prob)\n",
    "            pred = np.random.choice(range(voc_size), p=prob)\n",
    "        preSeq.append(pred)\n",
    "        pointer = pointer + 1\n",
    "\n",
    "    return preSeq, ' '.join([id_to_word[id] for id in preSeq])"
   ]
  },
  {
   "cell_type": "code",
   "execution_count": null,
   "metadata": {},
   "outputs": [],
   "source": [
    "_, seq = predict_seq(model, power=1)\n",
    "seq"
   ]
  },
  {
   "cell_type": "code",
   "execution_count": null,
   "metadata": {},
   "outputs": [],
   "source": []
  },
  {
   "cell_type": "markdown",
   "metadata": {},
   "source": [
    "## Character aware model\n",
    "\n",
    "[Character-Aware Neural Language Models -- arxiv-1508.06615](https://arxiv.org/abs/1508.06615)\n",
    "\n",
    "\n",
    "![model](https://note.youdao.com/yws/public/resource/79e50c256138df0612b682ab6d78d879/xmlnote/37A115A075C1428985237222C22CD945/22053)\n"
   ]
  },
  {
   "cell_type": "markdown",
   "metadata": {
    "colab": {},
    "colab_type": "code",
    "id": "fKog3W-MPo4c"
   },
   "source": [
    "## Load data"
   ]
  },
  {
   "cell_type": "markdown",
   "metadata": {},
   "source": [
    "### convert to text"
   ]
  },
  {
   "cell_type": "code",
   "execution_count": null,
   "metadata": {},
   "outputs": [],
   "source": [
    "train_data_text = [id_to_word[idx] for idx in train_data]\n",
    "valid_data_text = [id_to_word[idx] for idx in valid_data]\n",
    "test_data_text = [id_to_word[idx] for idx in test_data]\n",
    "total_data_text = train_data_text + valid_data_text + test_data_text\n",
    "\n",
    "maxWordLen = max([len(word) for word in total_data_text])\n",
    "maxWordLen += 2 # Start and End character\n",
    "\n",
    "ds = pd.Series([len(word) for word in total_data_text])\n",
    "ds.plot.hist(bins=range(1, maxWordLen))\n",
    "plt.title('word length distribution, max={0}, min={1}'.\n",
    "          format(ds.max(), ds.min()))"
   ]
  },
  {
   "cell_type": "markdown",
   "metadata": {},
   "source": [
    "### merge chars"
   ]
  },
  {
   "cell_type": "code",
   "execution_count": null,
   "metadata": {},
   "outputs": [],
   "source": [
    "chars = []\n",
    "for word in total_data_text:\n",
    "    chars.extend(list(word))\n",
    "    \n",
    "ds = pd.Series(chars)\n",
    "ds.value_counts().plot.bar()\n",
    "plt.title('character distribution, total {0} characters(without \\'S\\' and \\'E\\')'.format(len(set(chars))))\n",
    "\n",
    "chars = list(set(chars + ['S'] + ['E'] + [' ']))\n",
    "# 'S' for word leading char, 'E' for word ending char, space for padding\n",
    "id_to_chars = dict(enumerate(chars))\n",
    "chars_to_id = dict((v, k) for k,v in id_to_chars.items())\n",
    "num_chars = len(chars)\n",
    "\n",
    "print('number of chars:', num_chars, '\\n')\n",
    "print(chars, '\\n')\n",
    "print(id_to_chars, '\\n')\n",
    "print(chars_to_id, '\\n')"
   ]
  },
  {
   "cell_type": "code",
   "execution_count": null,
   "metadata": {},
   "outputs": [],
   "source": [
    "def word_to_charId(wordId):\n",
    "    wordString = 'S' + id_to_word[wordId].center(maxWordLen - 2) + 'E'\n",
    "    return [chars_to_id[char] for char in wordString]\n",
    "\n",
    "def wordSeq_charSeq(bWordSeq):\n",
    "    batch, seqLen = bWordSeq.shape\n",
    "    bWordSeq = bWordSeq.ravel()\n",
    "    charSeq = np.array([word_to_charId(wordId) for wordId in bWordSeq])\n",
    "    return charSeq.reshape(batch, seqLen, -1)\n",
    "\n",
    "word_to_charId(word_to_id['the']) # "
   ]
  },
  {
   "cell_type": "code",
   "execution_count": null,
   "metadata": {},
   "outputs": [],
   "source": [
    "import random\n",
    "\n",
    "from tensorflow.python.keras.utils import to_categorical \n",
    "\n",
    "def gen_char_word(batch_size=128, dataset='train'):\n",
    "    assert dataset in ['train', 'valid', 'test'], 'Dataset must be train or valid or test.'\n",
    "    \n",
    "    dic = {'train':train_data, 'valid':valid_data, 'test':test_data}\n",
    "    data = dic[dataset]\n",
    "    \n",
    "    while True:\n",
    "        rnd_idxs = list(range(len(data)-seq_len-1))\n",
    "        random.shuffle(rnd_idxs)\n",
    "        cnt = 0\n",
    "        while cnt < len(rnd_idxs) - batch_size :\n",
    "            X = np.array([[word_to_id['<SS>']] + data[i:i+seq_len] + [word_to_id['<EE>']]\n",
    "                          for i in rnd_idxs[cnt:cnt+batch_size]])\n",
    "            Y = X[:,1:]\n",
    "            X = X[:,:-1]\n",
    "            Y = to_categorical(Y)\n",
    "            X = wordSeq_charSeq(X) \n",
    "            #print(X.shape)\n",
    "            cnt += batch_size\n",
    "            yield X, Y"
   ]
  },
  {
   "cell_type": "code",
   "execution_count": null,
   "metadata": {},
   "outputs": [],
   "source": [
    "next(gen_char_word(batch_size=1, dataset='train'))[0][0]"
   ]
  },
  {
   "cell_type": "code",
   "execution_count": null,
   "metadata": {},
   "outputs": [],
   "source": []
  }
 ],
 "metadata": {
  "accelerator": "GPU",
  "colab": {
   "collapsed_sections": [],
   "name": "Keras - Character-Aware Neural Language Models.ipynb",
   "provenance": [],
   "version": "0.3.2"
  },
  "kernelspec": {
   "display_name": "Python 3",
   "language": "python",
   "name": "python3"
  },
  "language_info": {
   "codemirror_mode": {
    "name": "ipython",
    "version": 3
   },
   "file_extension": ".py",
   "mimetype": "text/x-python",
   "name": "python",
   "nbconvert_exporter": "python",
   "pygments_lexer": "ipython3",
   "version": "3.5.2"
  }
 },
 "nbformat": 4,
 "nbformat_minor": 1
}
