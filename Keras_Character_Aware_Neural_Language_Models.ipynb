{
  "nbformat": 4,
  "nbformat_minor": 0,
  "metadata": {
    "colab": {
      "name": "Keras - Character-Aware Neural Language Models.ipynb",
      "version": "0.3.2",
      "provenance": [],
      "collapsed_sections": []
    },
    "kernelspec": {
      "display_name": "Python 3",
      "language": "python",
      "name": "python3"
    },
    "accelerator": "GPU"
  },
  "cells": [
    {
      "cell_type": "markdown",
      "metadata": {
        "id": "view-in-github",
        "colab_type": "text"
      },
      "source": [
        "[View in Colaboratory](https://colab.research.google.com/github/stikbuf/Language_Modeling/blob/master/Keras_Character_Aware_Neural_Language_Models.ipynb)"
      ]
    },
    {
      "metadata": {
        "id": "4_0CMzmyQXoy",
        "colab_type": "text"
      },
      "cell_type": "markdown",
      "source": [
        "## Configure the cloud environment\n"
      ]
    },
    {
      "metadata": {
        "id": "QB7JyNTfQfKF",
        "colab_type": "text"
      },
      "cell_type": "markdown",
      "source": [
        "### Mount Google Drive"
      ]
    },
    {
      "metadata": {
        "id": "oTB-axrvQiZU",
        "colab_type": "code",
        "colab": {
          "base_uri": "https://localhost:8080/",
          "height": 2539
        },
        "outputId": "e2997ab7-5a01-4406-d696-aae0c2c981aa"
      },
      "cell_type": "code",
      "source": [
        "# Install a Drive FUSE wrapper.\n",
        "# https://github.com/astrada/google-drive-ocamlfuse\n",
        "!apt-get install -y -qq software-properties-common python-software-properties module-init-tools\n",
        "!add-apt-repository -y ppa:alessandro-strada/ppa 2>&1 > /dev/null\n",
        "!apt-get update -qq 2>&1 > /dev/null\n",
        "!apt-get -y install -qq google-drive-ocamlfuse fuse\n",
        "\n",
        "\n",
        "# Generate auth tokens for Colab\n",
        "from google.colab import auth\n",
        "auth.authenticate_user()\n",
        "\n",
        "\n",
        "# Generate creds for the Drive FUSE library.\n",
        "from oauth2client.client import GoogleCredentials\n",
        "creds = GoogleCredentials.get_application_default()\n",
        "import getpass\n",
        "!google-drive-ocamlfuse -headless -id={creds.client_id} -secret={creds.client_secret} < /dev/null 2>&1 | grep URL\n",
        "vcode = getpass.getpass()\n",
        "!echo {vcode} | google-drive-ocamlfuse -headless -id={creds.client_id} -secret={creds.client_secret}"
      ],
      "execution_count": 0,
      "outputs": [
        {
          "output_type": "stream",
          "text": [
            "Preconfiguring packages ...\n",
            "Selecting previously unselected package cron.\n",
            "(Reading database ... 18298 files and directories currently installed.)\n",
            "Preparing to unpack .../00-cron_3.0pl1-128ubuntu5_amd64.deb ...\n",
            "Unpacking cron (3.0pl1-128ubuntu5) ...\n",
            "Selecting previously unselected package libapparmor1:amd64.\n",
            "Preparing to unpack .../01-libapparmor1_2.11.0-2ubuntu17.1_amd64.deb ...\n",
            "Unpacking libapparmor1:amd64 (2.11.0-2ubuntu17.1) ...\n",
            "Selecting previously unselected package libdbus-1-3:amd64.\n",
            "Preparing to unpack .../02-libdbus-1-3_1.10.22-1ubuntu1_amd64.deb ...\n",
            "Unpacking libdbus-1-3:amd64 (1.10.22-1ubuntu1) ...\n",
            "Selecting previously unselected package dbus.\n",
            "Preparing to unpack .../03-dbus_1.10.22-1ubuntu1_amd64.deb ...\n",
            "Unpacking dbus (1.10.22-1ubuntu1) ...\n",
            "Selecting previously unselected package dirmngr.\n",
            "Preparing to unpack .../04-dirmngr_2.1.15-1ubuntu8_amd64.deb ...\n",
            "Unpacking dirmngr (2.1.15-1ubuntu8) ...\n",
            "Selecting previously unselected package distro-info-data.\n",
            "Preparing to unpack .../05-distro-info-data_0.36ubuntu0.2_all.deb ...\n",
            "Unpacking distro-info-data (0.36ubuntu0.2) ...\n",
            "Selecting previously unselected package libkmod2:amd64.\n",
            "Preparing to unpack .../06-libkmod2_24-1ubuntu2_amd64.deb ...\n",
            "Unpacking libkmod2:amd64 (24-1ubuntu2) ...\n",
            "Selecting previously unselected package kmod.\n",
            "Preparing to unpack .../07-kmod_24-1ubuntu2_amd64.deb ...\n",
            "Unpacking kmod (24-1ubuntu2) ...\n",
            "Selecting previously unselected package lsb-release.\n",
            "Preparing to unpack .../08-lsb-release_9.20160110ubuntu5_all.deb ...\n",
            "Unpacking lsb-release (9.20160110ubuntu5) ...\n",
            "Selecting previously unselected package libgirepository-1.0-1:amd64.\n",
            "Preparing to unpack .../09-libgirepository-1.0-1_1.54.1-1_amd64.deb ...\n",
            "Unpacking libgirepository-1.0-1:amd64 (1.54.1-1) ...\n",
            "Selecting previously unselected package gir1.2-glib-2.0:amd64.\n",
            "Preparing to unpack .../10-gir1.2-glib-2.0_1.54.1-1_amd64.deb ...\n",
            "Unpacking gir1.2-glib-2.0:amd64 (1.54.1-1) ...\n",
            "Selecting previously unselected package iso-codes.\n",
            "Preparing to unpack .../11-iso-codes_3.75-1_all.deb ...\n",
            "Unpacking iso-codes (3.75-1) ...\n",
            "Selecting previously unselected package libdbus-glib-1-2:amd64.\n",
            "Preparing to unpack .../12-libdbus-glib-1-2_0.108-2_amd64.deb ...\n",
            "Unpacking libdbus-glib-1-2:amd64 (0.108-2) ...\n",
            "Selecting previously unselected package python-apt-common.\n",
            "Preparing to unpack .../13-python-apt-common_1.4.0~beta3build2_all.deb ...\n",
            "Unpacking python-apt-common (1.4.0~beta3build2) ...\n",
            "Selecting previously unselected package python3-apt.\n",
            "Preparing to unpack .../14-python3-apt_1.4.0~beta3build2_amd64.deb ...\n",
            "Unpacking python3-apt (1.4.0~beta3build2) ...\n",
            "Selecting previously unselected package python3-dbus.\n",
            "Preparing to unpack .../15-python3-dbus_1.2.4-1build3_amd64.deb ...\n",
            "Unpacking python3-dbus (1.2.4-1build3) ...\n",
            "Selecting previously unselected package python3-gi.\n",
            "Preparing to unpack .../16-python3-gi_3.24.1-2build1_amd64.deb ...\n",
            "Unpacking python3-gi (3.24.1-2build1) ...\n",
            "Selecting previously unselected package module-init-tools.\n",
            "Preparing to unpack .../17-module-init-tools_24-1ubuntu2_all.deb ...\n",
            "Unpacking module-init-tools (24-1ubuntu2) ...\n",
            "Selecting previously unselected package python-apt.\n",
            "Preparing to unpack .../18-python-apt_1.4.0~beta3build2_amd64.deb ...\n",
            "Unpacking python-apt (1.4.0~beta3build2) ...\n",
            "Selecting previously unselected package python-pycurl.\n",
            "Preparing to unpack .../19-python-pycurl_7.43.0-2build2_amd64.deb ...\n",
            "Unpacking python-pycurl (7.43.0-2build2) ...\n",
            "Selecting previously unselected package python-software-properties.\n",
            "Preparing to unpack .../20-python-software-properties_0.96.24.17_all.deb ...\n",
            "Unpacking python-software-properties (0.96.24.17) ...\n",
            "Selecting previously unselected package python3-software-properties.\n",
            "Preparing to unpack .../21-python3-software-properties_0.96.24.17_all.deb ...\n",
            "Unpacking python3-software-properties (0.96.24.17) ...\n",
            "Selecting previously unselected package software-properties-common.\n",
            "Preparing to unpack .../22-software-properties-common_0.96.24.17_all.deb ...\n",
            "Unpacking software-properties-common (0.96.24.17) ...\n",
            "Selecting previously unselected package unattended-upgrades.\n",
            "Preparing to unpack .../23-unattended-upgrades_0.98ubuntu1.1_all.deb ...\n",
            "Unpacking unattended-upgrades (0.98ubuntu1.1) ...\n",
            "Setting up python-apt-common (1.4.0~beta3build2) ...\n",
            "Setting up python3-apt (1.4.0~beta3build2) ...\n",
            "Setting up iso-codes (3.75-1) ...\n",
            "Setting up distro-info-data (0.36ubuntu0.2) ...\n",
            "Setting up python-pycurl (7.43.0-2build2) ...\n",
            "Setting up lsb-release (9.20160110ubuntu5) ...\n",
            "Setting up libgirepository-1.0-1:amd64 (1.54.1-1) ...\n",
            "Setting up libkmod2:amd64 (24-1ubuntu2) ...\n",
            "Setting up gir1.2-glib-2.0:amd64 (1.54.1-1) ...\n",
            "Processing triggers for libc-bin (2.26-0ubuntu2.1) ...\n",
            "Setting up libapparmor1:amd64 (2.11.0-2ubuntu17.1) ...\n",
            "Setting up unattended-upgrades (0.98ubuntu1.1) ...\n"
          ],
          "name": "stdout"
        },
        {
          "output_type": "stream",
          "text": [
            "\r\n",
            "Creating config file /etc/apt/apt.conf.d/20auto-upgrades with new version\n",
            "\n",
            "Creating config file /etc/apt/apt.conf.d/50unattended-upgrades with new version\n",
            "invoke-rc.d: could not determine current runlevel\n",
            "invoke-rc.d: policy-rc.d denied execution of start.\n",
            "Setting up dirmngr (2.1.15-1ubuntu8) ...\n",
            "Setting up cron (3.0pl1-128ubuntu5) ...\n",
            "Adding group `crontab' (GID 102) ...\n",
            "Done.\n",
            "update-rc.d: warning: start and stop actions are no longer supported; falling back to defaults\n",
            "update-rc.d: warning: stop runlevel arguments (1) do not match cron Default-Stop values (none)\n",
            "invoke-rc.d: could not determine current runlevel\n",
            "invoke-rc.d: policy-rc.d denied execution of start.\n",
            "Setting up libdbus-1-3:amd64 (1.10.22-1ubuntu1) ...\n",
            "Setting up kmod (24-1ubuntu2) ...\n",
            "Setting up libdbus-glib-1-2:amd64 (0.108-2) ...\n",
            "Setting up python3-gi (3.24.1-2build1) ...\n",
            "Setting up module-init-tools (24-1ubuntu2) ...\n",
            "Setting up python3-software-properties (0.96.24.17) ...\n",
            "Setting up dbus (1.10.22-1ubuntu1) ...\n",
            "Setting up python-apt (1.4.0~beta3build2) ...\n",
            "Setting up python3-dbus (1.2.4-1build3) ...\n",
            "Setting up python-software-properties (0.96.24.17) ...\n",
            "Setting up software-properties-common (0.96.24.17) ...\n",
            "Processing triggers for libc-bin (2.26-0ubuntu2.1) ...\n",
            "Processing triggers for dbus (1.10.22-1ubuntu1) ...\n",
            "gpg: keybox '/tmp/tmpr9rr7_l7/pubring.gpg' created\n",
            "gpg: /tmp/tmpr9rr7_l7/trustdb.gpg: trustdb created\n",
            "gpg: key AD5F235DF639B041: public key \"Launchpad PPA for Alessandro Strada\" imported\n",
            "gpg: Total number processed: 1\n",
            "gpg:               imported: 1\n",
            "Warning: apt-key output should not be parsed (stdout is not a terminal)\n",
            "Selecting previously unselected package libfuse2:amd64.\n",
            "(Reading database ... 19706 files and directories currently installed.)\n",
            "Preparing to unpack .../libfuse2_2.9.7-1ubuntu1_amd64.deb ...\n",
            "Unpacking libfuse2:amd64 (2.9.7-1ubuntu1) ...\n",
            "Selecting previously unselected package fuse.\n",
            "Preparing to unpack .../fuse_2.9.7-1ubuntu1_amd64.deb ...\n",
            "Unpacking fuse (2.9.7-1ubuntu1) ...\n",
            "Selecting previously unselected package google-drive-ocamlfuse.\n",
            "Preparing to unpack .../google-drive-ocamlfuse_0.6.21-0ubuntu2_amd64.deb ...\n",
            "Unpacking google-drive-ocamlfuse (0.6.21-0ubuntu2) ...\n",
            "Setting up libfuse2:amd64 (2.9.7-1ubuntu1) ...\n",
            "Processing triggers for libc-bin (2.26-0ubuntu2.1) ...\n",
            "Setting up fuse (2.9.7-1ubuntu1) ...\n",
            "Setting up google-drive-ocamlfuse (0.6.21-0ubuntu2) ...\n",
            "Please, open the following URL in a web browser: https://accounts.google.com/o/oauth2/auth?client_id=32555940559.apps.googleusercontent.com&redirect_uri=urn%3Aietf%3Awg%3Aoauth%3A2.0%3Aoob&scope=https%3A%2F%2Fwww.googleapis.com%2Fauth%2Fdrive&response_type=code&access_type=offline&approval_prompt=force\n",
            "··········\n"
          ],
          "name": "stdout"
        }
      ]
    },
    {
      "metadata": {
        "id": "zVhUtsJjQqy5",
        "colab_type": "code",
        "colab": {
          "base_uri": "https://localhost:8080/",
          "height": 35
        },
        "outputId": "fbf684be-5cab-471f-ed07-2cc929cc4e7d"
      },
      "cell_type": "code",
      "source": [
        "# If you got a \"Transport endpoint is not connected.\" error. Please run this line first to unmount the drive.\n",
        "# See https://stackoverflow.com/questions/49588113/google-colab-script-throws-transport-endpoint-is-not-connected?utm_medium=organic&utm_source=google_rich_qa&utm_campaign=google_rich_qa\n",
        "!fusermount -u drive\n",
        "\n",
        "# Create a directory and mount Google Drive using that directory.\n",
        "!mkdir -p drive\n",
        "!google-drive-ocamlfuse drive\n",
        "a = !ls drive/\n",
        "print('Files in Drive:', a)\n",
        "assert a!=[], 'Drive should not be empty!'"
      ],
      "execution_count": 2,
      "outputs": [
        {
          "output_type": "stream",
          "text": [
            "Files in Drive: ['share_with_me']\n"
          ],
          "name": "stdout"
        }
      ]
    },
    {
      "metadata": {
        "id": "bvfVOCzkRErx",
        "colab_type": "code",
        "colab": {
          "base_uri": "https://localhost:8080/",
          "height": 126
        },
        "outputId": "2b10a93a-4be4-457f-ff93-749ace078ab4"
      },
      "cell_type": "code",
      "source": [
        "local_path='./drive/share_with_me/AI/Character-aware_LM/'\n",
        "#local_path='./'\n",
        "import sys\n",
        "sys.path.append(local_path)\n",
        "!ls './drive/share_with_me/AI/Character-aware_LM/'"
      ],
      "execution_count": 3,
      "outputs": [
        {
          "output_type": "stream",
          "text": [
            "Character-Aware Neural Language Models.ipynb\r\n",
            "data\r\n",
            "data_loader.py\r\n",
            "Keras - Character-Aware Neural Language Models.ipynb\r\n",
            "__pycache__\r\n",
            "reader.py\r\n"
          ],
          "name": "stdout"
        }
      ]
    },
    {
      "metadata": {
        "id": "TbWRANsEQr6U",
        "colab_type": "code",
        "colab": {
          "base_uri": "https://localhost:8080/",
          "height": 35
        },
        "outputId": "fbedffd8-9029-4ca3-c73c-b87c6a74bfe6"
      },
      "cell_type": "code",
      "source": [
        "import tensorflow as tf\n",
        "#assert tf.test.gpu_device_name() != '', \"GPU not avaliable!\"\n",
        "tf.test.gpu_device_name()"
      ],
      "execution_count": 4,
      "outputs": [
        {
          "output_type": "execute_result",
          "data": {
            "text/plain": [
              "'/device:GPU:0'"
            ]
          },
          "metadata": {
            "tags": []
          },
          "execution_count": 4
        }
      ]
    },
    {
      "metadata": {
        "id": "yUldvgY1RH0S",
        "colab_type": "text"
      },
      "cell_type": "markdown",
      "source": [
        "## Load data"
      ]
    },
    {
      "metadata": {
        "id": "5NgfjuJbPoz9",
        "colab_type": "code",
        "colab": {}
      },
      "cell_type": "code",
      "source": [
        "from __future__ import print_function\n",
        "import os\n",
        "import matplotlib.pyplot as plt\n",
        "%matplotlib inline\n",
        "import tensorflow as tf\n",
        "import numpy as np\n",
        "import pandas as pd\n",
        "\n",
        "from reader import ptb_raw_data, ptb_producer # by Google"
      ],
      "execution_count": 0,
      "outputs": []
    },
    {
      "metadata": {
        "id": "dpHEJHNnPo0U",
        "colab_type": "code",
        "colab": {
          "base_uri": "https://localhost:8080/",
          "height": 35
        },
        "outputId": "78431c7b-a03d-4609-a381-9d7aa5b96632"
      },
      "cell_type": "code",
      "source": [
        "train_data, valid_data, test_data, word_to_id = ptb_raw_data(local_path + 'data')\n",
        "id_to_word = dict((v, k) for k, v in word_to_id.items())\n",
        "voc_size = len(id_to_word)\n",
        "voc_size"
      ],
      "execution_count": 6,
      "outputs": [
        {
          "output_type": "execute_result",
          "data": {
            "text/plain": [
              "10000"
            ]
          },
          "metadata": {
            "tags": []
          },
          "execution_count": 6
        }
      ]
    },
    {
      "metadata": {
        "id": "oZ8sUleQSoWQ",
        "colab_type": "code",
        "colab": {
          "base_uri": "https://localhost:8080/",
          "height": 35
        },
        "outputId": "c4796a76-4fe3-48a3-f62a-bef541f937b0"
      },
      "cell_type": "code",
      "source": [
        "id_to_word[voc_size]='<START>'\n",
        "id_to_word[voc_size+1]='<END>'\n",
        "word_to_id = dict((v, k) for k, v in id_to_word.items())\n",
        "voc_size = len(id_to_word)\n",
        "voc_size"
      ],
      "execution_count": 7,
      "outputs": [
        {
          "output_type": "execute_result",
          "data": {
            "text/plain": [
              "10002"
            ]
          },
          "metadata": {
            "tags": []
          },
          "execution_count": 7
        }
      ]
    },
    {
      "metadata": {
        "id": "zj8IWqJ8Po0h",
        "colab_type": "code",
        "colab": {
          "base_uri": "https://localhost:8080/",
          "height": 235
        },
        "outputId": "5e9fded6-d6d9-44f1-dfa6-9fdece6f2df4"
      },
      "cell_type": "code",
      "source": [
        "word_id = pd.DataFrame.from_dict(word_to_id, orient='index').sort_values(by=0, ascending=True)\n",
        "word_id.columns = ['id']\n",
        "print(word_id.head())\n",
        "print(word_id.tail())"
      ],
      "execution_count": 8,
      "outputs": [
        {
          "output_type": "stream",
          "text": [
            "       id\n",
            "the     0\n",
            "<unk>   1\n",
            "<eos>   2\n",
            "N       3\n",
            "of      4\n",
            "              id\n",
            "ssangyong   9997\n",
            "swapo       9998\n",
            "wachter     9999\n",
            "<START>    10000\n",
            "<END>      10001\n"
          ],
          "name": "stdout"
        }
      ]
    },
    {
      "metadata": {
        "id": "uxPQPQqMPo0t",
        "colab_type": "code",
        "colab": {
          "base_uri": "https://localhost:8080/",
          "height": 235
        },
        "outputId": "946af7f2-7906-4fa3-f2bc-d1d7bffe5428"
      },
      "cell_type": "code",
      "source": [
        "id_word = pd.DataFrame.from_dict(id_to_word, orient='index')\n",
        "id_word.columns = ['word']\n",
        "print(id_word.head())\n",
        "print(id_word.tail())"
      ],
      "execution_count": 9,
      "outputs": [
        {
          "output_type": "stream",
          "text": [
            "    word\n",
            "0    the\n",
            "1  <unk>\n",
            "2  <eos>\n",
            "3      N\n",
            "4     of\n",
            "            word\n",
            "9997   ssangyong\n",
            "9998       swapo\n",
            "9999     wachter\n",
            "10000    <START>\n",
            "10001      <END>\n"
          ],
          "name": "stdout"
        }
      ]
    },
    {
      "metadata": {
        "id": "Hz5IRBM6Po04",
        "colab_type": "code",
        "colab": {
          "base_uri": "https://localhost:8080/",
          "height": 55
        },
        "outputId": "3d885c2d-15f3-4176-e943-1ae2ed489515"
      },
      "cell_type": "code",
      "source": [
        "' '.join([id_to_word[id] for id in train_data[:30]])"
      ],
      "execution_count": 10,
      "outputs": [
        {
          "output_type": "execute_result",
          "data": {
            "text/plain": [
              "'aer banknote berlitz calloway centrust cluett fromstein gitano guterman hydro-quebec ipo kia memotec mlx nahb punts rake regatta rubens sim snack-food ssangyong swapo wachter <eos> pierre <unk> N years old'"
            ]
          },
          "metadata": {
            "tags": []
          },
          "execution_count": 10
        }
      ]
    },
    {
      "metadata": {
        "id": "GDwfc2jpPo1D",
        "colab_type": "text"
      },
      "cell_type": "markdown",
      "source": [
        "## RNN baseline"
      ]
    },
    {
      "metadata": {
        "id": "KPQMjhyePo1F",
        "colab_type": "code",
        "colab": {}
      },
      "cell_type": "code",
      "source": [
        "import random\n",
        "seq_len = 35\n",
        "\n",
        "from tensorflow.python.keras.utils import to_categorical # 源码值得一读\n",
        "\n",
        "def gen_word_word(batch_size=128, dataset='train'):\n",
        "    assert dataset in ['train', 'valid', 'test'], 'Dataset must be train or valid or test.'\n",
        "    \n",
        "    dic = {'train':train_data, 'valid':valid_data, 'test':test_data}\n",
        "    data = dic[dataset]\n",
        "    \n",
        "    while True:\n",
        "        rnd_idxs = list(range(len(data)-seq_len-1))\n",
        "        random.shuffle(rnd_idxs)\n",
        "        cnt = 0\n",
        "        while cnt < len(rnd_idxs) - batch_size :\n",
        "            X = np.array([[word_to_id['<START>']] + data[i:i+seq_len] + [word_to_id['<END>']]\n",
        "                          for i in rnd_idxs[cnt:cnt+batch_size]])\n",
        "            Y = X[:,1:]\n",
        "            X = X[:,:-1]\n",
        "            Y = to_categorical(Y)\n",
        "            #print(X.shape)\n",
        "            cnt += batch_size\n",
        "            yield X, Y"
      ],
      "execution_count": 0,
      "outputs": []
    },
    {
      "metadata": {
        "id": "ncrhxoFqWY03",
        "colab_type": "code",
        "colab": {
          "base_uri": "https://localhost:8080/",
          "height": 144
        },
        "outputId": "7308ac20-b05c-43e7-bdb4-bb32f94dbd32"
      },
      "cell_type": "code",
      "source": [
        "t = np.array([[1,0,1],[0,1,0]], dtype=int)\n",
        "to_categorical(t, num_classes=2)"
      ],
      "execution_count": 12,
      "outputs": [
        {
          "output_type": "execute_result",
          "data": {
            "text/plain": [
              "array([[[0., 1.],\n",
              "        [1., 0.],\n",
              "        [0., 1.]],\n",
              "\n",
              "       [[1., 0.],\n",
              "        [0., 1.],\n",
              "        [1., 0.]]])"
            ]
          },
          "metadata": {
            "tags": []
          },
          "execution_count": 12
        }
      ]
    },
    {
      "metadata": {
        "id": "JL6Za0iNPo1O",
        "colab_type": "code",
        "colab": {}
      },
      "cell_type": "code",
      "source": [
        "from tensorflow.python.keras.models import Sequential\n",
        "from tensorflow.python.keras.layers import GRU, Dense, Embedding, InputLayer\n",
        "from tensorflow.python.keras.optimizers import RMSprop"
      ],
      "execution_count": 0,
      "outputs": []
    },
    {
      "metadata": {
        "id": "Pt6IvftHPo1Y",
        "colab_type": "code",
        "colab": {}
      },
      "cell_type": "code",
      "source": [
        "model = Sequential()\n",
        "\n",
        "embedding_size = 8\n",
        "\n",
        "\n",
        "model.add(Embedding(input_dim=voc_size,\n",
        "                    output_dim=embedding_size,\n",
        "                    input_length=seq_len+1,\n",
        "                    name='inputEmbedding'))\n",
        "model.add(GRU(units=8, return_sequences=True))\n",
        "model.add(GRU(units=4, return_sequences=True))\n",
        "model.add(Dense(voc_size, activation='softmax'))"
      ],
      "execution_count": 0,
      "outputs": []
    },
    {
      "metadata": {
        "id": "Evcq5fYye8jt",
        "colab_type": "code",
        "colab": {}
      },
      "cell_type": "code",
      "source": [
        "# perplexity\n",
        "def PPL(y_true, y_pred):\n",
        "    return tf.exp(tf.reduce_mean(tf.keras.backend.categorical_crossentropy(y_true, y_pred)))\n",
        "\n",
        "def ACC(y_true, y_pred):\n",
        "    ACC = tf.equal(tf.argmax(y_true, axis = 2), \n",
        "                   tf.argmax(y_pred, axis = 2))\n",
        "    ACC = tf.cast(ACC, tf.float32)\n",
        "\n",
        "    return tf.reduce_mean(ACC)"
      ],
      "execution_count": 0,
      "outputs": []
    },
    {
      "metadata": {
        "id": "KRoe-64bZAWz",
        "colab_type": "code",
        "colab": {}
      },
      "cell_type": "code",
      "source": [
        "optimizer = RMSprop(lr=1e-3)\n",
        "model.compile(optimizer=optimizer,\n",
        "              loss='categorical_crossentropy',\n",
        "              metrics=[ACC, PPL])"
      ],
      "execution_count": 0,
      "outputs": []
    },
    {
      "metadata": {
        "id": "efPbWtAJPo2P",
        "colab_type": "code",
        "colab": {
          "base_uri": "https://localhost:8080/",
          "height": 290
        },
        "outputId": "c9bf68c6-3436-44f3-e4e4-04b33a82dfd0"
      },
      "cell_type": "code",
      "source": [
        "model.summary()"
      ],
      "execution_count": 17,
      "outputs": [
        {
          "output_type": "stream",
          "text": [
            "_________________________________________________________________\n",
            "Layer (type)                 Output Shape              Param #   \n",
            "=================================================================\n",
            "inputEmbedding (Embedding)   (None, 36, 8)             80016     \n",
            "_________________________________________________________________\n",
            "gru_1 (GRU)                  (None, 36, 8)             408       \n",
            "_________________________________________________________________\n",
            "gru_2 (GRU)                  (None, 36, 4)             156       \n",
            "_________________________________________________________________\n",
            "dense_1 (Dense)              (None, 36, 10002)         50010     \n",
            "=================================================================\n",
            "Total params: 130,590\n",
            "Trainable params: 130,590\n",
            "Non-trainable params: 0\n",
            "_________________________________________________________________\n"
          ],
          "name": "stdout"
        }
      ]
    },
    {
      "metadata": {
        "id": "7rWihlHePo2Z",
        "colab_type": "code",
        "colab": {
          "base_uri": "https://localhost:8080/",
          "height": 3677
        },
        "outputId": "19ef2c40-5173-42d2-e4ff-d43ff273cd1d"
      },
      "cell_type": "code",
      "source": [
        "hist = model.fit_generator(generator=gen_word_word(), \n",
        "                           steps_per_epoch=50, epochs=100,\n",
        "                           validation_data=gen_word_word(dataset='valid'),\n",
        "                           validation_steps=30)"
      ],
      "execution_count": 21,
      "outputs": [
        {
          "output_type": "stream",
          "text": [
            "Epoch 1/100\n",
            "50/50 [==============================] - 33s 661ms/step - loss: 6.1502 - ACC: 0.1115 - PPL: 469.2248 - val_loss: 6.1831 - val_ACC: 0.1110 - val_PPL: 485.0262\n",
            "Epoch 2/100\n",
            "50/50 [==============================] - 32s 639ms/step - loss: 6.1498 - ACC: 0.1113 - PPL: 469.2274 - val_loss: 6.1751 - val_ACC: 0.1118 - val_PPL: 481.2219\n",
            "Epoch 3/100\n",
            "50/50 [==============================] - 32s 639ms/step - loss: 6.1353 - ACC: 0.1123 - PPL: 462.4761 - val_loss: 6.1728 - val_ACC: 0.1134 - val_PPL: 480.0445\n",
            "Epoch 4/100\n",
            "50/50 [==============================] - 32s 639ms/step - loss: 6.1332 - ACC: 0.1135 - PPL: 461.4985 - val_loss: 6.1846 - val_ACC: 0.1112 - val_PPL: 485.6040\n",
            "Epoch 5/100\n",
            "32/50 [==================>...........] - ETA: 8s - loss: 6.1226 - ACC: 0.1138 - PPL: 456.5889"
          ],
          "name": "stdout"
        },
        {
          "output_type": "stream",
          "text": [
            "50/50 [==============================] - 32s 639ms/step - loss: 6.1233 - ACC: 0.1134 - PPL: 456.8990 - val_loss: 6.1529 - val_ACC: 0.1133 - val_PPL: 470.6709\n",
            "Epoch 6/100\n",
            "50/50 [==============================] - 32s 639ms/step - loss: 6.1144 - ACC: 0.1134 - PPL: 452.7667 - val_loss: 6.1546 - val_ACC: 0.1143 - val_PPL: 471.5120\n",
            "Epoch 7/100\n",
            "50/50 [==============================] - 32s 637ms/step - loss: 6.0996 - ACC: 0.1163 - PPL: 446.2223 - val_loss: 6.1659 - val_ACC: 0.1120 - val_PPL: 476.6141\n",
            "Epoch 8/100\n",
            "50/50 [==============================] - 32s 638ms/step - loss: 6.1066 - ACC: 0.1150 - PPL: 449.3957 - val_loss: 6.1639 - val_ACC: 0.1137 - val_PPL: 475.8817\n",
            "Epoch 9/100\n",
            "40/50 [=======================>......] - ETA: 4s - loss: 6.1053 - ACC: 0.1158 - PPL: 448.7230"
          ],
          "name": "stdout"
        },
        {
          "output_type": "stream",
          "text": [
            "50/50 [==============================] - 32s 638ms/step - loss: 6.1078 - ACC: 0.1152 - PPL: 449.7795 - val_loss: 6.1318 - val_ACC: 0.1143 - val_PPL: 461.0848\n",
            "Epoch 10/100\n",
            "50/50 [==============================] - 32s 640ms/step - loss: 6.0937 - ACC: 0.1149 - PPL: 443.4350 - val_loss: 6.1369 - val_ACC: 0.1142 - val_PPL: 463.2851\n",
            "Epoch 11/100\n",
            "50/50 [==============================] - 32s 639ms/step - loss: 6.0870 - ACC: 0.1153 - PPL: 440.6856 - val_loss: 6.1262 - val_ACC: 0.1147 - val_PPL: 458.2231\n",
            "Epoch 12/100\n",
            "50/50 [==============================] - 32s 638ms/step - loss: 6.0840 - ACC: 0.1143 - PPL: 439.4264 - val_loss: 6.1252 - val_ACC: 0.1157 - val_PPL: 457.7963\n",
            "Epoch 13/100\n",
            "40/50 [=======================>......] - ETA: 4s - loss: 6.0810 - ACC: 0.1153 - PPL: 437.9151"
          ],
          "name": "stdout"
        },
        {
          "output_type": "stream",
          "text": [
            "50/50 [==============================] - 32s 638ms/step - loss: 6.0807 - ACC: 0.1153 - PPL: 437.7661 - val_loss: 6.1223 - val_ACC: 0.1158 - val_PPL: 456.6612\n",
            "Epoch 14/100\n",
            "50/50 [==============================] - 32s 638ms/step - loss: 6.0799 - ACC: 0.1154 - PPL: 437.5617 - val_loss: 6.1142 - val_ACC: 0.1149 - val_PPL: 452.7329\n",
            "Epoch 15/100\n",
            "50/50 [==============================] - 32s 638ms/step - loss: 6.0791 - ACC: 0.1158 - PPL: 437.0671 - val_loss: 6.1105 - val_ACC: 0.1154 - val_PPL: 451.0202\n",
            "Epoch 16/100\n",
            "50/50 [==============================] - 32s 640ms/step - loss: 6.0615 - ACC: 0.1160 - PPL: 429.3798 - val_loss: 6.0919 - val_ACC: 0.1159 - val_PPL: 442.6734\n",
            "Epoch 17/100\n",
            "40/50 [=======================>......] - ETA: 4s - loss: 6.0720 - ACC: 0.1149 - PPL: 434.0397"
          ],
          "name": "stdout"
        },
        {
          "output_type": "stream",
          "text": [
            "50/50 [==============================] - 32s 639ms/step - loss: 6.0703 - ACC: 0.1154 - PPL: 433.2306 - val_loss: 6.0974 - val_ACC: 0.1157 - val_PPL: 445.1234\n",
            "Epoch 18/100\n",
            "50/50 [==============================] - 32s 637ms/step - loss: 6.0678 - ACC: 0.1164 - PPL: 432.5452 - val_loss: 6.0997 - val_ACC: 0.1151 - val_PPL: 446.1928\n",
            "Epoch 19/100\n",
            "50/50 [==============================] - 32s 639ms/step - loss: 6.0598 - ACC: 0.1164 - PPL: 428.7515 - val_loss: 6.0879 - val_ACC: 0.1151 - val_PPL: 441.1335\n",
            "Epoch 20/100\n",
            "50/50 [==============================] - 32s 639ms/step - loss: 6.0477 - ACC: 0.1168 - PPL: 423.5228 - val_loss: 6.0845 - val_ACC: 0.1172 - val_PPL: 439.4723\n",
            "Epoch 21/100\n",
            "40/50 [=======================>......] - ETA: 4s - loss: 6.0513 - ACC: 0.1167 - PPL: 425.0055"
          ],
          "name": "stdout"
        },
        {
          "output_type": "stream",
          "text": [
            "50/50 [==============================] - 32s 638ms/step - loss: 6.0518 - ACC: 0.1167 - PPL: 425.3178 - val_loss: 6.1018 - val_ACC: 0.1157 - val_PPL: 447.1437\n",
            "Epoch 22/100\n",
            "50/50 [==============================] - 32s 640ms/step - loss: 6.0522 - ACC: 0.1150 - PPL: 425.5595 - val_loss: 6.0924 - val_ACC: 0.1152 - val_PPL: 442.9209\n",
            "Epoch 23/100\n",
            "50/50 [==============================] - 32s 639ms/step - loss: 6.0502 - ACC: 0.1162 - PPL: 424.6779 - val_loss: 6.0973 - val_ACC: 0.1158 - val_PPL: 445.3396\n",
            "Epoch 24/100\n",
            "50/50 [==============================] - 32s 638ms/step - loss: 6.0326 - ACC: 0.1183 - PPL: 417.0608 - val_loss: 6.0986 - val_ACC: 0.1152 - val_PPL: 445.6640\n",
            "Epoch 25/100\n",
            "40/50 [=======================>......] - ETA: 4s - loss: 6.0428 - ACC: 0.1167 - PPL: 421.6777"
          ],
          "name": "stdout"
        },
        {
          "output_type": "stream",
          "text": [
            "50/50 [==============================] - 32s 639ms/step - loss: 6.0444 - ACC: 0.1165 - PPL: 422.3805 - val_loss: 6.0957 - val_ACC: 0.1174 - val_PPL: 444.3320\n",
            "Epoch 26/100\n",
            "50/50 [==============================] - 32s 638ms/step - loss: 6.0440 - ACC: 0.1166 - PPL: 422.0863 - val_loss: 6.0889 - val_ACC: 0.1171 - val_PPL: 441.5564\n",
            "Epoch 27/100\n",
            "50/50 [==============================] - 32s 639ms/step - loss: 6.0254 - ACC: 0.1169 - PPL: 414.1890 - val_loss: 6.0861 - val_ACC: 0.1161 - val_PPL: 440.2797\n",
            "Epoch 28/100\n",
            "50/50 [==============================] - 32s 636ms/step - loss: 6.0380 - ACC: 0.1169 - PPL: 419.4187 - val_loss: 6.0732 - val_ACC: 0.1165 - val_PPL: 434.5873\n",
            "Epoch 29/100\n",
            "40/50 [=======================>......] - ETA: 4s - loss: 6.0282 - ACC: 0.1178 - PPL: 415.5042"
          ],
          "name": "stdout"
        },
        {
          "output_type": "stream",
          "text": [
            "50/50 [==============================] - 32s 638ms/step - loss: 6.0302 - ACC: 0.1177 - PPL: 416.3162 - val_loss: 6.0840 - val_ACC: 0.1178 - val_PPL: 439.2456\n",
            "Epoch 30/100\n",
            "50/50 [==============================] - 32s 639ms/step - loss: 6.0314 - ACC: 0.1175 - PPL: 416.7431 - val_loss: 6.0802 - val_ACC: 0.1171 - val_PPL: 437.5931\n",
            "Epoch 31/100\n",
            "50/50 [==============================] - 32s 639ms/step - loss: 6.0288 - ACC: 0.1195 - PPL: 415.7878 - val_loss: 6.0684 - val_ACC: 0.1174 - val_PPL: 432.3878\n",
            "Epoch 32/100\n",
            "50/50 [==============================] - 32s 639ms/step - loss: 6.0327 - ACC: 0.1182 - PPL: 417.3174 - val_loss: 6.0750 - val_ACC: 0.1183 - val_PPL: 435.5728\n",
            "Epoch 33/100\n",
            "40/50 [=======================>......] - ETA: 4s - loss: 6.0289 - ACC: 0.1184 - PPL: 415.6082"
          ],
          "name": "stdout"
        },
        {
          "output_type": "stream",
          "text": [
            "50/50 [==============================] - 32s 638ms/step - loss: 6.0296 - ACC: 0.1184 - PPL: 415.8820 - val_loss: 6.0624 - val_ACC: 0.1196 - val_PPL: 430.0455\n",
            "Epoch 34/100\n",
            "50/50 [==============================] - 32s 639ms/step - loss: 6.0250 - ACC: 0.1175 - PPL: 414.0834 - val_loss: 6.0701 - val_ACC: 0.1183 - val_PPL: 433.2192\n",
            "Epoch 35/100\n",
            "50/50 [==============================] - 32s 639ms/step - loss: 6.0252 - ACC: 0.1199 - PPL: 414.2595 - val_loss: 6.0620 - val_ACC: 0.1182 - val_PPL: 429.6997\n",
            "Epoch 36/100\n",
            "50/50 [==============================] - 32s 641ms/step - loss: 6.0122 - ACC: 0.1198 - PPL: 408.8558 - val_loss: 6.0473 - val_ACC: 0.1197 - val_PPL: 423.2570\n",
            "Epoch 37/100\n",
            "40/50 [=======================>......] - ETA: 4s - loss: 6.0225 - ACC: 0.1202 - PPL: 412.8963"
          ],
          "name": "stdout"
        },
        {
          "output_type": "stream",
          "text": [
            "50/50 [==============================] - 32s 640ms/step - loss: 6.0208 - ACC: 0.1201 - PPL: 412.1539 - val_loss: 6.0546 - val_ACC: 0.1179 - val_PPL: 426.6140\n",
            "Epoch 38/100\n",
            "50/50 [==============================] - 32s 638ms/step - loss: 6.0100 - ACC: 0.1200 - PPL: 407.9853 - val_loss: 6.0525 - val_ACC: 0.1200 - val_PPL: 425.5755\n",
            "Epoch 39/100\n",
            "50/50 [==============================] - 32s 637ms/step - loss: 6.0139 - ACC: 0.1208 - PPL: 409.5764 - val_loss: 6.0382 - val_ACC: 0.1214 - val_PPL: 419.5765\n",
            "Epoch 40/100\n",
            "50/50 [==============================] - 32s 639ms/step - loss: 6.0066 - ACC: 0.1221 - PPL: 406.4032 - val_loss: 6.0623 - val_ACC: 0.1206 - val_PPL: 430.0912\n",
            "Epoch 41/100\n",
            "40/50 [=======================>......] - ETA: 4s - loss: 6.0105 - ACC: 0.1222 - PPL: 408.2810"
          ],
          "name": "stdout"
        },
        {
          "output_type": "stream",
          "text": [
            "50/50 [==============================] - 32s 639ms/step - loss: 6.0051 - ACC: 0.1229 - PPL: 406.1254 - val_loss: 6.0632 - val_ACC: 0.1222 - val_PPL: 430.1040\n",
            "Epoch 42/100\n",
            "50/50 [==============================] - 32s 640ms/step - loss: 6.0033 - ACC: 0.1235 - PPL: 405.1713 - val_loss: 6.0396 - val_ACC: 0.1215 - val_PPL: 420.3972\n",
            "Epoch 43/100\n",
            "50/50 [==============================] - 32s 639ms/step - loss: 5.9878 - ACC: 0.1237 - PPL: 398.9083 - val_loss: 6.0474 - val_ACC: 0.1219 - val_PPL: 423.4361\n",
            "Epoch 44/100\n",
            "50/50 [==============================] - 32s 639ms/step - loss: 5.9922 - ACC: 0.1264 - PPL: 400.7411 - val_loss: 6.0535 - val_ACC: 0.1226 - val_PPL: 425.9604\n",
            "Epoch 45/100\n",
            "40/50 [=======================>......] - ETA: 4s - loss: 5.9946 - ACC: 0.1256 - PPL: 401.6819"
          ],
          "name": "stdout"
        },
        {
          "output_type": "stream",
          "text": [
            "50/50 [==============================] - 32s 639ms/step - loss: 5.9980 - ACC: 0.1258 - PPL: 402.9855 - val_loss: 6.0483 - val_ACC: 0.1229 - val_PPL: 423.8718\n",
            "Epoch 46/100\n",
            "50/50 [==============================] - 32s 639ms/step - loss: 5.9944 - ACC: 0.1257 - PPL: 401.5305 - val_loss: 6.0510 - val_ACC: 0.1233 - val_PPL: 425.2036\n",
            "Epoch 47/100\n",
            "50/50 [==============================] - 32s 641ms/step - loss: 5.9823 - ACC: 0.1267 - PPL: 396.8550 - val_loss: 6.0286 - val_ACC: 0.1245 - val_PPL: 415.5697\n",
            "Epoch 48/100\n",
            "50/50 [==============================] - 32s 639ms/step - loss: 5.9770 - ACC: 0.1292 - PPL: 394.6976 - val_loss: 6.0385 - val_ACC: 0.1251 - val_PPL: 419.7181\n",
            "Epoch 49/100\n",
            "40/50 [=======================>......] - ETA: 4s - loss: 5.9782 - ACC: 0.1286 - PPL: 395.0857"
          ],
          "name": "stdout"
        },
        {
          "output_type": "stream",
          "text": [
            "50/50 [==============================] - 32s 636ms/step - loss: 5.9777 - ACC: 0.1288 - PPL: 394.8977 - val_loss: 6.0272 - val_ACC: 0.1257 - val_PPL: 415.2144\n",
            "Epoch 50/100\n",
            "50/50 [==============================] - 32s 639ms/step - loss: 5.9784 - ACC: 0.1297 - PPL: 395.1657 - val_loss: 6.0192 - val_ACC: 0.1296 - val_PPL: 411.8979\n",
            "Epoch 51/100\n",
            "50/50 [==============================] - 32s 640ms/step - loss: 5.9780 - ACC: 0.1307 - PPL: 395.0857 - val_loss: 5.9973 - val_ACC: 0.1297 - val_PPL: 402.9363\n",
            "Epoch 52/100\n",
            "50/50 [==============================] - 32s 639ms/step - loss: 5.9699 - ACC: 0.1314 - PPL: 391.8860 - val_loss: 6.0049 - val_ACC: 0.1323 - val_PPL: 405.9480\n",
            "Epoch 53/100\n",
            "40/50 [=======================>......] - ETA: 4s - loss: 5.9702 - ACC: 0.1318 - PPL: 392.1462"
          ],
          "name": "stdout"
        },
        {
          "output_type": "stream",
          "text": [
            "50/50 [==============================] - 32s 639ms/step - loss: 5.9694 - ACC: 0.1319 - PPL: 391.8090 - val_loss: 6.0235 - val_ACC: 0.1302 - val_PPL: 413.5680\n",
            "Epoch 54/100\n",
            "50/50 [==============================] - 32s 638ms/step - loss: 5.9718 - ACC: 0.1325 - PPL: 392.5774 - val_loss: 6.0145 - val_ACC: 0.1327 - val_PPL: 409.8630\n",
            "Epoch 55/100\n",
            "50/50 [==============================] - 32s 640ms/step - loss: 5.9609 - ACC: 0.1345 - PPL: 388.4269 - val_loss: 6.0166 - val_ACC: 0.1339 - val_PPL: 410.6639\n",
            "Epoch 56/100\n",
            "50/50 [==============================] - 32s 639ms/step - loss: 5.9472 - ACC: 0.1347 - PPL: 383.0857 - val_loss: 5.9987 - val_ACC: 0.1335 - val_PPL: 403.3767\n",
            "Epoch 57/100\n",
            "40/50 [=======================>......] - ETA: 4s - loss: 5.9452 - ACC: 0.1356 - PPL: 382.2572"
          ],
          "name": "stdout"
        },
        {
          "output_type": "stream",
          "text": [
            "50/50 [==============================] - 32s 638ms/step - loss: 5.9468 - ACC: 0.1356 - PPL: 382.8590 - val_loss: 6.0079 - val_ACC: 0.1306 - val_PPL: 407.1380\n",
            "Epoch 58/100\n",
            "50/50 [==============================] - 32s 637ms/step - loss: 5.9479 - ACC: 0.1372 - PPL: 383.4262 - val_loss: 5.9868 - val_ACC: 0.1369 - val_PPL: 398.5534\n",
            "Epoch 59/100\n",
            "50/50 [==============================] - 32s 637ms/step - loss: 5.9610 - ACC: 0.1359 - PPL: 388.5589 - val_loss: 6.0121 - val_ACC: 0.1346 - val_PPL: 408.6612\n",
            "Epoch 60/100\n",
            "50/50 [==============================] - 32s 638ms/step - loss: 5.9513 - ACC: 0.1370 - PPL: 384.7309 - val_loss: 5.9848 - val_ACC: 0.1372 - val_PPL: 398.3013\n",
            "Epoch 61/100\n",
            "40/50 [=======================>......] - ETA: 4s - loss: 5.9535 - ACC: 0.1372 - PPL: 385.5075"
          ],
          "name": "stdout"
        },
        {
          "output_type": "stream",
          "text": [
            "50/50 [==============================] - 32s 638ms/step - loss: 5.9474 - ACC: 0.1369 - PPL: 383.1856 - val_loss: 6.0006 - val_ACC: 0.1359 - val_PPL: 404.1101\n",
            "Epoch 62/100\n",
            "50/50 [==============================] - 32s 637ms/step - loss: 5.9447 - ACC: 0.1367 - PPL: 382.1133 - val_loss: 5.9905 - val_ACC: 0.1366 - val_PPL: 399.9601\n",
            "Epoch 63/100\n",
            "50/50 [==============================] - 32s 638ms/step - loss: 5.9463 - ACC: 0.1375 - PPL: 382.7540 - val_loss: 6.0020 - val_ACC: 0.1359 - val_PPL: 404.8130\n",
            "Epoch 64/100\n",
            "50/50 [==============================] - 32s 641ms/step - loss: 5.9322 - ACC: 0.1393 - PPL: 377.4256 - val_loss: 5.9937 - val_ACC: 0.1362 - val_PPL: 401.3907\n",
            "Epoch 65/100\n",
            "40/50 [=======================>......] - ETA: 4s - loss: 5.9366 - ACC: 0.1392 - PPL: 378.9517"
          ],
          "name": "stdout"
        },
        {
          "output_type": "stream",
          "text": [
            "50/50 [==============================] - 32s 638ms/step - loss: 5.9339 - ACC: 0.1393 - PPL: 377.9264 - val_loss: 5.9929 - val_ACC: 0.1362 - val_PPL: 401.2404\n",
            "Epoch 66/100\n",
            "50/50 [==============================] - 32s 639ms/step - loss: 5.9525 - ACC: 0.1376 - PPL: 385.2220 - val_loss: 5.9906 - val_ACC: 0.1378 - val_PPL: 399.9568\n",
            "Epoch 67/100\n",
            "50/50 [==============================] - 32s 637ms/step - loss: 5.9359 - ACC: 0.1389 - PPL: 378.7747 - val_loss: 5.9820 - val_ACC: 0.1376 - val_PPL: 396.7904\n",
            "Epoch 68/100\n",
            "50/50 [==============================] - 32s 636ms/step - loss: 5.9325 - ACC: 0.1392 - PPL: 377.6463 - val_loss: 5.9937 - val_ACC: 0.1382 - val_PPL: 401.4176\n",
            "Epoch 69/100\n",
            "40/50 [=======================>......] - ETA: 4s - loss: 5.9381 - ACC: 0.1387 - PPL: 379.8887"
          ],
          "name": "stdout"
        },
        {
          "output_type": "stream",
          "text": [
            "50/50 [==============================] - 32s 635ms/step - loss: 5.9362 - ACC: 0.1387 - PPL: 379.1233 - val_loss: 5.9947 - val_ACC: 0.1367 - val_PPL: 401.8117\n",
            "Epoch 70/100\n",
            "50/50 [==============================] - 32s 634ms/step - loss: 5.9369 - ACC: 0.1382 - PPL: 379.3749 - val_loss: 6.0045 - val_ACC: 0.1368 - val_PPL: 405.7368\n",
            "Epoch 71/100\n",
            "50/50 [==============================] - 32s 635ms/step - loss: 5.9178 - ACC: 0.1405 - PPL: 371.9385 - val_loss: 5.9676 - val_ACC: 0.1391 - val_PPL: 391.1734\n",
            "Epoch 72/100\n",
            "50/50 [==============================] - 32s 638ms/step - loss: 5.9286 - ACC: 0.1392 - PPL: 376.2739 - val_loss: 5.9839 - val_ACC: 0.1377 - val_PPL: 397.4005\n",
            "Epoch 73/100\n",
            "40/50 [=======================>......] - ETA: 4s - loss: 5.9316 - ACC: 0.1409 - PPL: 377.1185"
          ],
          "name": "stdout"
        },
        {
          "output_type": "stream",
          "text": [
            "50/50 [==============================] - 32s 634ms/step - loss: 5.9298 - ACC: 0.1416 - PPL: 376.3937 - val_loss: 5.9814 - val_ACC: 0.1388 - val_PPL: 396.5456\n",
            "Epoch 74/100\n",
            "50/50 [==============================] - 32s 637ms/step - loss: 5.9268 - ACC: 0.1410 - PPL: 375.4372 - val_loss: 5.9853 - val_ACC: 0.1398 - val_PPL: 398.0821\n",
            "Epoch 75/100\n",
            "50/50 [==============================] - 32s 637ms/step - loss: 5.9195 - ACC: 0.1407 - PPL: 372.6315 - val_loss: 5.9736 - val_ACC: 0.1394 - val_PPL: 393.3887\n",
            "Epoch 76/100\n",
            "50/50 [==============================] - 32s 637ms/step - loss: 5.9233 - ACC: 0.1398 - PPL: 374.1142 - val_loss: 5.9768 - val_ACC: 0.1392 - val_PPL: 394.7465\n",
            "Epoch 77/100\n",
            "40/50 [=======================>......] - ETA: 4s - loss: 5.9328 - ACC: 0.1400 - PPL: 377.6971"
          ],
          "name": "stdout"
        },
        {
          "output_type": "stream",
          "text": [
            "50/50 [==============================] - 32s 637ms/step - loss: 5.9322 - ACC: 0.1408 - PPL: 377.4379 - val_loss: 5.9583 - val_ACC: 0.1380 - val_PPL: 387.3846\n",
            "Epoch 78/100\n",
            "50/50 [==============================] - 32s 636ms/step - loss: 5.9257 - ACC: 0.1408 - PPL: 374.9363 - val_loss: 5.9879 - val_ACC: 0.1384 - val_PPL: 398.9529\n",
            "Epoch 79/100\n",
            "50/50 [==============================] - 32s 635ms/step - loss: 5.9195 - ACC: 0.1415 - PPL: 372.5751 - val_loss: 5.9772 - val_ACC: 0.1388 - val_PPL: 394.6039\n",
            "Epoch 80/100\n",
            "50/50 [==============================] - 32s 634ms/step - loss: 5.9138 - ACC: 0.1412 - PPL: 370.5226 - val_loss: 5.9747 - val_ACC: 0.1400 - val_PPL: 393.8867\n",
            "Epoch 81/100\n",
            "40/50 [=======================>......] - ETA: 4s - loss: 5.9273 - ACC: 0.1408 - PPL: 375.6502"
          ],
          "name": "stdout"
        },
        {
          "output_type": "stream",
          "text": [
            "50/50 [==============================] - 32s 635ms/step - loss: 5.9328 - ACC: 0.1410 - PPL: 377.7127 - val_loss: 5.9668 - val_ACC: 0.1388 - val_PPL: 390.6250\n",
            "Epoch 82/100\n",
            "50/50 [==============================] - 32s 636ms/step - loss: 5.9133 - ACC: 0.1416 - PPL: 370.2142 - val_loss: 5.9761 - val_ACC: 0.1395 - val_PPL: 394.2443\n",
            "Epoch 83/100\n",
            "50/50 [==============================] - 32s 636ms/step - loss: 5.9225 - ACC: 0.1415 - PPL: 374.0902 - val_loss: 5.9783 - val_ACC: 0.1411 - val_PPL: 395.3300\n",
            "Epoch 84/100\n",
            "50/50 [==============================] - 32s 636ms/step - loss: 5.9164 - ACC: 0.1415 - PPL: 371.4807 - val_loss: 5.9857 - val_ACC: 0.1388 - val_PPL: 398.2351\n",
            "Epoch 85/100\n",
            "40/50 [=======================>......] - ETA: 4s - loss: 5.9232 - ACC: 0.1402 - PPL: 374.2798"
          ],
          "name": "stdout"
        },
        {
          "output_type": "stream",
          "text": [
            "50/50 [==============================] - 32s 636ms/step - loss: 5.9209 - ACC: 0.1404 - PPL: 373.4409 - val_loss: 5.9706 - val_ACC: 0.1384 - val_PPL: 392.1664\n",
            "Epoch 86/100\n",
            "50/50 [==============================] - 32s 636ms/step - loss: 5.9093 - ACC: 0.1417 - PPL: 368.8361 - val_loss: 5.9686 - val_ACC: 0.1410 - val_PPL: 391.2916\n",
            "Epoch 87/100\n",
            "50/50 [==============================] - 32s 637ms/step - loss: 5.9138 - ACC: 0.1407 - PPL: 370.6100 - val_loss: 5.9643 - val_ACC: 0.1418 - val_PPL: 389.8525\n",
            "Epoch 88/100\n",
            "50/50 [==============================] - 32s 636ms/step - loss: 5.9083 - ACC: 0.1422 - PPL: 368.5324 - val_loss: 5.9435 - val_ACC: 0.1401 - val_PPL: 381.6700\n",
            "Epoch 89/100\n",
            "40/50 [=======================>......] - ETA: 4s - loss: 5.9064 - ACC: 0.1426 - PPL: 367.5835"
          ],
          "name": "stdout"
        },
        {
          "output_type": "stream",
          "text": [
            "50/50 [==============================] - 32s 635ms/step - loss: 5.9081 - ACC: 0.1426 - PPL: 368.2608 - val_loss: 5.9610 - val_ACC: 0.1409 - val_PPL: 388.7531\n",
            "Epoch 90/100\n",
            "50/50 [==============================] - 32s 635ms/step - loss: 5.9186 - ACC: 0.1422 - PPL: 372.2413 - val_loss: 5.9709 - val_ACC: 0.1409 - val_PPL: 392.4097\n",
            "Epoch 91/100\n",
            "50/50 [==============================] - 32s 637ms/step - loss: 5.9180 - ACC: 0.1413 - PPL: 372.0039 - val_loss: 5.9840 - val_ACC: 0.1395 - val_PPL: 397.5971\n",
            "Epoch 92/100\n",
            "50/50 [==============================] - 32s 637ms/step - loss: 5.9185 - ACC: 0.1414 - PPL: 372.2080 - val_loss: 5.9686 - val_ACC: 0.1406 - val_PPL: 391.4560\n",
            "Epoch 93/100\n",
            "40/50 [=======================>......] - ETA: 4s - loss: 5.9201 - ACC: 0.1408 - PPL: 372.7573"
          ],
          "name": "stdout"
        },
        {
          "output_type": "stream",
          "text": [
            "50/50 [==============================] - 32s 638ms/step - loss: 5.9176 - ACC: 0.1406 - PPL: 371.9522 - val_loss: 5.9583 - val_ACC: 0.1406 - val_PPL: 387.6868\n",
            "Epoch 94/100\n",
            "50/50 [==============================] - 32s 634ms/step - loss: 5.9096 - ACC: 0.1430 - PPL: 368.9381 - val_loss: 5.9769 - val_ACC: 0.1396 - val_PPL: 394.5734\n",
            "Epoch 95/100\n",
            "50/50 [==============================] - 32s 635ms/step - loss: 5.9042 - ACC: 0.1428 - PPL: 366.9324 - val_loss: 5.9873 - val_ACC: 0.1385 - val_PPL: 398.7155\n",
            "Epoch 96/100\n",
            "50/50 [==============================] - 32s 636ms/step - loss: 5.9203 - ACC: 0.1429 - PPL: 373.0528 - val_loss: 5.9628 - val_ACC: 0.1422 - val_PPL: 389.1287\n",
            "Epoch 97/100\n",
            "40/50 [=======================>......] - ETA: 4s - loss: 5.9148 - ACC: 0.1429 - PPL: 370.9954"
          ],
          "name": "stdout"
        },
        {
          "output_type": "stream",
          "text": [
            "50/50 [==============================] - 32s 637ms/step - loss: 5.9103 - ACC: 0.1427 - PPL: 369.3276 - val_loss: 5.9733 - val_ACC: 0.1412 - val_PPL: 393.1882\n",
            "Epoch 98/100\n",
            "50/50 [==============================] - 31s 630ms/step - loss: 5.9234 - ACC: 0.1421 - PPL: 374.1049 - val_loss: 5.9786 - val_ACC: 0.1408 - val_PPL: 395.5058\n",
            "Epoch 99/100\n",
            "50/50 [==============================] - 31s 629ms/step - loss: 5.9235 - ACC: 0.1420 - PPL: 374.2499 - val_loss: 5.9617 - val_ACC: 0.1403 - val_PPL: 388.7784\n",
            "Epoch 100/100\n",
            "50/50 [==============================] - 32s 631ms/step - loss: 5.9087 - ACC: 0.1429 - PPL: 368.5741 - val_loss: 5.9675 - val_ACC: 0.1408 - val_PPL: 390.9432\n"
          ],
          "name": "stdout"
        }
      ]
    },
    {
      "metadata": {
        "id": "G2l21JdFPo3A",
        "colab_type": "code",
        "colab": {}
      },
      "cell_type": "code",
      "source": [
        "history = pd.DataFrame(hist.history)"
      ],
      "execution_count": 0,
      "outputs": []
    },
    {
      "metadata": {
        "id": "jQLqEZwRPo3M",
        "colab_type": "code",
        "colab": {
          "base_uri": "https://localhost:8080/",
          "height": 301
        },
        "outputId": "9e0c5672-82b6-4fdb-8f11-739eb0007baa"
      },
      "cell_type": "code",
      "source": [
        "print(history.columns)\n",
        "history.loc[:,['PPL','val_PPL']].tail(4600).plot()"
      ],
      "execution_count": 23,
      "outputs": [
        {
          "output_type": "stream",
          "text": [
            "Index(['ACC', 'PPL', 'loss', 'val_ACC', 'val_PPL', 'val_loss'], dtype='object')\n"
          ],
          "name": "stdout"
        },
        {
          "output_type": "execute_result",
          "data": {
            "text/plain": [
              "<matplotlib.axes._subplots.AxesSubplot at 0x7f2fc9cfce80>"
            ]
          },
          "metadata": {
            "tags": []
          },
          "execution_count": 23
        },
        {
          "output_type": "display_data",
          "data": {
            "image/png": "[encoded data removed]",
            "text/plain": [
              "<matplotlib.figure.Figure at 0x7f2fc9cf7da0>"
            ]
          },
          "metadata": {
            "tags": []
          }
        }
      ]
    },
    {
      "metadata": {
        "id": "_eqB6NYJPo3Y",
        "colab_type": "code",
        "colab": {}
      },
      "cell_type": "code",
      "source": [
        "def predict_seq()"
      ],
      "execution_count": 0,
      "outputs": []
    },
    {
      "metadata": {
        "id": "jId-pIiWPo3h",
        "colab_type": "code",
        "colab": {}
      },
      "cell_type": "code",
      "source": [
        "!ls ./drive/share_with_me/AI/Character-aware_LM/model"
      ],
      "execution_count": 0,
      "outputs": []
    },
    {
      "metadata": {
        "id": "kI9DyqjoPo3s",
        "colab_type": "code",
        "colab": {}
      },
      "cell_type": "code",
      "source": [
        "path_model = local_path + 'model/model.keras'\n",
        "model.save(path_model)"
      ],
      "execution_count": 0,
      "outputs": []
    },
    {
      "metadata": {
        "id": "V_USEcjEPo3x",
        "colab_type": "code",
        "colab": {}
      },
      "cell_type": "code",
      "source": [
        "from tensorflow.python.keras.models import load_model\n",
        "\n",
        "model_restore = load_model(path_model, custom_objects={'ACC':ACC,'PPL': PPL})"
      ],
      "execution_count": 0,
      "outputs": []
    },
    {
      "metadata": {
        "id": "9iSl3szGPo37",
        "colab_type": "code",
        "colab": {
          "base_uri": "https://localhost:8080/",
          "height": 1129
        },
        "outputId": "150689c7-d3fb-4935-9184-dfc4ec6ef708"
      },
      "cell_type": "code",
      "source": [
        "hist = model_restore.fit_generator(generator=gen_word_word(), \n",
        "                           steps_per_epoch=50, epochs=30,\n",
        "                           validation_data=gen_word_word(dataset='valid'),\n",
        "                           validation_steps=30)"
      ],
      "execution_count": 42,
      "outputs": [
        {
          "output_type": "stream",
          "text": [
            "Epoch 1/30\n",
            "50/50 [==============================] - 33s 653ms/step - loss: 5.8944 - ACC: 0.1480 - PPL: 363.5263 - val_loss: 5.9605 - val_ACC: 0.1466 - val_PPL: 388.1917\n",
            "Epoch 2/30\n",
            "50/50 [==============================] - 32s 635ms/step - loss: 5.8861 - ACC: 0.1497 - PPL: 360.2158 - val_loss: 5.9518 - val_ACC: 0.1464 - val_PPL: 384.9990\n",
            "Epoch 3/30\n",
            "50/50 [==============================] - 32s 635ms/step - loss: 5.8930 - ACC: 0.1480 - PPL: 362.9598 - val_loss: 5.9393 - val_ACC: 0.1465 - val_PPL: 380.1777\n",
            "Epoch 4/30\n",
            "50/50 [==============================] - 32s 634ms/step - loss: 5.8879 - ACC: 0.1489 - PPL: 361.0001 - val_loss: 5.9540 - val_ACC: 0.1472 - val_PPL: 385.8053\n",
            "Epoch 5/30\n",
            "33/50 [==================>...........] - ETA: 8s - loss: 5.8697 - ACC: 0.1503 - PPL: 354.6634"
          ],
          "name": "stdout"
        },
        {
          "output_type": "stream",
          "text": [
            "50/50 [==============================] - 32s 637ms/step - loss: 5.8765 - ACC: 0.1500 - PPL: 357.1124 - val_loss: 5.9506 - val_ACC: 0.1464 - val_PPL: 384.4385\n",
            "Epoch 6/30\n",
            "50/50 [==============================] - 32s 633ms/step - loss: 5.8776 - ACC: 0.1486 - PPL: 357.2971 - val_loss: 5.9781 - val_ACC: 0.1419 - val_PPL: 395.2691\n",
            "Epoch 7/30\n",
            "50/50 [==============================] - 32s 635ms/step - loss: 5.9062 - ACC: 0.1479 - PPL: 367.8513 - val_loss: 5.9615 - val_ACC: 0.1436 - val_PPL: 388.5396\n",
            "Epoch 8/30\n",
            "50/50 [==============================] - 32s 636ms/step - loss: 5.8886 - ACC: 0.1490 - PPL: 361.5197 - val_loss: 5.9478 - val_ACC: 0.1472 - val_PPL: 383.2438\n",
            "Epoch 9/30\n",
            "41/50 [=======================>......] - ETA: 4s - loss: 5.8984 - ACC: 0.1479 - PPL: 364.7877"
          ],
          "name": "stdout"
        },
        {
          "output_type": "stream",
          "text": [
            "50/50 [==============================] - 32s 637ms/step - loss: 5.8958 - ACC: 0.1483 - PPL: 363.8770 - val_loss: 5.9494 - val_ACC: 0.1466 - val_PPL: 383.8188\n",
            "Epoch 10/30\n",
            "50/50 [==============================] - 32s 635ms/step - loss: 5.8862 - ACC: 0.1486 - PPL: 360.5114 - val_loss: 5.9527 - val_ACC: 0.1477 - val_PPL: 385.2807\n",
            "Epoch 11/30\n",
            "50/50 [==============================] - 32s 636ms/step - loss: 5.8865 - ACC: 0.1487 - PPL: 360.6335 - val_loss: 5.9501 - val_ACC: 0.1461 - val_PPL: 384.1169\n",
            "Epoch 12/30\n",
            "50/50 [==============================] - 32s 636ms/step - loss: 5.8919 - ACC: 0.1490 - PPL: 362.6028 - val_loss: 5.9615 - val_ACC: 0.1461 - val_PPL: 388.6056\n",
            "Epoch 13/30\n",
            "41/50 [=======================>......] - ETA: 4s - loss: 5.8776 - ACC: 0.1498 - PPL: 357.3819"
          ],
          "name": "stdout"
        },
        {
          "output_type": "stream",
          "text": [
            "50/50 [==============================] - 32s 635ms/step - loss: 5.8836 - ACC: 0.1490 - PPL: 359.5418 - val_loss: 5.9506 - val_ACC: 0.1453 - val_PPL: 384.6296\n",
            "Epoch 14/30\n",
            "50/50 [==============================] - 32s 634ms/step - loss: 5.8755 - ACC: 0.1496 - PPL: 356.6908 - val_loss: 5.9354 - val_ACC: 0.1472 - val_PPL: 378.6008\n",
            "Epoch 15/30\n",
            "50/50 [==============================] - 32s 636ms/step - loss: 5.8845 - ACC: 0.1481 - PPL: 359.8402 - val_loss: 5.9467 - val_ACC: 0.1477 - val_PPL: 383.1359\n",
            "Epoch 16/30\n",
            "50/50 [==============================] - 32s 635ms/step - loss: 5.8851 - ACC: 0.1507 - PPL: 360.0210 - val_loss: 5.9669 - val_ACC: 0.1446 - val_PPL: 391.1294\n",
            "Epoch 17/30\n",
            "41/50 [=======================>......] - ETA: 4s - loss: 5.8959 - ACC: 0.1494 - PPL: 364.0701"
          ],
          "name": "stdout"
        },
        {
          "output_type": "stream",
          "text": [
            "50/50 [==============================] - 32s 634ms/step - loss: 5.8939 - ACC: 0.1491 - PPL: 363.3902 - val_loss: 5.9536 - val_ACC: 0.1467 - val_PPL: 385.6182\n",
            "Epoch 18/30\n",
            "50/50 [==============================] - 32s 637ms/step - loss: 5.8799 - ACC: 0.1503 - PPL: 358.2135 - val_loss: 5.9393 - val_ACC: 0.1484 - val_PPL: 380.2020\n",
            "Epoch 19/30\n",
            "50/50 [==============================] - 32s 636ms/step - loss: 5.8767 - ACC: 0.1506 - PPL: 357.2579 - val_loss: 5.9556 - val_ACC: 0.1460 - val_PPL: 386.3647\n",
            "Epoch 20/30\n",
            "50/50 [==============================] - 32s 637ms/step - loss: 5.8725 - ACC: 0.1506 - PPL: 355.4810 - val_loss: 5.9593 - val_ACC: 0.1446 - val_PPL: 387.9375\n",
            "Epoch 21/30\n",
            "41/50 [=======================>......] - ETA: 4s - loss: 5.8835 - ACC: 0.1485 - PPL: 359.5713"
          ],
          "name": "stdout"
        },
        {
          "output_type": "stream",
          "text": [
            "50/50 [==============================] - 32s 634ms/step - loss: 5.8784 - ACC: 0.1488 - PPL: 357.7268 - val_loss: 5.9524 - val_ACC: 0.1462 - val_PPL: 385.2082\n",
            "Epoch 22/30\n",
            "50/50 [==============================] - 32s 636ms/step - loss: 5.8830 - ACC: 0.1498 - PPL: 359.4412 - val_loss: 5.9483 - val_ACC: 0.1487 - val_PPL: 383.6383\n",
            "Epoch 23/30\n",
            "50/50 [==============================] - 32s 636ms/step - loss: 5.8701 - ACC: 0.1497 - PPL: 354.6169 - val_loss: 5.9658 - val_ACC: 0.1452 - val_PPL: 390.6079\n",
            "Epoch 24/30\n",
            "50/50 [==============================] - 32s 635ms/step - loss: 5.8876 - ACC: 0.1492 - PPL: 361.1778 - val_loss: 5.9478 - val_ACC: 0.1477 - val_PPL: 383.3727\n",
            "Epoch 25/30\n",
            "41/50 [=======================>......] - ETA: 4s - loss: 5.8950 - ACC: 0.1495 - PPL: 363.7785"
          ],
          "name": "stdout"
        },
        {
          "output_type": "stream",
          "text": [
            "50/50 [==============================] - 32s 635ms/step - loss: 5.8902 - ACC: 0.1498 - PPL: 361.9596 - val_loss: 5.9550 - val_ACC: 0.1467 - val_PPL: 385.9793\n",
            "Epoch 26/30\n",
            "50/50 [==============================] - 32s 636ms/step - loss: 5.8681 - ACC: 0.1509 - PPL: 354.0137 - val_loss: 5.9525 - val_ACC: 0.1443 - val_PPL: 385.1356\n",
            "Epoch 27/30\n",
            "50/50 [==============================] - 32s 632ms/step - loss: 5.8737 - ACC: 0.1502 - PPL: 356.1157 - val_loss: 5.9327 - val_ACC: 0.1485 - val_PPL: 377.6034\n",
            "Epoch 28/30\n",
            "50/50 [==============================] - 32s 638ms/step - loss: 5.8741 - ACC: 0.1507 - PPL: 356.1445 - val_loss: 5.9569 - val_ACC: 0.1484 - val_PPL: 386.9351\n",
            "Epoch 29/30\n",
            "41/50 [=======================>......] - ETA: 4s - loss: 5.8725 - ACC: 0.1516 - PPL: 355.6296"
          ],
          "name": "stdout"
        },
        {
          "output_type": "stream",
          "text": [
            "50/50 [==============================] - 32s 639ms/step - loss: 5.8764 - ACC: 0.1509 - PPL: 357.0089 - val_loss: 5.9449 - val_ACC: 0.1471 - val_PPL: 382.2111\n",
            "Epoch 30/30\n",
            "50/50 [==============================] - 32s 638ms/step - loss: 5.8802 - ACC: 0.1514 - PPL: 358.3423 - val_loss: 5.9568 - val_ACC: 0.1458 - val_PPL: 386.9660\n"
          ],
          "name": "stdout"
        }
      ]
    },
    {
      "metadata": {
        "id": "WPNTJojePo4D",
        "colab_type": "code",
        "colab": {
          "base_uri": "https://localhost:8080/",
          "height": 301
        },
        "outputId": "8b2ce958-73e2-4498-9f01-78d2f5d49a86"
      },
      "cell_type": "code",
      "source": [
        "history = pd.DataFrame(hist.history)\n",
        "print(history.columns)\n",
        "history.loc[:,['PPL','val_PPL']].tail(4600).plot()"
      ],
      "execution_count": 43,
      "outputs": [
        {
          "output_type": "stream",
          "text": [
            "Index(['ACC', 'PPL', 'loss', 'val_ACC', 'val_PPL', 'val_loss'], dtype='object')\n"
          ],
          "name": "stdout"
        },
        {
          "output_type": "execute_result",
          "data": {
            "text/plain": [
              "<matplotlib.axes._subplots.AxesSubplot at 0x7f2fc9bd7b70>"
            ]
          },
          "metadata": {
            "tags": []
          },
          "execution_count": 43
        },
        {
          "output_type": "display_data",
          "data": {
            "image/png": "[encoded data removed]",
            "text/plain": [
              "<matplotlib.figure.Figure at 0x7f2fc9bb7898>"
            ]
          },
          "metadata": {
            "tags": []
          }
        }
      ]
    },
    {
      "metadata": {
        "id": "SY8V79vOPo4N",
        "colab_type": "code",
        "colab": {}
      },
      "cell_type": "code",
      "source": [
        ""
      ],
      "execution_count": 0,
      "outputs": []
    },
    {
      "metadata": {
        "id": "P5XQ_DjcPo4V",
        "colab_type": "code",
        "colab": {}
      },
      "cell_type": "code",
      "source": [
        "X,Y = next(gen_word_word(batch_size=1, dataset='valid'))\n",
        "X = list(X[0])\n",
        "' '.join([id_to_word[id] for id in X])"
      ],
      "execution_count": 0,
      "outputs": []
    },
    {
      "metadata": {
        "id": "fKog3W-MPo4c",
        "colab_type": "code",
        "colab": {}
      },
      "cell_type": "code",
      "source": [
        ""
      ],
      "execution_count": 0,
      "outputs": []
    }
  ]
}