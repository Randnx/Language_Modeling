{
 "cells": [
  {
   "cell_type": "markdown",
   "metadata": {},
   "source": [
    "# Preparation"
   ]
  },
  {
   "cell_type": "markdown",
   "metadata": {
    "colab_type": "text",
    "id": "view-in-github"
   },
   "source": [
    "[View in Colaboratory](https://colab.research.google.com/github/stikbuf/Language_Modeling/blob/master/Keras_Character_Aware_Neural_Language_Models.ipynb)"
   ]
  },
  {
   "cell_type": "markdown",
   "metadata": {
    "colab_type": "text",
    "id": "4_0CMzmyQXoy"
   },
   "source": [
    "## Configure the cloud environment\n"
   ]
  },
  {
   "cell_type": "markdown",
   "metadata": {
    "colab_type": "text",
    "id": "QB7JyNTfQfKF"
   },
   "source": [
    "### Mount Google Drive"
   ]
  },
  {
   "cell_type": "code",
   "execution_count": null,
   "metadata": {
    "colab": {
     "base_uri": "https://localhost:8080/",
     "height": 2539
    },
    "colab_type": "code",
    "id": "oTB-axrvQiZU",
    "outputId": "e2997ab7-5a01-4406-d696-aae0c2c981aa"
   },
   "outputs": [],
   "source": [
    "# Install a Drive FUSE wrapper.\n",
    "# https://github.com/astrada/google-drive-ocamlfuse\n",
    "!apt-get install -y -qq software-properties-common python-software-properties module-init-tools\n",
    "!add-apt-repository -y ppa:alessandro-strada/ppa 2>&1 > /dev/null\n",
    "!apt-get update -qq 2>&1 > /dev/null\n",
    "!apt-get -y install -qq google-drive-ocamlfuse fuse\n",
    "\n",
    "\n",
    "# Generate auth tokens for Colab\n",
    "from google.colab import auth\n",
    "auth.authenticate_user()\n",
    "\n",
    "\n",
    "# Generate creds for the Drive FUSE library.\n",
    "from oauth2client.client import GoogleCredentials\n",
    "creds = GoogleCredentials.get_application_default()\n",
    "import getpass\n",
    "!google-drive-ocamlfuse -headless -id={creds.client_id} -secret={creds.client_secret} < /dev/null 2>&1 | grep URL\n",
    "vcode = getpass.getpass()\n",
    "!echo {vcode} | google-drive-ocamlfuse -headless -id={creds.client_id} -secret={creds.client_secret}"
   ]
  },
  {
   "cell_type": "code",
   "execution_count": null,
   "metadata": {
    "colab": {
     "base_uri": "https://localhost:8080/",
     "height": 35
    },
    "colab_type": "code",
    "id": "zVhUtsJjQqy5",
    "outputId": "fbf684be-5cab-471f-ed07-2cc929cc4e7d"
   },
   "outputs": [],
   "source": [
    "# If you got a \"Transport endpoint is not connected.\" error. Please run this line first to unmount the drive.\n",
    "# See https://stackoverflow.com/questions/49588113/google-colab-script-throws-transport-endpoint-is-not-connected?utm_medium=organic&utm_source=google_rich_qa&utm_campaign=google_rich_qa\n",
    "!fusermount -u drive\n",
    "\n",
    "# Create a directory and mount Google Drive using that directory.\n",
    "!mkdir -p drive\n",
    "!google-drive-ocamlfuse drive\n",
    "a = !ls drive/\n",
    "print('Files in Drive:', a)\n",
    "assert a!=[], 'Drive should not be empty!'"
   ]
  },
  {
   "cell_type": "code",
   "execution_count": null,
   "metadata": {
    "colab": {
     "base_uri": "https://localhost:8080/",
     "height": 126
    },
    "colab_type": "code",
    "id": "bvfVOCzkRErx",
    "outputId": "2b10a93a-4be4-457f-ff93-749ace078ab4"
   },
   "outputs": [],
   "source": [
    "local_path='./drive/share_with_me/AI/Character-aware_LM/'\n",
    "#local_path='./'\n",
    "import sys\n",
    "sys.path.append(local_path)\n",
    "!ls './drive/share_with_me/AI/Character-aware_LM/'"
   ]
  },
  {
   "cell_type": "code",
   "execution_count": null,
   "metadata": {
    "colab": {
     "base_uri": "https://localhost:8080/",
     "height": 35
    },
    "colab_type": "code",
    "id": "TbWRANsEQr6U",
    "outputId": "fbedffd8-9029-4ca3-c73c-b87c6a74bfe6"
   },
   "outputs": [],
   "source": [
    "import tensorflow as tf\n",
    "#assert tf.test.gpu_device_name() != '', \"GPU not avaliable!\"\n",
    "tf.test.gpu_device_name()"
   ]
  },
  {
   "cell_type": "markdown",
   "metadata": {
    "colab_type": "text",
    "id": "yUldvgY1RH0S"
   },
   "source": [
    "## Load data (Penn Tree bank -- PTB)"
   ]
  },
  {
   "cell_type": "code",
   "execution_count": 1,
   "metadata": {},
   "outputs": [],
   "source": [
    "local_path='./'"
   ]
  },
  {
   "cell_type": "code",
   "execution_count": 2,
   "metadata": {
    "colab": {},
    "colab_type": "code",
    "id": "5NgfjuJbPoz9"
   },
   "outputs": [
    {
     "name": "stderr",
     "output_type": "stream",
     "text": [
      "/usr/local/lib/python3.5/dist-packages/h5py/__init__.py:36: FutureWarning: Conversion of the second argument of issubdtype from `float` to `np.floating` is deprecated. In future, it will be treated as `np.float64 == np.dtype(float).type`.\n",
      "  from ._conv import register_converters as _register_converters\n"
     ]
    }
   ],
   "source": [
    "from __future__ import print_function\n",
    "import os\n",
    "import matplotlib.pyplot as plt\n",
    "%matplotlib inline\n",
    "import tensorflow as tf\n",
    "import numpy as np\n",
    "import pandas as pd\n",
    "\n",
    "from reader import ptb_raw_data, ptb_producer # by Google"
   ]
  },
  {
   "cell_type": "code",
   "execution_count": 3,
   "metadata": {
    "colab": {
     "base_uri": "https://localhost:8080/",
     "height": 35
    },
    "colab_type": "code",
    "id": "dpHEJHNnPo0U",
    "outputId": "78431c7b-a03d-4609-a381-9d7aa5b96632"
   },
   "outputs": [
    {
     "data": {
      "text/plain": [
       "10000"
      ]
     },
     "execution_count": 3,
     "metadata": {},
     "output_type": "execute_result"
    }
   ],
   "source": [
    "train_data, valid_data, test_data, word_to_id = ptb_raw_data(local_path + 'data') # tokens\n",
    "id_to_word = dict((v, k) for k, v in word_to_id.items())\n",
    "voc_size = len(id_to_word)\n",
    "voc_size"
   ]
  },
  {
   "cell_type": "code",
   "execution_count": 4,
   "metadata": {},
   "outputs": [
    {
     "name": "stdout",
     "output_type": "stream",
     "text": [
      "Train data size: 929589, Valid data size: 73760, Test data size: 82430\n",
      "\n",
      "train/val/test_data is a list, some elements in train_data is [9970, 9971, 9972, 9974, 9975, 9976, 9980, 9981, 9982, 9983]\n"
     ]
    }
   ],
   "source": [
    "print('Train data size: {0}, Valid data size: {1}, Test data size: {2}\\n'.\n",
    "      format(len(train_data), len(valid_data), len(test_data)))\n",
    "print('train/val/test_data is a list, some elements in train_data is', train_data[:10])"
   ]
  },
  {
   "cell_type": "code",
   "execution_count": 5,
   "metadata": {
    "colab": {
     "base_uri": "https://localhost:8080/",
     "height": 35
    },
    "colab_type": "code",
    "id": "oZ8sUleQSoWQ",
    "outputId": "c4796a76-4fe3-48a3-f62a-bef541f937b0"
   },
   "outputs": [
    {
     "data": {
      "text/plain": [
       "10002"
      ]
     },
     "execution_count": 5,
     "metadata": {},
     "output_type": "execute_result"
    }
   ],
   "source": [
    "id_to_word[voc_size]='<SS>' # Add start word token '<SS>'\n",
    "id_to_word[voc_size+1]='<EE>' # Add end word token '<EE>'\n",
    "word_to_id = dict((v, k) for k, v in id_to_word.items())\n",
    "voc_size = len(id_to_word)\n",
    "voc_size"
   ]
  },
  {
   "cell_type": "code",
   "execution_count": 6,
   "metadata": {
    "colab": {
     "base_uri": "https://localhost:8080/",
     "height": 235
    },
    "colab_type": "code",
    "id": "zj8IWqJ8Po0h",
    "outputId": "5e9fded6-d6d9-44f1-dfa6-9fdece6f2df4"
   },
   "outputs": [
    {
     "name": "stdout",
     "output_type": "stream",
     "text": [
      "       id\n",
      "the     0\n",
      "<unk>   1\n",
      "<eos>   2\n",
      "N       3\n",
      "of      4\n",
      "              id\n",
      "ssangyong   9997\n",
      "swapo       9998\n",
      "wachter     9999\n",
      "<SS>       10000\n",
      "<EE>       10001\n"
     ]
    }
   ],
   "source": [
    "word_id = pd.DataFrame.from_dict(word_to_id, orient='index').sort_values(by=0, ascending=True)\n",
    "word_id.columns = ['id']\n",
    "print(word_id.head())\n",
    "print(word_id.tail())"
   ]
  },
  {
   "cell_type": "code",
   "execution_count": 7,
   "metadata": {
    "colab": {
     "base_uri": "https://localhost:8080/",
     "height": 235
    },
    "colab_type": "code",
    "id": "uxPQPQqMPo0t",
    "outputId": "946af7f2-7906-4fa3-f2bc-d1d7bffe5428"
   },
   "outputs": [
    {
     "name": "stdout",
     "output_type": "stream",
     "text": [
      "    word\n",
      "0    the\n",
      "1  <unk>\n",
      "2  <eos>\n",
      "3      N\n",
      "4     of\n",
      "            word\n",
      "9997   ssangyong\n",
      "9998       swapo\n",
      "9999     wachter\n",
      "10000       <SS>\n",
      "10001       <EE>\n"
     ]
    }
   ],
   "source": [
    "id_word = pd.DataFrame.from_dict(id_to_word, orient='index')\n",
    "id_word.columns = ['word']\n",
    "print(id_word.head())\n",
    "print(id_word.tail())"
   ]
  },
  {
   "cell_type": "code",
   "execution_count": 8,
   "metadata": {
    "colab": {
     "base_uri": "https://localhost:8080/",
     "height": 55
    },
    "colab_type": "code",
    "id": "Hz5IRBM6Po04",
    "outputId": "3d885c2d-15f3-4176-e943-1ae2ed489515"
   },
   "outputs": [
    {
     "data": {
      "text/plain": [
       "'aer banknote berlitz calloway centrust cluett fromstein gitano guterman hydro-quebec ipo kia memotec mlx nahb punts rake regatta rubens sim snack-food ssangyong swapo wachter <eos> pierre <unk> N years old will join the board as a nonexecutive director nov. N <eos> mr. <unk> is chairman of <unk> n.v. the dutch'"
      ]
     },
     "execution_count": 8,
     "metadata": {},
     "output_type": "execute_result"
    }
   ],
   "source": [
    "' '.join([id_to_word[id] for id in train_data[:50]])"
   ]
  },
  {
   "cell_type": "code",
   "execution_count": 9,
   "metadata": {},
   "outputs": [],
   "source": [
    "seq_len = 35"
   ]
  },
  {
   "cell_type": "markdown",
   "metadata": {
    "colab_type": "text",
    "id": "GDwfc2jpPo1D"
   },
   "source": [
    "# RNN baseline"
   ]
  },
  {
   "cell_type": "markdown",
   "metadata": {},
   "source": [
    "## data generator"
   ]
  },
  {
   "cell_type": "code",
   "execution_count": 10,
   "metadata": {
    "colab": {},
    "colab_type": "code",
    "id": "KPQMjhyePo1F"
   },
   "outputs": [],
   "source": [
    "import random\n",
    "\n",
    "from tensorflow.python.keras.utils import to_categorical \n",
    "\n",
    "def gen_word_word(batch_size=128, dataset='train'):\n",
    "    assert dataset in ['train', 'valid', 'test'], 'Dataset must be train or valid or test.'\n",
    "    \n",
    "    dic = {'train':train_data, 'valid':valid_data, 'test':test_data}\n",
    "    data = dic[dataset]\n",
    "    \n",
    "    while True:\n",
    "        rnd_idxs = list(range(len(data)-seq_len-1))\n",
    "        random.shuffle(rnd_idxs)\n",
    "        cnt = 0\n",
    "        while cnt < len(rnd_idxs) - batch_size :\n",
    "            X = np.array([[word_to_id['<SS>']] + data[i:i+seq_len] + [word_to_id['<EE>']]\n",
    "                          for i in rnd_idxs[cnt:cnt+batch_size]])\n",
    "            Y = X[:,1:]\n",
    "            X = X[:,:-1]\n",
    "            Y = to_categorical(Y)\n",
    "            #print(X.shape)\n",
    "            cnt += batch_size\n",
    "            yield X, Y"
   ]
  },
  {
   "cell_type": "markdown",
   "metadata": {},
   "source": [
    "## Keras model"
   ]
  },
  {
   "cell_type": "code",
   "execution_count": 11,
   "metadata": {
    "colab": {},
    "colab_type": "code",
    "id": "JL6Za0iNPo1O"
   },
   "outputs": [],
   "source": [
    "from tensorflow.python.keras.models import Sequential\n",
    "from tensorflow.python.keras.layers import GRU, Dense, Embedding, InputLayer, Dropout\n",
    "from tensorflow.python.keras.optimizers import RMSprop"
   ]
  },
  {
   "cell_type": "markdown",
   "metadata": {},
   "source": [
    "Add dropout between layers, see [Recurrent Neural Network Regularization](https://arxiv.org/abs/1409.2329)"
   ]
  },
  {
   "cell_type": "code",
   "execution_count": 12,
   "metadata": {
    "colab": {},
    "colab_type": "code",
    "id": "Pt6IvftHPo1Y"
   },
   "outputs": [],
   "source": [
    "model = Sequential()\n",
    "\n",
    "embedding_size = 128\n",
    "\n",
    "\n",
    "model.add(Embedding(input_dim=voc_size,\n",
    "                    output_dim=embedding_size,\n",
    "                    name='inputEmbedding'))\n",
    "model.add(GRU(units=128, return_sequences=True))\n",
    "model.add(Dropout(0.3)) \n",
    "model.add(GRU(units=64, return_sequences=True))\n",
    "model.add(Dropout(0.2))\n",
    "model.add(Dense(voc_size, activation='softmax'))"
   ]
  },
  {
   "cell_type": "code",
   "execution_count": 13,
   "metadata": {
    "colab": {},
    "colab_type": "code",
    "id": "Evcq5fYye8jt"
   },
   "outputs": [],
   "source": [
    "# perplexity\n",
    "def PPL(y_true, y_pred):\n",
    "    return tf.exp(tf.reduce_mean(tf.keras.backend.categorical_crossentropy(y_true, y_pred)))\n",
    "\n",
    "def ACC(y_true, y_pred):\n",
    "    ACC = tf.equal(tf.argmax(y_true, axis = 2), \n",
    "                   tf.argmax(y_pred, axis = 2))\n",
    "    ACC = tf.cast(ACC, tf.float32)\n",
    "\n",
    "    return tf.reduce_mean(ACC)"
   ]
  },
  {
   "cell_type": "code",
   "execution_count": 14,
   "metadata": {
    "colab": {},
    "colab_type": "code",
    "id": "KRoe-64bZAWz"
   },
   "outputs": [],
   "source": [
    "optimizer = RMSprop(lr=1e-3)\n",
    "model.compile(optimizer=optimizer,\n",
    "              loss='categorical_crossentropy',\n",
    "              metrics=[ACC, PPL])"
   ]
  },
  {
   "cell_type": "code",
   "execution_count": 15,
   "metadata": {
    "colab": {
     "base_uri": "https://localhost:8080/",
     "height": 290
    },
    "colab_type": "code",
    "id": "efPbWtAJPo2P",
    "outputId": "c9bf68c6-3436-44f3-e4e4-04b33a82dfd0"
   },
   "outputs": [
    {
     "name": "stdout",
     "output_type": "stream",
     "text": [
      "_________________________________________________________________\n",
      "Layer (type)                 Output Shape              Param #   \n",
      "=================================================================\n",
      "inputEmbedding (Embedding)   (None, None, 128)         1280256   \n",
      "_________________________________________________________________\n",
      "gru_1 (GRU)                  (None, None, 128)         98688     \n",
      "_________________________________________________________________\n",
      "dropout_1 (Dropout)          (None, None, 128)         0         \n",
      "_________________________________________________________________\n",
      "gru_2 (GRU)                  (None, None, 64)          37056     \n",
      "_________________________________________________________________\n",
      "dropout_2 (Dropout)          (None, None, 64)          0         \n",
      "_________________________________________________________________\n",
      "dense_1 (Dense)              (None, None, 10002)       650130    \n",
      "=================================================================\n",
      "Total params: 2,066,130\n",
      "Trainable params: 2,066,130\n",
      "Non-trainable params: 0\n",
      "_________________________________________________________________\n"
     ]
    }
   ],
   "source": [
    "model.summary()"
   ]
  },
  {
   "cell_type": "code",
   "execution_count": 16,
   "metadata": {},
   "outputs": [],
   "source": [
    "from tensorflow.python.keras.callbacks import TensorBoard, ModelCheckpoint\n",
    "import os\n",
    "if not os.path.exists(local_path + 'model/'):\n",
    "    os.mkdir(local_path + 'model/')\n",
    "\n",
    "path_model = local_path + 'model/model.keras'    \n",
    "tensorboard = TensorBoard(log_dir='log')\n",
    "checkpoint = ModelCheckpoint(filepath=path_model, verbose=1,\n",
    "                             monitor='val_PPL',mode='min' ,save_best_only='True')\n",
    "# path_model = local_path + 'model/model.keras'\n",
    "# model.save(path_model)\n",
    "\n",
    "callback_lists=[tensorboard,checkpoint]"
   ]
  },
  {
   "cell_type": "code",
   "execution_count": 17,
   "metadata": {
    "colab": {
     "base_uri": "https://localhost:8080/",
     "height": 3677
    },
    "colab_type": "code",
    "id": "7rWihlHePo2Z",
    "outputId": "19ef2c40-5173-42d2-e4ff-d43ff273cd1d"
   },
   "outputs": [
    {
     "name": "stdout",
     "output_type": "stream",
     "text": [
      "Epoch 1/100\n",
      "49/50 [============================>.] - ETA: 0s - loss: 7.4025 - ACC: 0.0299 - PPL: 2238.6179\n",
      "Epoch 00001: val_PPL improved from inf to 729.31307, saving model to ./model/model.keras\n",
      "50/50 [==============================] - 55s 1s/step - loss: 7.3870 - ACC: 0.0305 - PPL: 2208.9620 - val_loss: 6.5916 - val_ACC: 0.0547 - val_PPL: 729.3131\n",
      "Epoch 2/100\n",
      "49/50 [============================>.] - ETA: 0s - loss: 6.5222 - ACC: 0.0527 - PPL: 680.8545\n",
      "Epoch 00002: val_PPL improved from 729.31307 to 656.51662, saving model to ./model/model.keras\n",
      "50/50 [==============================] - 51s 1s/step - loss: 6.5233 - ACC: 0.0528 - PPL: 681.6252 - val_loss: 6.4862 - val_ACC: 0.0551 - val_PPL: 656.5166\n",
      "Epoch 3/100\n",
      "49/50 [============================>.] - ETA: 0s - loss: 6.5067 - ACC: 0.0540 - PPL: 670.2737\n",
      "Epoch 00003: val_PPL improved from 656.51662 to 649.24152, saving model to ./model/model.keras\n",
      "50/50 [==============================] - 52s 1s/step - loss: 6.5061 - ACC: 0.0542 - PPL: 669.8924 - val_loss: 6.4749 - val_ACC: 0.0610 - val_PPL: 649.2415\n",
      "Epoch 4/100\n",
      "49/50 [============================>.] - ETA: 0s - loss: 6.4499 - ACC: 0.0648 - PPL: 633.3455\n",
      "Epoch 00004: val_PPL improved from 649.24152 to 604.99419, saving model to ./model/model.keras\n",
      "50/50 [==============================] - 49s 971ms/step - loss: 6.4498 - ACC: 0.0649 - PPL: 633.2387 - val_loss: 6.4041 - val_ACC: 0.0653 - val_PPL: 604.9942\n",
      "Epoch 5/100\n",
      "49/50 [============================>.] - ETA: 0s - loss: 6.3868 - ACC: 0.0735 - PPL: 594.6345\n",
      "Epoch 00005: val_PPL improved from 604.99419 to 562.52958, saving model to ./model/model.keras\n",
      "50/50 [==============================] - 51s 1s/step - loss: 6.3857 - ACC: 0.0736 - PPL: 593.9719 - val_loss: 6.3311 - val_ACC: 0.0865 - val_PPL: 562.5296\n",
      "Epoch 6/100\n",
      "49/50 [============================>.] - ETA: 0s - loss: 6.3105 - ACC: 0.0879 - PPL: 550.8956\n",
      "Epoch 00006: val_PPL improved from 562.52958 to 543.89324, saving model to ./model/model.keras\n",
      "50/50 [==============================] - 51s 1s/step - loss: 6.3095 - ACC: 0.0880 - PPL: 550.3092 - val_loss: 6.2976 - val_ACC: 0.0960 - val_PPL: 543.8932\n",
      "Epoch 7/100\n",
      "49/50 [============================>.] - ETA: 0s - loss: 6.2349 - ACC: 0.1018 - PPL: 510.7661\n",
      "Epoch 00007: val_PPL improved from 543.89324 to 487.47160, saving model to ./model/model.keras\n",
      "50/50 [==============================] - 49s 974ms/step - loss: 6.2331 - ACC: 0.1020 - PPL: 509.8584 - val_loss: 6.1879 - val_ACC: 0.1118 - val_PPL: 487.4716\n",
      "Epoch 8/100\n",
      "49/50 [============================>.] - ETA: 0s - loss: 6.1627 - ACC: 0.1119 - PPL: 475.4521\n",
      "Epoch 00008: val_PPL improved from 487.47160 to 456.62706, saving model to ./model/model.keras\n",
      "50/50 [==============================] - 51s 1s/step - loss: 6.1609 - ACC: 0.1121 - PPL: 474.6371 - val_loss: 6.1225 - val_ACC: 0.1177 - val_PPL: 456.6271\n",
      "Epoch 9/100\n",
      "49/50 [============================>.] - ETA: 0s - loss: 6.0888 - ACC: 0.1191 - PPL: 441.5484\n",
      "Epoch 00009: val_PPL improved from 456.62706 to 423.12172, saving model to ./model/model.keras\n",
      "50/50 [==============================] - 51s 1s/step - loss: 6.0874 - ACC: 0.1192 - PPL: 440.9254 - val_loss: 6.0463 - val_ACC: 0.1232 - val_PPL: 423.1217\n",
      "Epoch 10/100\n",
      "49/50 [============================>.] - ETA: 0s - loss: 6.0156 - ACC: 0.1255 - PPL: 410.4352\n",
      "Epoch 00010: val_PPL improved from 423.12172 to 397.22348, saving model to ./model/model.keras\n",
      "50/50 [==============================] - 51s 1s/step - loss: 6.0170 - ACC: 0.1255 - PPL: 410.9762 - val_loss: 5.9831 - val_ACC: 0.1267 - val_PPL: 397.2235\n",
      "Epoch 11/100\n",
      "49/50 [============================>.] - ETA: 0s - loss: 5.9734 - ACC: 0.1313 - PPL: 393.3070\n",
      "Epoch 00011: val_PPL improved from 397.22348 to 386.95126, saving model to ./model/model.keras\n",
      "50/50 [==============================] - 50s 1s/step - loss: 5.9742 - ACC: 0.1312 - PPL: 393.6298 - val_loss: 5.9565 - val_ACC: 0.1302 - val_PPL: 386.9513\n",
      "Epoch 12/100\n",
      "49/50 [============================>.] - ETA: 0s - loss: 5.9391 - ACC: 0.1355 - PPL: 380.3861\n",
      "Epoch 00012: val_PPL improved from 386.95126 to 375.40058, saving model to ./model/model.keras\n",
      "50/50 [==============================] - 50s 1s/step - loss: 5.9404 - ACC: 0.1353 - PPL: 380.8729 - val_loss: 5.9265 - val_ACC: 0.1407 - val_PPL: 375.4006\n",
      "Epoch 13/100\n",
      "49/50 [============================>.] - ETA: 0s - loss: 5.8889 - ACC: 0.1390 - PPL: 361.5832\n",
      "Epoch 00013: val_PPL improved from 375.40058 to 348.37696, saving model to ./model/model.keras\n",
      "50/50 [==============================] - 50s 1s/step - loss: 5.8874 - ACC: 0.1389 - PPL: 361.0691 - val_loss: 5.8519 - val_ACC: 0.1486 - val_PPL: 348.3770\n",
      "Epoch 14/100\n",
      "49/50 [============================>.] - ETA: 0s - loss: 5.8501 - ACC: 0.1447 - PPL: 347.9056\n",
      "Epoch 00014: val_PPL improved from 348.37696 to 333.67055, saving model to ./model/model.keras\n",
      "50/50 [==============================] - 51s 1s/step - loss: 5.8486 - ACC: 0.1448 - PPL: 347.3916 - val_loss: 5.8081 - val_ACC: 0.1517 - val_PPL: 333.6706\n",
      "Epoch 15/100\n",
      "49/50 [============================>.] - ETA: 0s - loss: 5.8114 - ACC: 0.1471 - PPL: 334.4995\n",
      "Epoch 00015: val_PPL improved from 333.67055 to 325.36930, saving model to ./model/model.keras\n",
      "50/50 [==============================] - 49s 985ms/step - loss: 5.8112 - ACC: 0.1472 - PPL: 334.4446 - val_loss: 5.7832 - val_ACC: 0.1513 - val_PPL: 325.3693\n",
      "Epoch 16/100\n",
      "49/50 [============================>.] - ETA: 0s - loss: 5.7789 - ACC: 0.1500 - PPL: 323.8882\n",
      "Epoch 00016: val_PPL improved from 325.36930 to 314.00920, saving model to ./model/model.keras\n",
      "50/50 [==============================] - 50s 1s/step - loss: 5.7804 - ACC: 0.1500 - PPL: 324.3939 - val_loss: 5.7475 - val_ACC: 0.1568 - val_PPL: 314.0092\n",
      "Epoch 17/100\n",
      "49/50 [============================>.] - ETA: 0s - loss: 5.7537 - ACC: 0.1519 - PPL: 315.8327\n",
      "Epoch 00017: val_PPL improved from 314.00920 to 308.17599, saving model to ./model/model.keras\n",
      "50/50 [==============================] - 51s 1s/step - loss: 5.7532 - ACC: 0.1521 - PPL: 315.6607 - val_loss: 5.7289 - val_ACC: 0.1604 - val_PPL: 308.1760\n",
      "Epoch 18/100\n",
      "49/50 [============================>.] - ETA: 0s - loss: 5.7405 - ACC: 0.1536 - PPL: 311.8603\n",
      "Epoch 00018: val_PPL improved from 308.17599 to 301.13895, saving model to ./model/model.keras\n",
      "50/50 [==============================] - 51s 1s/step - loss: 5.7414 - ACC: 0.1535 - PPL: 312.1449 - val_loss: 5.7051 - val_ACC: 0.1630 - val_PPL: 301.1389\n",
      "Epoch 19/100\n",
      "49/50 [============================>.] - ETA: 0s - loss: 5.6998 - ACC: 0.1574 - PPL: 299.1991\n",
      "Epoch 00019: val_PPL improved from 301.13895 to 298.01215, saving model to ./model/model.keras\n",
      "50/50 [==============================] - 51s 1s/step - loss: 5.7018 - ACC: 0.1573 - PPL: 299.8010 - val_loss: 5.6959 - val_ACC: 0.1607 - val_PPL: 298.0122\n",
      "Epoch 20/100\n",
      "49/50 [============================>.] - ETA: 0s - loss: 5.6859 - ACC: 0.1588 - PPL: 295.3874\n",
      "Epoch 00020: val_PPL improved from 298.01215 to 285.81103, saving model to ./model/model.keras\n",
      "50/50 [==============================] - 50s 1s/step - loss: 5.6845 - ACC: 0.1588 - PPL: 294.9730 - val_loss: 5.6535 - val_ACC: 0.1650 - val_PPL: 285.8110\n",
      "Epoch 21/100\n",
      "49/50 [============================>.] - ETA: 0s - loss: 5.6441 - ACC: 0.1607 - PPL: 283.1733\n",
      "Epoch 00021: val_PPL improved from 285.81103 to 285.39072, saving model to ./model/model.keras\n",
      "50/50 [==============================] - 50s 994ms/step - loss: 5.6414 - ACC: 0.1609 - PPL: 282.4456 - val_loss: 5.6519 - val_ACC: 0.1674 - val_PPL: 285.3907\n",
      "Epoch 22/100\n",
      "49/50 [============================>.] - ETA: 0s - loss: 5.6282 - ACC: 0.1644 - PPL: 278.7390\n",
      "Epoch 00022: val_PPL improved from 285.39072 to 272.89878, saving model to ./model/model.keras\n",
      "50/50 [==============================] - 51s 1s/step - loss: 5.6290 - ACC: 0.1644 - PPL: 278.9714 - val_loss: 5.6072 - val_ACC: 0.1751 - val_PPL: 272.8988\n",
      "Epoch 23/100\n",
      "49/50 [============================>.] - ETA: 0s - loss: 5.6140 - ACC: 0.1648 - PPL: 274.6704\n",
      "Epoch 00023: val_PPL did not improve\n",
      "50/50 [==============================] - 51s 1s/step - loss: 5.6144 - ACC: 0.1648 - PPL: 274.7862 - val_loss: 5.6206 - val_ACC: 0.1667 - val_PPL: 276.8625\n",
      "Epoch 24/100\n",
      "49/50 [============================>.] - ETA: 0s - loss: 5.5912 - ACC: 0.1686 - PPL: 268.5093\n",
      "Epoch 00024: val_PPL improved from 272.89878 to 264.91221, saving model to ./model/model.keras\n",
      "50/50 [==============================] - 51s 1s/step - loss: 5.5914 - ACC: 0.1685 - PPL: 268.5535 - val_loss: 5.5774 - val_ACC: 0.1753 - val_PPL: 264.9122\n",
      "Epoch 25/100\n",
      "49/50 [============================>.] - ETA: 0s - loss: 5.5866 - ACC: 0.1677 - PPL: 267.2568\n",
      "Epoch 00025: val_PPL improved from 264.91221 to 262.39913, saving model to ./model/model.keras\n",
      "50/50 [==============================] - 48s 958ms/step - loss: 5.5886 - ACC: 0.1673 - PPL: 267.8107 - val_loss: 5.5672 - val_ACC: 0.1775 - val_PPL: 262.3991\n",
      "Epoch 26/100\n",
      "49/50 [============================>.] - ETA: 0s - loss: 5.5698 - ACC: 0.1702 - PPL: 262.7644\n",
      "Epoch 00026: val_PPL improved from 262.39913 to 257.71197, saving model to ./model/model.keras\n",
      "50/50 [==============================] - 51s 1s/step - loss: 5.5693 - ACC: 0.1701 - PPL: 262.6315 - val_loss: 5.5499 - val_ACC: 0.1781 - val_PPL: 257.7120\n",
      "Epoch 27/100\n",
      "49/50 [============================>.] - ETA: 0s - loss: 5.5527 - ACC: 0.1712 - PPL: 258.5783\n",
      "Epoch 00027: val_PPL improved from 257.71197 to 251.61956, saving model to ./model/model.keras\n",
      "50/50 [==============================] - 51s 1s/step - loss: 5.5517 - ACC: 0.1714 - PPL: 258.3164 - val_loss: 5.5260 - val_ACC: 0.1817 - val_PPL: 251.6196\n",
      "Epoch 28/100\n",
      "49/50 [============================>.] - ETA: 0s - loss: 5.5348 - ACC: 0.1733 - PPL: 254.0451\n",
      "Epoch 00028: val_PPL improved from 251.61956 to 248.79050, saving model to ./model/model.keras\n",
      "50/50 [==============================] - 52s 1s/step - loss: 5.5351 - ACC: 0.1731 - PPL: 254.1087 - val_loss: 5.5148 - val_ACC: 0.1807 - val_PPL: 248.7905\n",
      "Epoch 29/100\n",
      "49/50 [============================>.] - ETA: 0s - loss: 5.5199 - ACC: 0.1734 - PPL: 249.9035\n",
      "Epoch 00029: val_PPL improved from 248.79050 to 244.28281, saving model to ./model/model.keras\n",
      "50/50 [==============================] - 50s 1s/step - loss: 5.5190 - ACC: 0.1734 - PPL: 249.6854 - val_loss: 5.4957 - val_ACC: 0.1851 - val_PPL: 244.2828\n",
      "Epoch 30/100\n",
      "49/50 [============================>.] - ETA: 0s - loss: 5.4971 - ACC: 0.1771 - PPL: 244.3847\n",
      "Epoch 00030: val_PPL improved from 244.28281 to 240.53591, saving model to ./model/model.keras\n",
      "50/50 [==============================] - 51s 1s/step - loss: 5.4966 - ACC: 0.1770 - PPL: 244.2578 - val_loss: 5.4809 - val_ACC: 0.1835 - val_PPL: 240.5359\n",
      "Epoch 31/100\n",
      "49/50 [============================>.] - ETA: 0s - loss: 5.5011 - ACC: 0.1768 - PPL: 245.4008\n",
      "Epoch 00031: val_PPL did not improve\n",
      "50/50 [==============================] - 50s 992ms/step - loss: 5.4983 - ACC: 0.1770 - PPL: 244.7443 - val_loss: 5.4807 - val_ACC: 0.1853 - val_PPL: 240.6217\n",
      "Epoch 32/100\n",
      "49/50 [============================>.] - ETA: 0s - loss: 5.4852 - ACC: 0.1770 - PPL: 241.5776\n",
      "Epoch 00032: val_PPL improved from 240.53591 to 239.42074, saving model to ./model/model.keras\n",
      "50/50 [==============================] - 49s 973ms/step - loss: 5.4861 - ACC: 0.1771 - PPL: 241.7754 - val_loss: 5.4760 - val_ACC: 0.1814 - val_PPL: 239.4207\n",
      "Epoch 33/100\n",
      "49/50 [============================>.] - ETA: 0s - loss: 5.4726 - ACC: 0.1805 - PPL: 238.7435\n",
      "Epoch 00033: val_PPL improved from 239.42074 to 234.69388, saving model to ./model/model.keras\n",
      "50/50 [==============================] - 48s 965ms/step - loss: 5.4706 - ACC: 0.1806 - PPL: 238.2781 - val_loss: 5.4563 - val_ACC: 0.1878 - val_PPL: 234.6939\n",
      "Epoch 34/100\n",
      "49/50 [============================>.] - ETA: 0s - loss: 5.4679 - ACC: 0.1803 - PPL: 237.4297\n",
      "Epoch 00034: val_PPL improved from 234.69388 to 233.52022, saving model to ./model/model.keras\n",
      "50/50 [==============================] - 51s 1s/step - loss: 5.4677 - ACC: 0.1803 - PPL: 237.3770 - val_loss: 5.4509 - val_ACC: 0.1901 - val_PPL: 233.5202\n",
      "Epoch 35/100\n",
      "49/50 [============================>.] - ETA: 0s - loss: 5.4459 - ACC: 0.1814 - PPL: 232.3040\n",
      "Epoch 00035: val_PPL improved from 233.52022 to 228.76066, saving model to ./model/model.keras\n",
      "50/50 [==============================] - 52s 1s/step - loss: 5.4471 - ACC: 0.1814 - PPL: 232.5757 - val_loss: 5.4304 - val_ACC: 0.1914 - val_PPL: 228.7607\n",
      "Epoch 36/100\n",
      "49/50 [============================>.] - ETA: 0s - loss: 5.4395 - ACC: 0.1817 - PPL: 230.7606\n",
      "Epoch 00036: val_PPL improved from 228.76066 to 225.69043, saving model to ./model/model.keras\n",
      "50/50 [==============================] - 51s 1s/step - loss: 5.4415 - ACC: 0.1815 - PPL: 231.2165 - val_loss: 5.4155 - val_ACC: 0.1929 - val_PPL: 225.6904\n",
      "Epoch 37/100\n",
      "49/50 [============================>.] - ETA: 0s - loss: 5.4158 - ACC: 0.1850 - PPL: 225.4565\n",
      "Epoch 00037: val_PPL did not improve\n",
      "50/50 [==============================] - 49s 990ms/step - loss: 5.4141 - ACC: 0.1851 - PPL: 225.0778 - val_loss: 5.4335 - val_ACC: 0.1887 - val_PPL: 229.3768\n",
      "Epoch 38/100\n",
      "49/50 [============================>.] - ETA: 0s - loss: 5.4302 - ACC: 0.1842 - PPL: 228.5462\n",
      "Epoch 00038: val_PPL improved from 225.69043 to 224.76569, saving model to ./model/model.keras\n",
      "50/50 [==============================] - 51s 1s/step - loss: 5.4296 - ACC: 0.1840 - PPL: 228.4052 - val_loss: 5.4122 - val_ACC: 0.1920 - val_PPL: 224.7657\n",
      "Epoch 39/100\n",
      "49/50 [============================>.] - ETA: 0s - loss: 5.4064 - ACC: 0.1851 - PPL: 223.2234\n",
      "Epoch 00039: val_PPL did not improve\n",
      "50/50 [==============================] - 49s 984ms/step - loss: 5.4048 - ACC: 0.1850 - PPL: 222.8637 - val_loss: 5.4252 - val_ACC: 0.1890 - val_PPL: 227.5504\n",
      "Epoch 40/100\n",
      "49/50 [============================>.] - ETA: 0s - loss: 5.3942 - ACC: 0.1871 - PPL: 220.5582\n",
      "Epoch 00040: val_PPL improved from 224.76569 to 217.70461, saving model to ./model/model.keras\n",
      "50/50 [==============================] - 51s 1s/step - loss: 5.3949 - ACC: 0.1871 - PPL: 220.7048 - val_loss: 5.3811 - val_ACC: 0.1910 - val_PPL: 217.7046\n",
      "Epoch 41/100\n",
      "49/50 [============================>.] - ETA: 0s - loss: 5.3816 - ACC: 0.1883 - PPL: 217.7992\n",
      "Epoch 00041: val_PPL improved from 217.70461 to 216.63400, saving model to ./model/model.keras\n",
      "50/50 [==============================] - 50s 1s/step - loss: 5.3808 - ACC: 0.1884 - PPL: 217.6164 - val_loss: 5.3757 - val_ACC: 0.1944 - val_PPL: 216.6340\n",
      "Epoch 42/100\n",
      "49/50 [============================>.] - ETA: 0s - loss: 5.3697 - ACC: 0.1892 - PPL: 215.1600\n",
      "Epoch 00042: val_PPL improved from 216.63400 to 216.04502, saving model to ./model/model.keras\n",
      "50/50 [==============================] - 48s 968ms/step - loss: 5.3716 - ACC: 0.1889 - PPL: 215.5753 - val_loss: 5.3736 - val_ACC: 0.2002 - val_PPL: 216.0450\n",
      "Epoch 43/100\n",
      "49/50 [============================>.] - ETA: 0s - loss: 5.3537 - ACC: 0.1908 - PPL: 211.9230\n",
      "Epoch 00043: val_PPL improved from 216.04502 to 214.37846, saving model to ./model/model.keras\n",
      "50/50 [==============================] - 51s 1s/step - loss: 5.3554 - ACC: 0.1905 - PPL: 212.2878 - val_loss: 5.3659 - val_ACC: 0.1958 - val_PPL: 214.3785\n",
      "Epoch 44/100\n",
      "49/50 [============================>.] - ETA: 0s - loss: 5.3676 - ACC: 0.1899 - PPL: 214.6995\n",
      "Epoch 00044: val_PPL improved from 214.37846 to 211.77059, saving model to ./model/model.keras\n",
      "50/50 [==============================] - 51s 1s/step - loss: 5.3680 - ACC: 0.1899 - PPL: 214.7734 - val_loss: 5.3527 - val_ACC: 0.1950 - val_PPL: 211.7706\n",
      "Epoch 45/100\n",
      "49/50 [============================>.] - ETA: 0s - loss: 5.3477 - ACC: 0.1909 - PPL: 210.4896\n",
      "Epoch 00045: val_PPL improved from 211.77059 to 206.68730, saving model to ./model/model.keras\n",
      "50/50 [==============================] - 51s 1s/step - loss: 5.3473 - ACC: 0.1909 - PPL: 210.4060 - val_loss: 5.3287 - val_ACC: 0.2024 - val_PPL: 206.6873\n",
      "Epoch 46/100\n",
      "49/50 [============================>.] - ETA: 0s - loss: 5.3382 - ACC: 0.1921 - PPL: 208.5513\n",
      "Epoch 00046: val_PPL did not improve\n",
      "50/50 [==============================] - 51s 1s/step - loss: 5.3389 - ACC: 0.1920 - PPL: 208.6750 - val_loss: 5.3356 - val_ACC: 0.2018 - val_PPL: 208.1482\n",
      "Epoch 47/100\n",
      "49/50 [============================>.] - ETA: 0s - loss: 5.3463 - ACC: 0.1933 - PPL: 210.1937\n",
      "Epoch 00047: val_PPL did not improve\n",
      "50/50 [==============================] - 50s 1s/step - loss: 5.3460 - ACC: 0.1933 - PPL: 210.1287 - val_loss: 5.3417 - val_ACC: 0.2004 - val_PPL: 209.4001\n"
     ]
    },
    {
     "name": "stdout",
     "output_type": "stream",
     "text": [
      "Epoch 48/100\n",
      "49/50 [============================>.] - ETA: 0s - loss: 5.3376 - ACC: 0.1931 - PPL: 208.4806\n",
      "Epoch 00048: val_PPL improved from 206.68730 to 203.56581, saving model to ./model/model.keras\n",
      "50/50 [==============================] - 48s 957ms/step - loss: 5.3391 - ACC: 0.1930 - PPL: 208.8041 - val_loss: 5.3132 - val_ACC: 0.2039 - val_PPL: 203.5658\n",
      "Epoch 49/100\n",
      "49/50 [============================>.] - ETA: 0s - loss: 5.3089 - ACC: 0.1957 - PPL: 202.6321\n",
      "Epoch 00049: val_PPL did not improve\n",
      "50/50 [==============================] - 44s 879ms/step - loss: 5.3088 - ACC: 0.1956 - PPL: 202.5901 - val_loss: 5.3311 - val_ACC: 0.1997 - val_PPL: 207.3809\n",
      "Epoch 50/100\n",
      "49/50 [============================>.] - ETA: 0s - loss: 5.3226 - ACC: 0.1943 - PPL: 205.4597\n",
      "Epoch 00050: val_PPL improved from 203.56581 to 197.65276, saving model to ./model/model.keras\n",
      "50/50 [==============================] - 43s 852ms/step - loss: 5.3217 - ACC: 0.1945 - PPL: 205.2664 - val_loss: 5.2845 - val_ACC: 0.2090 - val_PPL: 197.6528\n",
      "Epoch 51/100\n",
      "49/50 [============================>.] - ETA: 0s - loss: 5.2976 - ACC: 0.1970 - PPL: 200.4175\n",
      "Epoch 00051: val_PPL did not improve\n",
      "50/50 [==============================] - 43s 868ms/step - loss: 5.2967 - ACC: 0.1970 - PPL: 200.2395 - val_loss: 5.2857 - val_ACC: 0.2072 - val_PPL: 197.8833\n",
      "Epoch 52/100\n",
      "49/50 [============================>.] - ETA: 0s - loss: 5.2983 - ACC: 0.1985 - PPL: 200.4826\n",
      "Epoch 00052: val_PPL did not improve\n",
      "50/50 [==============================] - 44s 886ms/step - loss: 5.2987 - ACC: 0.1985 - PPL: 200.5415 - val_loss: 5.2907 - val_ACC: 0.2077 - val_PPL: 198.9466\n",
      "Epoch 53/100\n",
      "49/50 [============================>.] - ETA: 0s - loss: 5.2936 - ACC: 0.1980 - PPL: 199.4159\n",
      "Epoch 00053: val_PPL did not improve\n",
      "50/50 [==============================] - 43s 858ms/step - loss: 5.2931 - ACC: 0.1980 - PPL: 199.2994 - val_loss: 5.2986 - val_ACC: 0.2053 - val_PPL: 200.4542\n",
      "Epoch 54/100\n",
      "49/50 [============================>.] - ETA: 0s - loss: 5.2910 - ACC: 0.1970 - PPL: 198.8535\n",
      "Epoch 00054: val_PPL did not improve\n",
      "50/50 [==============================] - 43s 858ms/step - loss: 5.2919 - ACC: 0.1969 - PPL: 199.0458 - val_loss: 5.3025 - val_ACC: 0.2075 - val_PPL: 201.2577\n",
      "Epoch 55/100\n",
      "49/50 [============================>.] - ETA: 0s - loss: 5.2814 - ACC: 0.2001 - PPL: 197.0094\n",
      "Epoch 00055: val_PPL did not improve\n",
      "50/50 [==============================] - 43s 861ms/step - loss: 5.2805 - ACC: 0.2002 - PPL: 196.8265 - val_loss: 5.2875 - val_ACC: 0.2037 - val_PPL: 198.3650\n",
      "Epoch 56/100\n",
      "49/50 [============================>.] - ETA: 0s - loss: 5.2769 - ACC: 0.1986 - PPL: 196.2050\n",
      "Epoch 00056: val_PPL did not improve\n",
      "50/50 [==============================] - 43s 870ms/step - loss: 5.2766 - ACC: 0.1986 - PPL: 196.1556 - val_loss: 5.2944 - val_ACC: 0.2054 - val_PPL: 199.5631\n",
      "Epoch 57/100\n",
      "49/50 [============================>.] - ETA: 0s - loss: 5.2737 - ACC: 0.1995 - PPL: 195.5004\n",
      "Epoch 00057: val_PPL improved from 197.65276 to 195.99028, saving model to ./model/model.keras\n",
      "50/50 [==============================] - 44s 872ms/step - loss: 5.2737 - ACC: 0.1995 - PPL: 195.4971 - val_loss: 5.2755 - val_ACC: 0.2109 - val_PPL: 195.9903\n",
      "Epoch 58/100\n",
      "49/50 [============================>.] - ETA: 0s - loss: 5.2429 - ACC: 0.2027 - PPL: 189.8190\n",
      "Epoch 00058: val_PPL did not improve\n",
      "50/50 [==============================] - 42s 837ms/step - loss: 5.2420 - ACC: 0.2028 - PPL: 189.6365 - val_loss: 5.2829 - val_ACC: 0.2050 - val_PPL: 197.4012\n",
      "Epoch 59/100\n",
      "49/50 [============================>.] - ETA: 0s - loss: 5.2422 - ACC: 0.2026 - PPL: 189.4378\n",
      "Epoch 00059: val_PPL did not improve\n",
      "50/50 [==============================] - 43s 852ms/step - loss: 5.2425 - ACC: 0.2024 - PPL: 189.4854 - val_loss: 5.2771 - val_ACC: 0.2021 - val_PPL: 196.1804\n",
      "Epoch 60/100\n",
      "49/50 [============================>.] - ETA: 0s - loss: 5.2599 - ACC: 0.2026 - PPL: 192.8499\n",
      "Epoch 00060: val_PPL improved from 195.99028 to 189.20414, saving model to ./model/model.keras\n",
      "50/50 [==============================] - 43s 853ms/step - loss: 5.2599 - ACC: 0.2027 - PPL: 192.8379 - val_loss: 5.2401 - val_ACC: 0.2139 - val_PPL: 189.2041\n",
      "Epoch 61/100\n",
      "49/50 [============================>.] - ETA: 0s - loss: 5.2587 - ACC: 0.2025 - PPL: 192.7077\n",
      "Epoch 00061: val_PPL did not improve\n",
      "50/50 [==============================] - 44s 885ms/step - loss: 5.2586 - ACC: 0.2025 - PPL: 192.6800 - val_loss: 5.2904 - val_ACC: 0.2010 - val_PPL: 198.8837\n",
      "Epoch 62/100\n",
      "49/50 [============================>.] - ETA: 0s - loss: 5.2225 - ACC: 0.2059 - PPL: 185.7580\n",
      "Epoch 00062: val_PPL did not improve\n",
      "50/50 [==============================] - 44s 882ms/step - loss: 5.2237 - ACC: 0.2058 - PPL: 185.9833 - val_loss: 5.2549 - val_ACC: 0.2116 - val_PPL: 191.8594\n",
      "Epoch 63/100\n",
      "49/50 [============================>.] - ETA: 0s - loss: 5.2287 - ACC: 0.2046 - PPL: 186.7993\n",
      "Epoch 00063: val_PPL did not improve\n",
      "50/50 [==============================] - 43s 865ms/step - loss: 5.2280 - ACC: 0.2046 - PPL: 186.6704 - val_loss: 5.2444 - val_ACC: 0.2129 - val_PPL: 189.9324\n",
      "Epoch 64/100\n",
      "49/50 [============================>.] - ETA: 0s - loss: 5.2229 - ACC: 0.2046 - PPL: 185.9584\n",
      "Epoch 00064: val_PPL did not improve\n",
      "50/50 [==============================] - 43s 863ms/step - loss: 5.2222 - ACC: 0.2045 - PPL: 185.8074 - val_loss: 5.2594 - val_ACC: 0.2096 - val_PPL: 192.6372\n",
      "Epoch 65/100\n",
      "49/50 [============================>.] - ETA: 0s - loss: 5.2206 - ACC: 0.2059 - PPL: 185.5133\n",
      "Epoch 00065: val_PPL improved from 189.20414 to 181.13306, saving model to ./model/model.keras\n",
      "50/50 [==============================] - 44s 881ms/step - loss: 5.2197 - ACC: 0.2060 - PPL: 185.3405 - val_loss: 5.1968 - val_ACC: 0.2191 - val_PPL: 181.1331\n",
      "Epoch 66/100\n",
      "49/50 [============================>.] - ETA: 0s - loss: 5.2220 - ACC: 0.2055 - PPL: 185.6233\n",
      "Epoch 00066: val_PPL did not improve\n",
      "50/50 [==============================] - 43s 866ms/step - loss: 5.2224 - ACC: 0.2055 - PPL: 185.6783 - val_loss: 5.2178 - val_ACC: 0.2170 - val_PPL: 184.8569\n",
      "Epoch 67/100\n",
      "49/50 [============================>.] - ETA: 0s - loss: 5.2159 - ACC: 0.2075 - PPL: 184.6417\n",
      "Epoch 00067: val_PPL did not improve\n",
      "50/50 [==============================] - 44s 878ms/step - loss: 5.2162 - ACC: 0.2075 - PPL: 184.7031 - val_loss: 5.2194 - val_ACC: 0.2094 - val_PPL: 185.1529\n",
      "Epoch 68/100\n",
      "49/50 [============================>.] - ETA: 0s - loss: 5.2086 - ACC: 0.2064 - PPL: 183.2449\n",
      "Epoch 00068: val_PPL did not improve\n",
      "50/50 [==============================] - 44s 887ms/step - loss: 5.2084 - ACC: 0.2064 - PPL: 183.2051 - val_loss: 5.2230 - val_ACC: 0.2130 - val_PPL: 185.9379\n",
      "Epoch 69/100\n",
      "49/50 [============================>.] - ETA: 0s - loss: 5.2056 - ACC: 0.2055 - PPL: 182.5848\n",
      "Epoch 00069: val_PPL did not improve\n",
      "50/50 [==============================] - 43s 857ms/step - loss: 5.2065 - ACC: 0.2057 - PPL: 182.7500 - val_loss: 5.2227 - val_ACC: 0.2133 - val_PPL: 185.7875\n",
      "Epoch 70/100\n",
      "49/50 [============================>.] - ETA: 0s - loss: 5.2143 - ACC: 0.2052 - PPL: 184.3099\n",
      "Epoch 00070: val_PPL did not improve\n",
      "50/50 [==============================] - 45s 901ms/step - loss: 5.2159 - ACC: 0.2052 - PPL: 184.6133 - val_loss: 5.2040 - val_ACC: 0.2133 - val_PPL: 182.3497\n",
      "Epoch 71/100\n",
      "49/50 [============================>.] - ETA: 0s - loss: 5.1867 - ACC: 0.2094 - PPL: 179.1089\n",
      "Epoch 00071: val_PPL improved from 181.13306 to 178.13573, saving model to ./model/model.keras\n",
      "50/50 [==============================] - 44s 888ms/step - loss: 5.1881 - ACC: 0.2093 - PPL: 179.3580 - val_loss: 5.1811 - val_ACC: 0.2202 - val_PPL: 178.1357\n",
      "Epoch 72/100\n",
      "49/50 [============================>.] - ETA: 0s - loss: 5.1775 - ACC: 0.2091 - PPL: 177.6599\n",
      "Epoch 00072: val_PPL did not improve\n",
      "50/50 [==============================] - 43s 867ms/step - loss: 5.1765 - ACC: 0.2092 - PPL: 177.4871 - val_loss: 5.2066 - val_ACC: 0.2173 - val_PPL: 182.8368\n",
      "Epoch 73/100\n",
      "49/50 [============================>.] - ETA: 0s - loss: 5.1861 - ACC: 0.2096 - PPL: 179.1604\n",
      "Epoch 00073: val_PPL did not improve\n",
      "50/50 [==============================] - 43s 863ms/step - loss: 5.1878 - ACC: 0.2095 - PPL: 179.4650 - val_loss: 5.2073 - val_ACC: 0.2149 - val_PPL: 183.1281\n"
     ]
    },
    {
     "name": "stdout",
     "output_type": "stream",
     "text": [
      "Epoch 74/100\n",
      "49/50 [============================>.] - ETA: 0s - loss: 5.1701 - ACC: 0.2105 - PPL: 176.2739\n",
      "Epoch 00074: val_PPL improved from 178.13573 to 176.60325, saving model to ./model/model.keras\n",
      "50/50 [==============================] - 42s 849ms/step - loss: 5.1714 - ACC: 0.2102 - PPL: 176.5084 - val_loss: 5.1722 - val_ACC: 0.2181 - val_PPL: 176.6033\n",
      "Epoch 75/100\n",
      "49/50 [============================>.] - ETA: 0s - loss: 5.1834 - ACC: 0.2090 - PPL: 178.6776\n",
      "Epoch 00075: val_PPL did not improve\n",
      "50/50 [==============================] - 45s 896ms/step - loss: 5.1865 - ACC: 0.2085 - PPL: 179.2699 - val_loss: 5.2059 - val_ACC: 0.2142 - val_PPL: 182.8677\n",
      "Epoch 76/100\n",
      "49/50 [============================>.] - ETA: 0s - loss: 5.1875 - ACC: 0.2086 - PPL: 179.4254\n",
      "Epoch 00076: val_PPL did not improve\n",
      "50/50 [==============================] - 43s 856ms/step - loss: 5.1876 - ACC: 0.2086 - PPL: 179.4425 - val_loss: 5.1926 - val_ACC: 0.2175 - val_PPL: 180.5738\n",
      "Epoch 77/100\n",
      "49/50 [============================>.] - ETA: 0s - loss: 5.1857 - ACC: 0.2081 - PPL: 178.9215\n",
      "Epoch 00077: val_PPL improved from 176.60325 to 174.83749, saving model to ./model/model.keras\n",
      "50/50 [==============================] - 45s 895ms/step - loss: 5.1845 - ACC: 0.2082 - PPL: 178.6979 - val_loss: 5.1617 - val_ACC: 0.2213 - val_PPL: 174.8375\n",
      "Epoch 78/100\n",
      "49/50 [============================>.] - ETA: 0s - loss: 5.1729 - ACC: 0.2096 - PPL: 176.8041\n",
      "Epoch 00078: val_PPL did not improve\n",
      "50/50 [==============================] - 45s 900ms/step - loss: 5.1724 - ACC: 0.2096 - PPL: 176.7159 - val_loss: 5.1841 - val_ACC: 0.2183 - val_PPL: 179.0569\n",
      "Epoch 79/100\n",
      "49/50 [============================>.] - ETA: 0s - loss: 5.1538 - ACC: 0.2111 - PPL: 173.6284\n",
      "Epoch 00079: val_PPL did not improve\n",
      "50/50 [==============================] - 43s 867ms/step - loss: 5.1541 - ACC: 0.2111 - PPL: 173.6729 - val_loss: 5.1707 - val_ACC: 0.2190 - val_PPL: 176.4778\n",
      "Epoch 80/100\n",
      "49/50 [============================>.] - ETA: 0s - loss: 5.1438 - ACC: 0.2123 - PPL: 171.7268\n",
      "Epoch 00080: val_PPL did not improve\n",
      "50/50 [==============================] - 44s 880ms/step - loss: 5.1430 - ACC: 0.2125 - PPL: 171.5767 - val_loss: 5.1704 - val_ACC: 0.2175 - val_PPL: 176.2964\n",
      "Epoch 81/100\n",
      "49/50 [============================>.] - ETA: 0s - loss: 5.1660 - ACC: 0.2111 - PPL: 175.6476\n",
      "Epoch 00081: val_PPL did not improve\n",
      "50/50 [==============================] - 43s 870ms/step - loss: 5.1653 - ACC: 0.2111 - PPL: 175.5167 - val_loss: 5.1930 - val_ACC: 0.2167 - val_PPL: 180.4240\n",
      "Epoch 82/100\n",
      "49/50 [============================>.] - ETA: 0s - loss: 5.1615 - ACC: 0.2117 - PPL: 174.7063\n",
      "Epoch 00082: val_PPL did not improve\n",
      "50/50 [==============================] - 43s 857ms/step - loss: 5.1617 - ACC: 0.2116 - PPL: 174.7436 - val_loss: 5.1752 - val_ACC: 0.2181 - val_PPL: 177.1993\n",
      "Epoch 83/100\n",
      "49/50 [============================>.] - ETA: 0s - loss: 5.1480 - ACC: 0.2117 - PPL: 172.3953\n",
      "Epoch 00083: val_PPL improved from 174.83749 to 174.69161, saving model to ./model/model.keras\n",
      "50/50 [==============================] - 44s 871ms/step - loss: 5.1452 - ACC: 0.2118 - PPL: 171.9518 - val_loss: 5.1594 - val_ACC: 0.2215 - val_PPL: 174.6916\n",
      "Epoch 84/100\n",
      "49/50 [============================>.] - ETA: 0s - loss: 5.1602 - ACC: 0.2121 - PPL: 174.6343\n",
      "Epoch 00084: val_PPL improved from 174.69161 to 172.52272, saving model to ./model/model.keras\n",
      "50/50 [==============================] - 44s 877ms/step - loss: 5.1600 - ACC: 0.2121 - PPL: 174.5956 - val_loss: 5.1475 - val_ACC: 0.2222 - val_PPL: 172.5227\n",
      "Epoch 85/100\n",
      "49/50 [============================>.] - ETA: 0s - loss: 5.1394 - ACC: 0.2143 - PPL: 170.9948\n",
      "Epoch 00085: val_PPL did not improve\n",
      "50/50 [==============================] - 44s 888ms/step - loss: 5.1398 - ACC: 0.2141 - PPL: 171.0487 - val_loss: 5.1654 - val_ACC: 0.2203 - val_PPL: 175.4580\n",
      "Epoch 86/100\n",
      "49/50 [============================>.] - ETA: 0s - loss: 5.1406 - ACC: 0.2139 - PPL: 171.3114\n",
      "Epoch 00086: val_PPL did not improve\n",
      "50/50 [==============================] - 46s 925ms/step - loss: 5.1408 - ACC: 0.2139 - PPL: 171.3271 - val_loss: 5.1684 - val_ACC: 0.2197 - val_PPL: 176.0250\n",
      "Epoch 87/100\n",
      "49/50 [============================>.] - ETA: 0s - loss: 5.1338 - ACC: 0.2143 - PPL: 170.0832\n",
      "Epoch 00087: val_PPL did not improve\n",
      "50/50 [==============================] - 44s 889ms/step - loss: 5.1350 - ACC: 0.2141 - PPL: 170.2737 - val_loss: 5.1763 - val_ACC: 0.2151 - val_PPL: 177.2997\n",
      "Epoch 88/100\n",
      "49/50 [============================>.] - ETA: 0s - loss: 5.1430 - ACC: 0.2135 - PPL: 171.7424\n",
      "Epoch 00088: val_PPL improved from 172.52272 to 171.42467, saving model to ./model/model.keras\n",
      "50/50 [==============================] - 44s 879ms/step - loss: 5.1423 - ACC: 0.2136 - PPL: 171.6071 - val_loss: 5.1418 - val_ACC: 0.2222 - val_PPL: 171.4247\n",
      "Epoch 89/100\n",
      "49/50 [============================>.] - ETA: 0s - loss: 5.1327 - ACC: 0.2149 - PPL: 169.7122\n",
      "Epoch 00089: val_PPL did not improve\n",
      "50/50 [==============================] - 45s 896ms/step - loss: 5.1304 - ACC: 0.2151 - PPL: 169.3422 - val_loss: 5.1585 - val_ACC: 0.2170 - val_PPL: 174.3544\n",
      "Epoch 90/100\n",
      "49/50 [============================>.] - ETA: 0s - loss: 5.1361 - ACC: 0.2145 - PPL: 170.4979\n",
      "Epoch 00090: val_PPL did not improve\n",
      "50/50 [==============================] - 45s 897ms/step - loss: 5.1365 - ACC: 0.2145 - PPL: 170.5559 - val_loss: 5.1692 - val_ACC: 0.2128 - val_PPL: 176.2530\n",
      "Epoch 91/100\n",
      "49/50 [============================>.] - ETA: 0s - loss: 5.1052 - ACC: 0.2166 - PPL: 165.2903\n",
      "Epoch 00091: val_PPL did not improve\n",
      "50/50 [==============================] - 45s 895ms/step - loss: 5.1051 - ACC: 0.2166 - PPL: 165.2632 - val_loss: 5.1832 - val_ACC: 0.2124 - val_PPL: 178.8861\n",
      "Epoch 92/100\n",
      "49/50 [============================>.] - ETA: 0s - loss: 5.1150 - ACC: 0.2154 - PPL: 166.7657\n",
      "Epoch 00092: val_PPL improved from 171.42467 to 168.47321, saving model to ./model/model.keras\n",
      "50/50 [==============================] - 45s 904ms/step - loss: 5.1158 - ACC: 0.2155 - PPL: 166.9013 - val_loss: 5.1241 - val_ACC: 0.2227 - val_PPL: 168.4732\n",
      "Epoch 93/100\n",
      "49/50 [============================>.] - ETA: 0s - loss: 5.1128 - ACC: 0.2153 - PPL: 166.3788\n",
      "Epoch 00093: val_PPL did not improve\n",
      "50/50 [==============================] - 45s 898ms/step - loss: 5.1116 - ACC: 0.2155 - PPL: 166.1844 - val_loss: 5.1462 - val_ACC: 0.2225 - val_PPL: 172.3018\n",
      "Epoch 94/100\n",
      "49/50 [============================>.] - ETA: 0s - loss: 5.1122 - ACC: 0.2172 - PPL: 166.4933\n",
      "Epoch 00094: val_PPL did not improve\n",
      "50/50 [==============================] - 45s 891ms/step - loss: 5.1121 - ACC: 0.2172 - PPL: 166.4672 - val_loss: 5.1329 - val_ACC: 0.2237 - val_PPL: 169.9630\n",
      "Epoch 95/100\n",
      "49/50 [============================>.] - ETA: 0s - loss: 5.1103 - ACC: 0.2157 - PPL: 166.1186\n",
      "Epoch 00095: val_PPL did not improve\n",
      "50/50 [==============================] - 46s 920ms/step - loss: 5.1109 - ACC: 0.2158 - PPL: 166.2195 - val_loss: 5.1351 - val_ACC: 0.2224 - val_PPL: 170.2886\n",
      "Epoch 96/100\n",
      "49/50 [============================>.] - ETA: 0s - loss: 5.0890 - ACC: 0.2192 - PPL: 162.5702\n",
      "Epoch 00096: val_PPL improved from 168.47321 to 166.70837, saving model to ./model/model.keras\n",
      "50/50 [==============================] - 45s 896ms/step - loss: 5.0901 - ACC: 0.2191 - PPL: 162.7436 - val_loss: 5.1143 - val_ACC: 0.2241 - val_PPL: 166.7084\n",
      "Epoch 97/100\n",
      "49/50 [============================>.] - ETA: 0s - loss: 5.0900 - ACC: 0.2184 - PPL: 162.8279\n",
      "Epoch 00097: val_PPL did not improve\n",
      "50/50 [==============================] - 44s 878ms/step - loss: 5.0916 - ACC: 0.2182 - PPL: 163.0958 - val_loss: 5.1275 - val_ACC: 0.2229 - val_PPL: 168.9958\n",
      "Epoch 98/100\n",
      "49/50 [============================>.] - ETA: 0s - loss: 5.0876 - ACC: 0.2183 - PPL: 162.3898\n",
      "Epoch 00098: val_PPL did not improve\n",
      "50/50 [==============================] - 45s 894ms/step - loss: 5.0877 - ACC: 0.2184 - PPL: 162.3910 - val_loss: 5.1166 - val_ACC: 0.2248 - val_PPL: 167.3093\n",
      "Epoch 99/100\n",
      "49/50 [============================>.] - ETA: 0s - loss: 5.1027 - ACC: 0.2187 - PPL: 164.8282\n",
      "Epoch 00099: val_PPL did not improve\n",
      "50/50 [==============================] - 44s 884ms/step - loss: 5.1023 - ACC: 0.2187 - PPL: 164.7503 - val_loss: 5.1258 - val_ACC: 0.2225 - val_PPL: 168.8294\n"
     ]
    },
    {
     "name": "stdout",
     "output_type": "stream",
     "text": [
      "Epoch 100/100\n",
      "49/50 [============================>.] - ETA: 0s - loss: 5.0905 - ACC: 0.2180 - PPL: 162.7309\n",
      "Epoch 00100: val_PPL improved from 166.70837 to 166.46328, saving model to ./model/model.keras\n",
      "50/50 [==============================] - 44s 886ms/step - loss: 5.0906 - ACC: 0.2180 - PPL: 162.7531 - val_loss: 5.1119 - val_ACC: 0.2246 - val_PPL: 166.4633\n"
     ]
    }
   ],
   "source": [
    "hist = model.fit_generator(generator=gen_word_word(), \n",
    "                           steps_per_epoch=50, epochs=125,\n",
    "                           callbacks=callback_lists,\n",
    "                           validation_data=gen_word_word(dataset='valid'),\n",
    "                           validation_steps=30)"
   ]
  },
  {
   "cell_type": "code",
   "execution_count": 18,
   "metadata": {
    "colab": {},
    "colab_type": "code",
    "id": "G2l21JdFPo3A"
   },
   "outputs": [],
   "source": [
    "history = pd.DataFrame(hist.history)"
   ]
  },
  {
   "cell_type": "code",
   "execution_count": 19,
   "metadata": {
    "colab": {
     "base_uri": "https://localhost:8080/",
     "height": 301
    },
    "colab_type": "code",
    "id": "jQLqEZwRPo3M",
    "outputId": "9e0c5672-82b6-4fdb-8f11-739eb0007baa"
   },
   "outputs": [
    {
     "name": "stdout",
     "output_type": "stream",
     "text": [
      "Index(['ACC', 'PPL', 'loss', 'val_ACC', 'val_PPL', 'val_loss'], dtype='object')\n"
     ]
    },
    {
     "data": {
      "text/plain": [
       "<matplotlib.axes._subplots.AxesSubplot at 0x7f1574705400>"
      ]
     },
     "execution_count": 19,
     "metadata": {},
     "output_type": "execute_result"
    },
    {
     "data": {
      "image/png": "[encoded data removed]",
      "text/plain": [
       "<Figure size 432x288 with 1 Axes>"
      ]
     },
     "metadata": {},
     "output_type": "display_data"
    }
   ],
   "source": [
    "print(history.columns)\n",
    "history.loc[:,['PPL','val_PPL']].tail(4600).plot()"
   ]
  },
  {
   "cell_type": "code",
   "execution_count": 20,
   "metadata": {
    "colab": {},
    "colab_type": "code",
    "id": "kI9DyqjoPo3s"
   },
   "outputs": [],
   "source": [
    "# path_model = local_path + 'model/model.keras'\n",
    "# model.save(path_model)"
   ]
  },
  {
   "cell_type": "code",
   "execution_count": 21,
   "metadata": {
    "colab": {},
    "colab_type": "code",
    "id": "V_USEcjEPo3x"
   },
   "outputs": [],
   "source": [
    "from tensorflow.python.keras.models import load_model\n",
    "\n",
    "model_restore = load_model(path_model, custom_objects={'ACC':ACC,'PPL': PPL})"
   ]
  },
  {
   "cell_type": "code",
   "execution_count": 22,
   "metadata": {
    "colab": {
     "base_uri": "https://localhost:8080/",
     "height": 1129
    },
    "colab_type": "code",
    "id": "9iSl3szGPo37",
    "outputId": "150689c7-d3fb-4935-9184-dfc4ec6ef708",
    "scrolled": false
   },
   "outputs": [
    {
     "name": "stdout",
     "output_type": "stream",
     "text": [
      "Epoch 1/1\n",
      "49/50 [============================>.] - ETA: 0s - loss: 5.0887 - ACC: 0.2185 - PPL: 162.5365\n",
      "Epoch 00001: val_PPL did not improve\n",
      "50/50 [==============================] - 48s 959ms/step - loss: 5.0894 - ACC: 0.2186 - PPL: 162.6333 - val_loss: 5.1154 - val_ACC: 0.2261 - val_PPL: 166.7546\n"
     ]
    }
   ],
   "source": [
    "hist = model_restore.fit_generator(generator=gen_word_word(), \n",
    "                           steps_per_epoch=50, epochs=1,\n",
    "                           callbacks=callback_lists,\n",
    "                           validation_data=gen_word_word(dataset='valid'),\n",
    "                           validation_steps=30)"
   ]
  },
  {
   "cell_type": "code",
   "execution_count": 23,
   "metadata": {
    "colab": {
     "base_uri": "https://localhost:8080/",
     "height": 301
    },
    "colab_type": "code",
    "id": "WPNTJojePo4D",
    "outputId": "8b2ce958-73e2-4498-9f01-78d2f5d49a86"
   },
   "outputs": [
    {
     "name": "stdout",
     "output_type": "stream",
     "text": [
      "Index(['ACC', 'PPL', 'loss', 'val_ACC', 'val_PPL', 'val_loss'], dtype='object')\n"
     ]
    },
    {
     "data": {
      "text/plain": [
       "<matplotlib.axes._subplots.AxesSubplot at 0x7f1574666b70>"
      ]
     },
     "execution_count": 23,
     "metadata": {},
     "output_type": "execute_result"
    },
    {
     "data": {
      "image/png": "[encoded data removed]",
      "text/plain": [
       "<Figure size 432x288 with 1 Axes>"
      ]
     },
     "metadata": {},
     "output_type": "display_data"
    }
   ],
   "source": [
    "history = pd.DataFrame(hist.history)\n",
    "print(history.columns)\n",
    "history.loc[:,['PPL','val_PPL']].tail(4600).plot()"
   ]
  },
  {
   "cell_type": "code",
   "execution_count": 24,
   "metadata": {
    "colab": {},
    "colab_type": "code",
    "id": "SY8V79vOPo4N"
   },
   "outputs": [],
   "source": [
    "def predict_seq(model, preSeq=None, genLen=seq_len, power=1):\n",
    "    \"\"\" Predict a sequence with length genLen.\n",
    "        arg:\n",
    "            model: Keras model used to predict.\n",
    "            preSeq: list. The leading sequence.\n",
    "            genLen: float or np.inf. If power is equal to np.inf, then an argmax will be used. \n",
    "            power: Probility power.\n",
    "    \"\"\"\n",
    "    preSeq = [word_to_id['<SS>']] if preSeq == None else [word_to_id['<SS>']] + preSeq   \n",
    "    pointer = len(preSeq) - 1\n",
    "    \n",
    "    for _ in range(genLen):\n",
    "        inputSeq = np.array([preSeq])\n",
    "        prob = model.predict(inputSeq)[0, pointer, :]\n",
    "        if power==np.inf:\n",
    "            pred = np.argmax(prob)\n",
    "        else:\n",
    "            prob = np.power(prob, power)\n",
    "            prob = prob / np.sum(prob)\n",
    "            pred = np.random.choice(range(voc_size), p=prob)\n",
    "        preSeq.append(pred)\n",
    "        pointer = pointer + 1\n",
    "\n",
    "    return preSeq, ' '.join([id_to_word[id] for id in preSeq])"
   ]
  },
  {
   "cell_type": "code",
   "execution_count": 25,
   "metadata": {},
   "outputs": [
    {
     "data": {
      "text/plain": [
       "'<SS> mr. cable says <eos> according to refinancing notably millions profitable directors increased N to N N off the end of september <eos> stock-index arbitrage trading has led as an fall in the <unk> <EE> <EE>'"
      ]
     },
     "execution_count": 25,
     "metadata": {},
     "output_type": "execute_result"
    }
   ],
   "source": [
    "_, seq = predict_seq(model, power=1)\n",
    "seq"
   ]
  },
  {
   "cell_type": "code",
   "execution_count": null,
   "metadata": {},
   "outputs": [],
   "source": []
  },
  {
   "cell_type": "markdown",
   "metadata": {},
   "source": [
    "# Character aware model\n",
    "\n",
    "[Character-Aware Neural Language Models -- arxiv-1508.06615 -- AAAI 2016](https://arxiv.org/abs/1508.06615)\n",
    "\n",
    "[Ref: Github/jarfo/kchar](https://github.com/jarfo/kchar)\n",
    "\n",
    "\n",
    "![model](https://github.com/stikbuf/Language_Modeling/blob/master/Character%20aware.png?raw=true)\n"
   ]
  },
  {
   "cell_type": "markdown",
   "metadata": {
    "colab": {},
    "colab_type": "code",
    "id": "fKog3W-MPo4c"
   },
   "source": [
    "## Load data"
   ]
  },
  {
   "cell_type": "markdown",
   "metadata": {},
   "source": [
    "### convert to text"
   ]
  },
  {
   "cell_type": "code",
   "execution_count": 10,
   "metadata": {},
   "outputs": [
    {
     "data": {
      "text/plain": [
       "Text(0.5,1,'word length distribution, max=19, min=1')"
      ]
     },
     "execution_count": 10,
     "metadata": {},
     "output_type": "execute_result"
    },
    {
     "data": {
      "image/png": "[encoded data removed]",
      "text/plain": [
       "<Figure size 432x288 with 1 Axes>"
      ]
     },
     "metadata": {},
     "output_type": "display_data"
    }
   ],
   "source": [
    "train_data_text = [id_to_word[idx] for idx in train_data]\n",
    "valid_data_text = [id_to_word[idx] for idx in valid_data]\n",
    "test_data_text = [id_to_word[idx] for idx in test_data]\n",
    "total_data_text = train_data_text + valid_data_text + test_data_text\n",
    "\n",
    "maxWordLen = max([len(word) for word in total_data_text])\n",
    "maxWordLen += 2 # Start and End character\n",
    "\n",
    "ds = pd.Series([len(word) for word in total_data_text])\n",
    "ds.plot.hist(bins=range(1, maxWordLen))\n",
    "plt.title('word length distribution, max={0}, min={1}'.\n",
    "          format(ds.max(), ds.min()))"
   ]
  },
  {
   "cell_type": "markdown",
   "metadata": {},
   "source": [
    "### merge chars"
   ]
  },
  {
   "cell_type": "code",
   "execution_count": 11,
   "metadata": {},
   "outputs": [
    {
     "name": "stdout",
     "output_type": "stream",
     "text": [
      "number of chars: 51 \n",
      "\n",
      "['q', '8', 'E', '#', '3', 'r', 't', '0', 'n', 'a', 'h', 'p', '<', '6', '$', 'i', 'x', '4', 'N', 'k', '>', 'j', 's', 'm', '7', 'e', '/', '1', 'u', 'b', 'v', ' ', '-', \"'\", 'f', '.', 'o', 'd', 'w', '\\\\', 'y', '5', '&', 'g', 'S', '2', '*', 'z', 'c', '9', 'l'] \n",
      "\n",
      "{0: 'q', 1: '8', 2: 'E', 3: '#', 4: '3', 5: 'r', 6: 't', 7: '0', 8: 'n', 9: 'a', 10: 'h', 11: 'p', 12: '<', 13: '6', 14: '$', 15: 'i', 16: 'x', 17: '4', 18: 'N', 19: 'k', 20: '>', 21: 'j', 22: 's', 23: 'm', 24: '7', 25: 'e', 26: '/', 27: '1', 28: 'u', 29: 'b', 30: 'v', 31: ' ', 32: '-', 33: \"'\", 34: 'f', 35: '.', 36: 'o', 37: 'd', 38: 'w', 39: '\\\\', 40: 'y', 41: '5', 42: '&', 43: 'g', 44: 'S', 45: '2', 46: '*', 47: 'z', 48: 'c', 49: '9', 50: 'l'} \n",
      "\n",
      "{'q': 0, 'E': 2, '#': 3, '3': 4, 'r': 5, '0': 7, 'p': 11, 'x': 16, 'n': 8, 'a': 9, 'h': 10, '8': 1, '<': 12, '6': 13, 'k': 19, '$': 14, 'i': 15, '4': 17, 'N': 18, 'j': 21, '>': 20, '\\\\': 39, 's': 22, '/': 26, '7': 24, 'e': 25, '1': 27, 'v': 30, '5': 41, ' ': 31, '-': 32, \"'\": 33, 'm': 23, 'f': 34, '.': 35, 'o': 36, 'd': 37, 'w': 38, 'y': 40, 't': 6, '&': 42, 'g': 43, 'S': 44, '2': 45, '*': 46, 'z': 47, 'c': 48, 'u': 28, 'b': 29, '9': 49, 'l': 50} \n",
      "\n"
     ]
    },
    {
     "data": {
      "image/png": "[encoded data removed]",
      "text/plain": [
       "<Figure size 432x288 with 1 Axes>"
      ]
     },
     "metadata": {},
     "output_type": "display_data"
    }
   ],
   "source": [
    "chars = []\n",
    "for word in total_data_text:\n",
    "    chars.extend(list(word))\n",
    "    \n",
    "ds = pd.Series(chars)\n",
    "ds.value_counts().plot.bar()\n",
    "plt.title('character distribution, total {0} characters(without \\'S\\' and \\'E\\')'.format(len(set(chars))))\n",
    "\n",
    "chars = list(set(chars + ['S'] + ['E'] + [' ']))\n",
    "# 'S' for word leading char, 'E' for word ending char, space for padding\n",
    "id_to_chars = dict(enumerate(chars))\n",
    "chars_to_id = dict((v, k) for k,v in id_to_chars.items())\n",
    "num_chars = len(chars)\n",
    "\n",
    "print('number of chars:', num_chars, '\\n')\n",
    "print(chars, '\\n')\n",
    "print(id_to_chars, '\\n')\n",
    "print(chars_to_id, '\\n')"
   ]
  },
  {
   "cell_type": "code",
   "execution_count": 12,
   "metadata": {},
   "outputs": [
    {
     "data": {
      "text/plain": [
       "[44,\n",
       " 31,\n",
       " 31,\n",
       " 31,\n",
       " 31,\n",
       " 31,\n",
       " 31,\n",
       " 31,\n",
       " 31,\n",
       " 6,\n",
       " 10,\n",
       " 25,\n",
       " 31,\n",
       " 31,\n",
       " 31,\n",
       " 31,\n",
       " 31,\n",
       " 31,\n",
       " 31,\n",
       " 31,\n",
       " 2]"
      ]
     },
     "execution_count": 12,
     "metadata": {},
     "output_type": "execute_result"
    }
   ],
   "source": [
    "def word_to_charId(wordId):\n",
    "    wordString = 'S' + id_to_word[wordId].center(maxWordLen - 2) + 'E'\n",
    "    return [chars_to_id[char] for char in wordString]\n",
    "\n",
    "def wordSeq_charSeq(bWordSeq):\n",
    "    batch, seqLen = bWordSeq.shape\n",
    "    bWordSeq = bWordSeq.ravel()\n",
    "    charSeq = np.array([word_to_charId(wordId) for wordId in bWordSeq])\n",
    "    return charSeq.reshape(batch, seqLen, -1)\n",
    "\n",
    "word_to_charId(word_to_id['the']) # "
   ]
  },
  {
   "cell_type": "code",
   "execution_count": 13,
   "metadata": {},
   "outputs": [],
   "source": [
    "import random\n",
    "\n",
    "from tensorflow.python.keras.utils import to_categorical \n",
    "\n",
    "def gen_char_word(batch_size=128, dataset='train'):\n",
    "    assert dataset in ['train', 'valid', 'test'], 'Dataset must be train or valid or test.'\n",
    "    \n",
    "    dic = {'train':train_data, 'valid':valid_data, 'test':test_data}\n",
    "    data = dic[dataset]\n",
    "    \n",
    "    while True:\n",
    "        rnd_idxs = list(range(len(data)-seq_len-1))\n",
    "        random.shuffle(rnd_idxs)\n",
    "        cnt = 0\n",
    "        while cnt < len(rnd_idxs) - batch_size :\n",
    "            X = np.array([[word_to_id['<SS>']] + data[i:i+seq_len] + [word_to_id['<EE>']]\n",
    "                          for i in rnd_idxs[cnt:cnt+batch_size]])\n",
    "            Y = X[:,1:]\n",
    "            X = X[:,:-1]\n",
    "            Y = to_categorical(Y)\n",
    "            X = wordSeq_charSeq(X) \n",
    "            #print(X.shape)\n",
    "            cnt += batch_size\n",
    "            yield X, Y"
   ]
  },
  {
   "cell_type": "code",
   "execution_count": 14,
   "metadata": {},
   "outputs": [
    {
     "name": "stdout",
     "output_type": "stream",
     "text": [
      "(10002,)\n"
     ]
    }
   ],
   "source": [
    "print(next(gen_char_word(batch_size=1, dataset='train'))[1][0][2].shape)"
   ]
  },
  {
   "cell_type": "markdown",
   "metadata": {},
   "source": [
    "## option"
   ]
  },
  {
   "cell_type": "code",
   "execution_count": 25,
   "metadata": {},
   "outputs": [],
   "source": [
    "class Option():\n",
    "    def __init__(self):\n",
    "        self.batch_size = 20\n",
    "        self.seq_length = seq_len\n",
    "        self.max_word_l = maxWordLen\n",
    "        self.char_vocab_size = num_chars\n",
    "        self.char_vec_size = 15\n",
    "        self.feature_maps = [50,100,150,200,200,200,200]\n",
    "        self.kernels = [1,2,3,4,5,6,7]\n",
    "        self.highway_layers = 2\n",
    "        self.num_lstm_layers = 2\n",
    "        self.rnn_size = 650\n",
    "        self.word_vocab_size = voc_size\n",
    "        self.dropout = 0.5\n",
    "        self.learing_rate = 1\n",
    "        \n",
    "opt = Option()"
   ]
  },
  {
   "cell_type": "markdown",
   "metadata": {},
   "source": [
    "## CNN\n",
    "![CNN part](https://github.com/stikbuf/Language_Modeling/blob/master/Character%20aware-CNN.png?raw=true)"
   ]
  },
  {
   "cell_type": "code",
   "execution_count": 26,
   "metadata": {},
   "outputs": [],
   "source": [
    "from tensorflow.python.keras.layers import Conv2D, MaxPooling2D, Concatenate, Reshape\n",
    "\n",
    "def CNN(seq_length, length, feature_maps, kernels, x):\n",
    "\n",
    "    concat_input = []\n",
    "    for feature_map, kernel in zip(feature_maps, kernels):\n",
    "        reduced_l = length - kernel + 1\n",
    "        conv = Conv2D(feature_map, (1, kernel), activation='tanh', data_format=\"channels_last\")(x)\n",
    "        maxp = MaxPooling2D((1, reduced_l), data_format=\"channels_last\")(conv)\n",
    "        concat_input.append(maxp)\n",
    "\n",
    "    x = Concatenate()(concat_input)\n",
    "    x = Reshape((seq_length, sum(feature_maps)))(x)\n",
    "    return x"
   ]
  },
  {
   "cell_type": "markdown",
   "metadata": {},
   "source": [
    "## Highway Network  \n",
    "[Srivastava et al.](https://arxiv.org/abs/1505.00387)\n",
    "\n",
    "Input vector is $\\textbf{y}$, then layer output $\\textbf{z}$ is\n",
    "$$\\textbf{z = t} \\odot g(\\textbf{W}_H\\textbf{y}+\\textbf{b}_H) + \\textbf{(1 - t)} \\odot \\textbf{y}$$\n",
    "where \n",
    "$$\\textbf{t} = \\sigma(\\textbf{W}_T\\textbf{y}+\\textbf{b}_T)$$\n",
    "\n",
    "$\\textbf{t}$ is called the\n",
    "*transform gate*, and $(\\textbf{1}−\\textbf{t})$ is called the *carry gate*. \n",
    "Similar to the memory cells in LSTM networks, highway layers allow for training of deep networks by adaptively carrying some dimensions of the input directly to the output. By construction the dimensions of $\\textbf{y}$ and $\\textbf{z}$ have to match, and hence $\\textbf{W}_T$ and $\\textbf{W}_H$ are square matrices.  \n",
    "\n",
    "A keras model is also a keras layer! So you can combine some keras layers to design your own layer. This is useful when combining with TimeDistributed wrapper. [See section 3 in this blog](https://keunwoochoi.wordpress.com/2016/11/18/for-beginners-writing-a-custom-keras-layer/)"
   ]
  },
  {
   "cell_type": "code",
   "execution_count": 27,
   "metadata": {},
   "outputs": [],
   "source": [
    "from tensorflow.python.keras import backend as K\n",
    "from tensorflow.python.keras.layers import Dense, Activation, Multiply, Add, Lambda, Input\n",
    "from tensorflow.python.keras.initializers import Constant\n",
    "from tensorflow.python.keras.models import Model\n",
    "\n",
    "def Highway(value, nLayers, activation='tanh', gateBias=-3):\n",
    "    dim = K.int_shape(value)[-1]\n",
    "    gateBiasInitalizer = Constant(gateBias)\n",
    "    for i in range(nLayers):\n",
    "        tGate = Dense(units=dim, bias_initializer=gateBiasInitalizer)(value)\n",
    "        tGate = Activation('sigmoid')(tGate)\n",
    "        cGate = Lambda(lambda x: 1.0-x)(tGate) # I do not specify output_shape\n",
    "        transformed = Dense(units=dim, bias_initializer=gateBiasInitalizer)(value)\n",
    "        transformed = Activation(activation)(value)\n",
    "        transformedGate = Multiply()([tGate, transformed])\n",
    "        identityGate = Multiply()([cGate, value])\n",
    "        value = Add()([transformedGate, identityGate])\n",
    "    return value\n",
    "\n",
    "inputs = Input((sum(opt.feature_maps),))\n",
    "HighwayLayer = Model(inputs=inputs, outputs=Highway(inputs, nLayers=opt.highway_layers))"
   ]
  },
  {
   "cell_type": "code",
   "execution_count": 34,
   "metadata": {},
   "outputs": [
    {
     "name": "stdout",
     "output_type": "stream",
     "text": [
      "__________________________________________________________________________________________________\n",
      "Layer (type)                    Output Shape         Param #     Connected to                     \n",
      "==================================================================================================\n",
      "chars (InputLayer)              (20, 35, 21)         0                                            \n",
      "__________________________________________________________________________________________________\n",
      "chars_embedding (Embedding)     (20, 35, 21, 15)     765         chars[0][0]                      \n",
      "__________________________________________________________________________________________________\n",
      "conv2d_57 (Conv2D)              (20, 35, 21, 50)     800         chars_embedding[0][0]            \n",
      "__________________________________________________________________________________________________\n",
      "conv2d_58 (Conv2D)              (20, 35, 20, 100)    3100        chars_embedding[0][0]            \n",
      "__________________________________________________________________________________________________\n",
      "conv2d_59 (Conv2D)              (20, 35, 19, 150)    6900        chars_embedding[0][0]            \n",
      "__________________________________________________________________________________________________\n",
      "conv2d_60 (Conv2D)              (20, 35, 18, 200)    12200       chars_embedding[0][0]            \n",
      "__________________________________________________________________________________________________\n",
      "conv2d_61 (Conv2D)              (20, 35, 17, 200)    15200       chars_embedding[0][0]            \n",
      "__________________________________________________________________________________________________\n",
      "conv2d_62 (Conv2D)              (20, 35, 16, 200)    18200       chars_embedding[0][0]            \n",
      "__________________________________________________________________________________________________\n",
      "conv2d_63 (Conv2D)              (20, 35, 15, 200)    21200       chars_embedding[0][0]            \n",
      "__________________________________________________________________________________________________\n",
      "max_pooling2d_57 (MaxPooling2D) (20, 35, 1, 50)      0           conv2d_57[0][0]                  \n",
      "__________________________________________________________________________________________________\n",
      "max_pooling2d_58 (MaxPooling2D) (20, 35, 1, 100)     0           conv2d_58[0][0]                  \n",
      "__________________________________________________________________________________________________\n",
      "max_pooling2d_59 (MaxPooling2D) (20, 35, 1, 150)     0           conv2d_59[0][0]                  \n",
      "__________________________________________________________________________________________________\n",
      "max_pooling2d_60 (MaxPooling2D) (20, 35, 1, 200)     0           conv2d_60[0][0]                  \n",
      "__________________________________________________________________________________________________\n",
      "max_pooling2d_61 (MaxPooling2D) (20, 35, 1, 200)     0           conv2d_61[0][0]                  \n",
      "__________________________________________________________________________________________________\n",
      "max_pooling2d_62 (MaxPooling2D) (20, 35, 1, 200)     0           conv2d_62[0][0]                  \n",
      "__________________________________________________________________________________________________\n",
      "max_pooling2d_63 (MaxPooling2D) (20, 35, 1, 200)     0           conv2d_63[0][0]                  \n",
      "__________________________________________________________________________________________________\n",
      "concatenate_9 (Concatenate)     (20, 35, 1, 1100)    0           max_pooling2d_57[0][0]           \n",
      "                                                                 max_pooling2d_58[0][0]           \n",
      "                                                                 max_pooling2d_59[0][0]           \n",
      "                                                                 max_pooling2d_60[0][0]           \n",
      "                                                                 max_pooling2d_61[0][0]           \n",
      "                                                                 max_pooling2d_62[0][0]           \n",
      "                                                                 max_pooling2d_63[0][0]           \n",
      "__________________________________________________________________________________________________\n",
      "reshape_9 (Reshape)             (20, 35, 1100)       0           concatenate_9[0][0]              \n",
      "__________________________________________________________________________________________________\n",
      "batch_normalization_9 (BatchNor (20, 35, 1100)       4400        reshape_9[0][0]                  \n",
      "__________________________________________________________________________________________________\n",
      "time_distributed_15 (TimeDistri (20, 35, 1100)       2422200     batch_normalization_9[0][0]      \n",
      "__________________________________________________________________________________________________\n",
      "lstm_14 (LSTM)                  (20, 35, 650)        4552600     time_distributed_15[0][0]        \n",
      "__________________________________________________________________________________________________\n",
      "dropout_13 (Dropout)            (20, 35, 650)        0           lstm_14[0][0]                    \n",
      "__________________________________________________________________________________________________\n",
      "lstm_15 (LSTM)                  (20, 35, 650)        3382600     dropout_13[0][0]                 \n",
      "__________________________________________________________________________________________________\n",
      "dropout_14 (Dropout)            (20, 35, 650)        0           lstm_15[0][0]                    \n",
      "__________________________________________________________________________________________________\n",
      "time_distributed_16 (TimeDistri (20, 35, 10002)      6511302     dropout_14[0][0]                 \n",
      "==================================================================================================\n",
      "Total params: 16,951,467\n",
      "Trainable params: 16,949,267\n",
      "Non-trainable params: 2,200\n",
      "__________________________________________________________________________________________________\n"
     ]
    }
   ],
   "source": [
    "from tensorflow.python.keras.layers import Input, Embedding, LSTM, Dropout, BatchNormalization, TimeDistributed\n",
    "#from tensorflow.python.keras.optimizers import SGD\n",
    "\n",
    "chars = Input(batch_shape=(opt.batch_size, opt.seq_length, opt.max_word_l), name='chars')\n",
    "chars_embedding = Embedding(opt.char_vocab_size, opt.char_vec_size, name='chars_embedding')(chars)\n",
    "cnn = CNN(opt.seq_length, opt.max_word_l, opt.feature_maps, opt.kernels, chars_embedding)\n",
    "x = cnn\n",
    "inputs = chars\n",
    "\n",
    "x = BatchNormalization()(x)\n",
    "\n",
    "x = TimeDistributed(HighwayLayer)(x)\n",
    "\n",
    "for l in range(opt.num_lstm_layers):\n",
    "    x = LSTM(opt.rnn_size, activation='tanh', recurrent_activation='sigmoid', return_sequences=True, stateful=True)(x)\n",
    "\n",
    "    if opt.dropout > 0:\n",
    "        x = Dropout(opt.dropout)(x)\n",
    "        \n",
    "output = TimeDistributed(Dense(opt.word_vocab_size, activation='softmax'))(x)\n",
    "\n",
    "model = Model(inputs=inputs, outputs=output)\n",
    "model.summary()\n",
    "\n",
    "#optimizer = SGD(lr=opt.learning_rate, clipnorm=opt.max_grad_norm, scale=float(opt.seq_length))\n",
    "model.compile(loss='categorical_crossentropy', optimizer='rmsprop')      "
   ]
  },
  {
   "cell_type": "code",
   "execution_count": null,
   "metadata": {},
   "outputs": [],
   "source": []
  }
 ],
 "metadata": {
  "accelerator": "GPU",
  "colab": {
   "collapsed_sections": [],
   "name": "Keras - Character-Aware Neural Language Models.ipynb",
   "provenance": [],
   "version": "0.3.2"
  },
  "kernelspec": {
   "display_name": "Python 3",
   "language": "python",
   "name": "python3"
  },
  "language_info": {
   "codemirror_mode": {
    "name": "ipython",
    "version": 3
   },
   "file_extension": ".py",
   "mimetype": "text/x-python",
   "name": "python",
   "nbconvert_exporter": "python",
   "pygments_lexer": "ipython3",
   "version": "3.5.2"
  }
 },
 "nbformat": 4,
 "nbformat_minor": 1
}
