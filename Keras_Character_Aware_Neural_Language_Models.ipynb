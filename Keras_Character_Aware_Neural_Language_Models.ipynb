{
 "cells": [
  {
   "cell_type": "markdown",
   "metadata": {},
   "source": [
    "# Preparation"
   ]
  },
  {
   "cell_type": "markdown",
   "metadata": {
    "colab_type": "text",
    "id": "view-in-github"
   },
   "source": [
    "[View in Colaboratory](https://colab.research.google.com/github/stikbuf/Language_Modeling/blob/master/Keras_Character_Aware_Neural_Language_Models.ipynb)"
   ]
  },
  {
   "cell_type": "markdown",
   "metadata": {
    "colab_type": "text",
    "id": "4_0CMzmyQXoy"
   },
   "source": [
    "## Configure the cloud environment\n"
   ]
  },
  {
   "cell_type": "markdown",
   "metadata": {
    "colab_type": "text",
    "id": "QB7JyNTfQfKF"
   },
   "source": [
    "### Mount Google Drive"
   ]
  },
  {
   "cell_type": "code",
   "execution_count": null,
   "metadata": {
    "colab": {
     "base_uri": "https://localhost:8080/",
     "height": 2539
    },
    "colab_type": "code",
    "id": "oTB-axrvQiZU",
    "outputId": "e2997ab7-5a01-4406-d696-aae0c2c981aa"
   },
   "outputs": [],
   "source": [
    "# Install a Drive FUSE wrapper.\n",
    "# https://github.com/astrada/google-drive-ocamlfuse\n",
    "!apt-get install -y -qq software-properties-common python-software-properties module-init-tools\n",
    "!add-apt-repository -y ppa:alessandro-strada/ppa 2>&1 > /dev/null\n",
    "!apt-get update -qq 2>&1 > /dev/null\n",
    "!apt-get -y install -qq google-drive-ocamlfuse fuse\n",
    "\n",
    "\n",
    "# Generate auth tokens for Colab\n",
    "from google.colab import auth\n",
    "auth.authenticate_user()\n",
    "\n",
    "\n",
    "# Generate creds for the Drive FUSE library.\n",
    "from oauth2client.client import GoogleCredentials\n",
    "creds = GoogleCredentials.get_application_default()\n",
    "import getpass\n",
    "!google-drive-ocamlfuse -headless -id={creds.client_id} -secret={creds.client_secret} < /dev/null 2>&1 | grep URL\n",
    "vcode = getpass.getpass()\n",
    "!echo {vcode} | google-drive-ocamlfuse -headless -id={creds.client_id} -secret={creds.client_secret}"
   ]
  },
  {
   "cell_type": "code",
   "execution_count": null,
   "metadata": {
    "colab": {
     "base_uri": "https://localhost:8080/",
     "height": 35
    },
    "colab_type": "code",
    "id": "zVhUtsJjQqy5",
    "outputId": "fbf684be-5cab-471f-ed07-2cc929cc4e7d"
   },
   "outputs": [],
   "source": [
    "# If you got a \"Transport endpoint is not connected.\" error. Please run this line first to unmount the drive.\n",
    "# See https://stackoverflow.com/questions/49588113/google-colab-script-throws-transport-endpoint-is-not-connected?utm_medium=organic&utm_source=google_rich_qa&utm_campaign=google_rich_qa\n",
    "!fusermount -u drive\n",
    "\n",
    "# Create a directory and mount Google Drive using that directory.\n",
    "!mkdir -p drive\n",
    "!google-drive-ocamlfuse drive\n",
    "a = !ls drive/\n",
    "print('Files in Drive:', a)\n",
    "assert a!=[], 'Drive should not be empty!'"
   ]
  },
  {
   "cell_type": "code",
   "execution_count": null,
   "metadata": {
    "colab": {
     "base_uri": "https://localhost:8080/",
     "height": 126
    },
    "colab_type": "code",
    "id": "bvfVOCzkRErx",
    "outputId": "2b10a93a-4be4-457f-ff93-749ace078ab4"
   },
   "outputs": [],
   "source": [
    "local_path='./drive/share_with_me/AI/Character-aware_LM/'\n",
    "#local_path='./'\n",
    "import sys\n",
    "sys.path.append(local_path)\n",
    "!ls './drive/share_with_me/AI/Character-aware_LM/'"
   ]
  },
  {
   "cell_type": "code",
   "execution_count": null,
   "metadata": {
    "colab": {
     "base_uri": "https://localhost:8080/",
     "height": 35
    },
    "colab_type": "code",
    "id": "TbWRANsEQr6U",
    "outputId": "fbedffd8-9029-4ca3-c73c-b87c6a74bfe6"
   },
   "outputs": [],
   "source": [
    "import tensorflow as tf\n",
    "#assert tf.test.gpu_device_name() != '', \"GPU not avaliable!\"\n",
    "tf.test.gpu_device_name()"
   ]
  },
  {
   "cell_type": "markdown",
   "metadata": {
    "colab_type": "text",
    "id": "yUldvgY1RH0S"
   },
   "source": [
    "## Load data (Penn Tree bank -- PTB)"
   ]
  },
  {
   "cell_type": "code",
   "execution_count": 1,
   "metadata": {},
   "outputs": [],
   "source": [
    "local_path='./'"
   ]
  },
  {
   "cell_type": "code",
   "execution_count": 2,
   "metadata": {
    "colab": {},
    "colab_type": "code",
    "id": "5NgfjuJbPoz9"
   },
   "outputs": [
    {
     "name": "stdout",
     "output_type": "stream",
     "text": [
      "Populating the interactive namespace from numpy and matplotlib\n"
     ]
    },
    {
     "name": "stderr",
     "output_type": "stream",
     "text": [
      "/usr/local/lib/python3.5/dist-packages/IPython/core/magics/pylab.py:160: UserWarning: pylab import has clobbered these variables: ['pylab']\n",
      "`%matplotlib` prevents importing * from pylab and numpy\n",
      "  \"\\n`%matplotlib` prevents importing * from pylab and numpy\"\n",
      "/usr/local/lib/python3.5/dist-packages/h5py/__init__.py:36: FutureWarning: Conversion of the second argument of issubdtype from `float` to `np.floating` is deprecated. In future, it will be treated as `np.float64 == np.dtype(float).type`.\n",
      "  from ._conv import register_converters as _register_converters\n"
     ]
    }
   ],
   "source": [
    "from __future__ import print_function\n",
    "import os\n",
    "import pylab\n",
    "%pylab inline\n",
    "import matplotlib.pyplot as plt\n",
    "import matplotlib  \n",
    "%matplotlib inline\n",
    "import tensorflow as tf\n",
    "import numpy as np\n",
    "import pandas as pd\n",
    "\n",
    "from reader import ptb_raw_data, ptb_producer # by Google"
   ]
  },
  {
   "cell_type": "code",
   "execution_count": 3,
   "metadata": {
    "colab": {
     "base_uri": "https://localhost:8080/",
     "height": 35
    },
    "colab_type": "code",
    "id": "dpHEJHNnPo0U",
    "outputId": "78431c7b-a03d-4609-a381-9d7aa5b96632"
   },
   "outputs": [
    {
     "data": {
      "text/plain": [
       "10000"
      ]
     },
     "execution_count": 3,
     "metadata": {},
     "output_type": "execute_result"
    }
   ],
   "source": [
    "train_data, valid_data, test_data, word_to_id = ptb_raw_data(local_path + 'data') # tokens\n",
    "id_to_word = dict((v, k) for k, v in word_to_id.items())\n",
    "voc_size = len(id_to_word)\n",
    "voc_size"
   ]
  },
  {
   "cell_type": "code",
   "execution_count": 4,
   "metadata": {},
   "outputs": [
    {
     "name": "stdout",
     "output_type": "stream",
     "text": [
      "Train data size: 929589, Valid data size: 73760, Test data size: 82430\n",
      "\n",
      "train/val/test_data is a list, some elements in train_data is [9970, 9971, 9972, 9974, 9975, 9976, 9980, 9981, 9982, 9983]\n"
     ]
    }
   ],
   "source": [
    "print('Train data size: {0}, Valid data size: {1}, Test data size: {2}\\n'.\n",
    "      format(len(train_data), len(valid_data), len(test_data)))\n",
    "print('train/val/test_data is a list, some elements in train_data is', train_data[:10])"
   ]
  },
  {
   "cell_type": "code",
   "execution_count": 5,
   "metadata": {
    "colab": {
     "base_uri": "https://localhost:8080/",
     "height": 35
    },
    "colab_type": "code",
    "id": "oZ8sUleQSoWQ",
    "outputId": "c4796a76-4fe3-48a3-f62a-bef541f937b0"
   },
   "outputs": [
    {
     "data": {
      "text/plain": [
       "10002"
      ]
     },
     "execution_count": 5,
     "metadata": {},
     "output_type": "execute_result"
    }
   ],
   "source": [
    "id_to_word[voc_size]='<SS>' # Add start word token '<SS>'\n",
    "id_to_word[voc_size+1]='<EE>' # Add end word token '<EE>'\n",
    "word_to_id = dict((v, k) for k, v in id_to_word.items())\n",
    "voc_size = len(id_to_word)\n",
    "voc_size"
   ]
  },
  {
   "cell_type": "code",
   "execution_count": 6,
   "metadata": {
    "colab": {
     "base_uri": "https://localhost:8080/",
     "height": 235
    },
    "colab_type": "code",
    "id": "zj8IWqJ8Po0h",
    "outputId": "5e9fded6-d6d9-44f1-dfa6-9fdece6f2df4"
   },
   "outputs": [
    {
     "name": "stdout",
     "output_type": "stream",
     "text": [
      "       id\n",
      "the     0\n",
      "<unk>   1\n",
      "<eos>   2\n",
      "N       3\n",
      "of      4\n",
      "              id\n",
      "ssangyong   9997\n",
      "swapo       9998\n",
      "wachter     9999\n",
      "<SS>       10000\n",
      "<EE>       10001\n"
     ]
    }
   ],
   "source": [
    "word_id = pd.DataFrame.from_dict(word_to_id, orient='index').sort_values(by=0, ascending=True)\n",
    "word_id.columns = ['id']\n",
    "print(word_id.head())\n",
    "print(word_id.tail())"
   ]
  },
  {
   "cell_type": "code",
   "execution_count": 7,
   "metadata": {
    "colab": {
     "base_uri": "https://localhost:8080/",
     "height": 235
    },
    "colab_type": "code",
    "id": "uxPQPQqMPo0t",
    "outputId": "946af7f2-7906-4fa3-f2bc-d1d7bffe5428"
   },
   "outputs": [
    {
     "name": "stdout",
     "output_type": "stream",
     "text": [
      "    word\n",
      "0    the\n",
      "1  <unk>\n",
      "2  <eos>\n",
      "3      N\n",
      "4     of\n",
      "            word\n",
      "9997   ssangyong\n",
      "9998       swapo\n",
      "9999     wachter\n",
      "10000       <SS>\n",
      "10001       <EE>\n"
     ]
    }
   ],
   "source": [
    "id_word = pd.DataFrame.from_dict(id_to_word, orient='index')\n",
    "id_word.columns = ['word']\n",
    "print(id_word.head())\n",
    "print(id_word.tail())"
   ]
  },
  {
   "cell_type": "code",
   "execution_count": 8,
   "metadata": {
    "colab": {
     "base_uri": "https://localhost:8080/",
     "height": 55
    },
    "colab_type": "code",
    "id": "Hz5IRBM6Po04",
    "outputId": "3d885c2d-15f3-4176-e943-1ae2ed489515"
   },
   "outputs": [
    {
     "data": {
      "text/plain": [
       "'aer banknote berlitz calloway centrust cluett fromstein gitano guterman hydro-quebec ipo kia memotec mlx nahb punts rake regatta rubens sim snack-food ssangyong swapo wachter <eos> pierre <unk> N years old will join the board as a nonexecutive director nov. N <eos> mr. <unk> is chairman of <unk> n.v. the dutch'"
      ]
     },
     "execution_count": 8,
     "metadata": {},
     "output_type": "execute_result"
    }
   ],
   "source": [
    "' '.join([id_to_word[id] for id in train_data[:50]])"
   ]
  },
  {
   "cell_type": "code",
   "execution_count": 9,
   "metadata": {},
   "outputs": [],
   "source": [
    "seq_len = 35"
   ]
  },
  {
   "cell_type": "markdown",
   "metadata": {
    "colab_type": "text",
    "id": "GDwfc2jpPo1D"
   },
   "source": [
    "# RNN baseline"
   ]
  },
  {
   "cell_type": "markdown",
   "metadata": {},
   "source": [
    "## data generator"
   ]
  },
  {
   "cell_type": "code",
   "execution_count": 10,
   "metadata": {
    "colab": {},
    "colab_type": "code",
    "id": "KPQMjhyePo1F"
   },
   "outputs": [],
   "source": [
    "import random\n",
    "\n",
    "from tensorflow.python.keras.utils import to_categorical \n",
    "\n",
    "def gen_word_word(batch_size=128, dataset='train'):\n",
    "    assert dataset in ['train', 'valid', 'test'], 'Dataset must be train or valid or test.'\n",
    "    \n",
    "    dic = {'train':train_data, 'valid':valid_data, 'test':test_data}\n",
    "    data = dic[dataset]\n",
    "    \n",
    "    while True:\n",
    "        rnd_idxs = list(range(len(data)-seq_len-1))\n",
    "        random.shuffle(rnd_idxs)\n",
    "        cnt = 0\n",
    "        while cnt < len(rnd_idxs) - batch_size :\n",
    "            X = np.array([[word_to_id['<SS>']] + data[i:i+seq_len] + [word_to_id['<EE>']]\n",
    "                          for i in rnd_idxs[cnt:cnt+batch_size]])\n",
    "            Y = X[:,1:]\n",
    "            X = X[:,:-1]\n",
    "            Y = to_categorical(Y)\n",
    "            #print(X.shape)\n",
    "            cnt += batch_size\n",
    "            yield X, Y"
   ]
  },
  {
   "cell_type": "markdown",
   "metadata": {},
   "source": [
    "## Keras model"
   ]
  },
  {
   "cell_type": "code",
   "execution_count": 11,
   "metadata": {
    "colab": {},
    "colab_type": "code",
    "id": "JL6Za0iNPo1O"
   },
   "outputs": [],
   "source": [
    "from tensorflow.python.keras.models import Sequential\n",
    "from tensorflow.python.keras.layers import GRU, Dense, Embedding, InputLayer, Dropout\n",
    "from tensorflow.python.keras.optimizers import RMSprop"
   ]
  },
  {
   "cell_type": "markdown",
   "metadata": {},
   "source": [
    "Add dropout between layers, see [Recurrent Neural Network Regularization](https://arxiv.org/abs/1409.2329)"
   ]
  },
  {
   "cell_type": "code",
   "execution_count": 12,
   "metadata": {
    "colab": {},
    "colab_type": "code",
    "id": "Pt6IvftHPo1Y"
   },
   "outputs": [],
   "source": [
    "model = Sequential()\n",
    "\n",
    "embedding_size = 128\n",
    "\n",
    "\n",
    "model.add(Embedding(input_dim=voc_size,\n",
    "                    output_dim=embedding_size,\n",
    "                    name='inputEmbedding'))\n",
    "model.add(GRU(units=128, return_sequences=True))\n",
    "model.add(Dropout(0.3)) \n",
    "model.add(GRU(units=64, return_sequences=True))\n",
    "model.add(Dropout(0.2))\n",
    "model.add(Dense(voc_size, activation='softmax'))"
   ]
  },
  {
   "cell_type": "markdown",
   "metadata": {},
   "source": [
    "If we denote $w_{1:T} = [w_1, w_2,...,w_T ]$ to be the sequence of words in thes, training involves minimizing\n",
    "the negative log-likelihood ($NLL$)\n",
    "$$NLL = - \\sum_{t=1}^{T} \\log Pr (w_t | w_{1:t-1})$$\n",
    "i.e. the Crossentropy loss (with out averaging).  \n",
    "As is standard in language modeling, we use perplexity(PPL) to evaluate the performance of our models. Perplexity of a model over a sequence $[w_1, w_2,...,w_T ]$ is given by\n",
    "$$PPL = e^\\frac{NLL}{T} = e^{ave (Crossentropy)}$$\n",
    "where $NLL/Crossentropy$ is calculated over the test set.\n"
   ]
  },
  {
   "cell_type": "code",
   "execution_count": 13,
   "metadata": {
    "colab": {},
    "colab_type": "code",
    "id": "Evcq5fYye8jt"
   },
   "outputs": [],
   "source": [
    "# perplexity\n",
    "def PPL(y_true, y_pred):\n",
    "    return tf.exp(tf.reduce_mean(tf.keras.backend.categorical_crossentropy(y_true, y_pred)))\n",
    "\n",
    "def ACC(y_true, y_pred):\n",
    "    ACC = tf.equal(tf.argmax(y_true, axis = 2), \n",
    "                   tf.argmax(y_pred, axis = 2))\n",
    "    ACC = tf.cast(ACC, tf.float32)\n",
    "\n",
    "    return tf.reduce_mean(ACC)"
   ]
  },
  {
   "cell_type": "code",
   "execution_count": 14,
   "metadata": {
    "colab": {},
    "colab_type": "code",
    "id": "KRoe-64bZAWz"
   },
   "outputs": [],
   "source": [
    "optimizer = RMSprop(lr=1e-3)\n",
    "model.compile(optimizer=optimizer,\n",
    "              loss='categorical_crossentropy',\n",
    "              metrics=[ACC, PPL])"
   ]
  },
  {
   "cell_type": "code",
   "execution_count": 15,
   "metadata": {
    "colab": {
     "base_uri": "https://localhost:8080/",
     "height": 290
    },
    "colab_type": "code",
    "id": "efPbWtAJPo2P",
    "outputId": "c9bf68c6-3436-44f3-e4e4-04b33a82dfd0"
   },
   "outputs": [
    {
     "name": "stdout",
     "output_type": "stream",
     "text": [
      "_________________________________________________________________\n",
      "Layer (type)                 Output Shape              Param #   \n",
      "=================================================================\n",
      "inputEmbedding (Embedding)   (None, None, 128)         1280256   \n",
      "_________________________________________________________________\n",
      "gru_1 (GRU)                  (None, None, 128)         98688     \n",
      "_________________________________________________________________\n",
      "dropout_1 (Dropout)          (None, None, 128)         0         \n",
      "_________________________________________________________________\n",
      "gru_2 (GRU)                  (None, None, 64)          37056     \n",
      "_________________________________________________________________\n",
      "dropout_2 (Dropout)          (None, None, 64)          0         \n",
      "_________________________________________________________________\n",
      "dense_1 (Dense)              (None, None, 10002)       650130    \n",
      "=================================================================\n",
      "Total params: 2,066,130\n",
      "Trainable params: 2,066,130\n",
      "Non-trainable params: 0\n",
      "_________________________________________________________________\n"
     ]
    }
   ],
   "source": [
    "model.summary()"
   ]
  },
  {
   "cell_type": "code",
   "execution_count": 16,
   "metadata": {},
   "outputs": [],
   "source": [
    "from tensorflow.python.keras.callbacks import TensorBoard, ModelCheckpoint\n",
    "import os\n",
    "if not os.path.exists(local_path + 'model/'):\n",
    "    os.mkdir(local_path + 'model/')\n",
    "\n",
    "path_model = local_path + 'model/model.keras'    \n",
    "tensorboard = TensorBoard(log_dir='log')\n",
    "checkpoint = ModelCheckpoint(filepath=path_model, verbose=1,\n",
    "                             monitor='val_PPL',mode='min' ,save_best_only='True')\n",
    "# path_model = local_path + 'model/model.keras'\n",
    "# model.save(path_model)\n",
    "\n",
    "callback_lists=[tensorboard,checkpoint]"
   ]
  },
  {
   "cell_type": "code",
   "execution_count": 18,
   "metadata": {
    "colab": {
     "base_uri": "https://localhost:8080/",
     "height": 3677
    },
    "colab_type": "code",
    "id": "7rWihlHePo2Z",
    "outputId": "19ef2c40-5173-42d2-e4ff-d43ff273cd1d"
   },
   "outputs": [
    {
     "name": "stdout",
     "output_type": "stream",
     "text": [
      "Epoch 1/3\n",
      "49/50 [============================>.] - ETA: 0s - loss: 7.1285 - ACC: 0.0434 - PPL: 1425.8713\n",
      "Epoch 00001: val_PPL improved from inf to 692.17026, saving model to ./model/model.keras\n",
      "50/50 [==============================] - 51s 1s/step - loss: 7.1174 - ACC: 0.0434 - PPL: 1411.7309 - val_loss: 6.5392 - val_ACC: 0.0447 - val_PPL: 692.1703\n",
      "Epoch 2/3\n",
      "49/50 [============================>.] - ETA: 0s - loss: 6.5171 - ACC: 0.0507 - PPL: 677.0997\n",
      "Epoch 00002: val_PPL improved from 692.17026 to 652.26618, saving model to ./model/model.keras\n",
      "50/50 [==============================] - 47s 937ms/step - loss: 6.5178 - ACC: 0.0507 - PPL: 677.5807 - val_loss: 6.4793 - val_ACC: 0.0542 - val_PPL: 652.2662\n",
      "Epoch 3/3\n",
      "49/50 [============================>.] - ETA: 0s - loss: 6.4893 - ACC: 0.0540 - PPL: 658.4910\n",
      "Epoch 00003: val_PPL improved from 652.26618 to 651.34824, saving model to ./model/model.keras\n",
      "50/50 [==============================] - 47s 936ms/step - loss: 6.4899 - ACC: 0.0543 - PPL: 658.9478 - val_loss: 6.4782 - val_ACC: 0.0633 - val_PPL: 651.3482\n"
     ]
    }
   ],
   "source": [
    "history = model.fit_generator(generator=gen_word_word(), \n",
    "                           steps_per_epoch=50, epochs=125,\n",
    "                           callbacks=callback_lists,\n",
    "                           validation_data=gen_word_word(dataset='valid'),\n",
    "                           validation_steps=30)"
   ]
  },
  {
   "cell_type": "code",
   "execution_count": 19,
   "metadata": {
    "colab": {},
    "colab_type": "code",
    "id": "G2l21JdFPo3A"
   },
   "outputs": [],
   "source": [
    "logs = pd.DataFrame(history.history)"
   ]
  },
  {
   "cell_type": "code",
   "execution_count": 20,
   "metadata": {
    "colab": {
     "base_uri": "https://localhost:8080/",
     "height": 301
    },
    "colab_type": "code",
    "id": "jQLqEZwRPo3M",
    "outputId": "9e0c5672-82b6-4fdb-8f11-739eb0007baa"
   },
   "outputs": [
    {
     "name": "stdout",
     "output_type": "stream",
     "text": [
      "Index(['ACC', 'PPL', 'loss', 'val_ACC', 'val_PPL', 'val_loss'], dtype='object')\n"
     ]
    },
    {
     "data": {
      "text/plain": [
       "<matplotlib.axes._subplots.AxesSubplot at 0x7fe865221e80>"
      ]
     },
     "execution_count": 20,
     "metadata": {},
     "output_type": "execute_result"
    },
    {
     "data": {
      "image/png": "[encoded data removed]",
      "text/plain": [
       "<Figure size 936x576 with 1 Axes>"
      ]
     },
     "metadata": {},
     "output_type": "display_data"
    }
   ],
   "source": [
    "print(logs.columns)\n",
    "pylab.rcParams['figure.figsize'] = (13, 8)\n",
    "logs.loc[1:,['PPL','val_PPL']].plot()"
   ]
  },
  {
   "cell_type": "code",
   "execution_count": 21,
   "metadata": {
    "colab": {},
    "colab_type": "code",
    "id": "kI9DyqjoPo3s"
   },
   "outputs": [],
   "source": [
    "# path_model = local_path + 'model/model.keras'\n",
    "# model.save(path_model)"
   ]
  },
  {
   "cell_type": "code",
   "execution_count": 22,
   "metadata": {
    "colab": {},
    "colab_type": "code",
    "id": "V_USEcjEPo3x"
   },
   "outputs": [],
   "source": [
    "from tensorflow.python.keras.models import load_model\n",
    "\n",
    "model_restore = load_model(path_model, custom_objects={'ACC':ACC,'PPL': PPL})"
   ]
  },
  {
   "cell_type": "code",
   "execution_count": 23,
   "metadata": {
    "colab": {
     "base_uri": "https://localhost:8080/",
     "height": 1129
    },
    "colab_type": "code",
    "id": "9iSl3szGPo37",
    "outputId": "150689c7-d3fb-4935-9184-dfc4ec6ef708",
    "scrolled": false
   },
   "outputs": [
    {
     "name": "stdout",
     "output_type": "stream",
     "text": [
      "Epoch 1/3\n",
      "49/50 [============================>.] - ETA: 0s - loss: 6.4306 - ACC: 0.0657 - PPL: 621.1906\n",
      "Epoch 00001: val_PPL improved from 651.34824 to 607.77780, saving model to ./model/model.keras\n",
      "50/50 [==============================] - 49s 972ms/step - loss: 6.4290 - ACC: 0.0659 - PPL: 620.2484 - val_loss: 6.4091 - val_ACC: 0.0724 - val_PPL: 607.7778\n",
      "Epoch 2/3\n",
      "49/50 [============================>.] - ETA: 0s - loss: 6.3748 - ACC: 0.0762 - PPL: 587.5197\n",
      "Epoch 00002: val_PPL improved from 607.77780 to 561.46526, saving model to ./model/model.keras\n",
      "50/50 [==============================] - 45s 901ms/step - loss: 6.3749 - ACC: 0.0763 - PPL: 587.5656 - val_loss: 6.3293 - val_ACC: 0.0841 - val_PPL: 561.4653\n",
      "Epoch 3/3\n",
      "49/50 [============================>.] - ETA: 0s - loss: 6.3043 - ACC: 0.0881 - PPL: 547.6188\n",
      "Epoch 00003: val_PPL improved from 561.46526 to 526.48944, saving model to ./model/model.keras\n",
      "50/50 [==============================] - 46s 919ms/step - loss: 6.3048 - ACC: 0.0883 - PPL: 547.9209 - val_loss: 6.2650 - val_ACC: 0.1005 - val_PPL: 526.4894\n"
     ]
    }
   ],
   "source": [
    "history = model_restore.fit_generator(generator=gen_word_word(), \n",
    "                           steps_per_epoch=50, epochs=3,\n",
    "                           callbacks=callback_lists,\n",
    "                           validation_data=gen_word_word(dataset='valid'),\n",
    "                           validation_steps=30)"
   ]
  },
  {
   "cell_type": "code",
   "execution_count": 24,
   "metadata": {
    "colab": {
     "base_uri": "https://localhost:8080/",
     "height": 301
    },
    "colab_type": "code",
    "id": "WPNTJojePo4D",
    "outputId": "8b2ce958-73e2-4498-9f01-78d2f5d49a86"
   },
   "outputs": [
    {
     "name": "stdout",
     "output_type": "stream",
     "text": [
      "Index(['ACC', 'PPL', 'loss', 'val_ACC', 'val_PPL', 'val_loss'], dtype='object')\n"
     ]
    },
    {
     "data": {
      "text/plain": [
       "<matplotlib.axes._subplots.AxesSubplot at 0x7fe8650be550>"
      ]
     },
     "execution_count": 24,
     "metadata": {},
     "output_type": "execute_result"
    },
    {
     "data": {
      "image/png": "[encoded data removed]",
      "text/plain": [
       "<Figure size 936x576 with 1 Axes>"
      ]
     },
     "metadata": {},
     "output_type": "display_data"
    }
   ],
   "source": [
    "logs = pd.DataFrame(history.history)\n",
    "print(logs.columns)\n",
    "pylab.rcParams['figure.figsize'] = (13, 8)\n",
    "logs.loc[:,['PPL','val_PPL']].plot()"
   ]
  },
  {
   "cell_type": "code",
   "execution_count": 25,
   "metadata": {
    "colab": {},
    "colab_type": "code",
    "id": "SY8V79vOPo4N"
   },
   "outputs": [],
   "source": [
    "def predict_seq(model, preSeq=None, genLen=seq_len, power=1):\n",
    "    \"\"\" Predict a sequence with length genLen.\n",
    "        arg:\n",
    "            model: Keras model used to predict.\n",
    "            preSeq: list. The leading sequence.\n",
    "            genLen: float or np.inf. If power is equal to np.inf, then an argmax will be used. \n",
    "            power: Probility power.\n",
    "    \"\"\"\n",
    "    preSeq = [word_to_id['<SS>']] if preSeq == None else [word_to_id['<SS>']] + preSeq   \n",
    "    pointer = len(preSeq) - 1\n",
    "    \n",
    "    for _ in range(genLen):\n",
    "        inputSeq = np.array([preSeq])\n",
    "        prob = model.predict(inputSeq)[0, pointer, :]\n",
    "        if power==np.inf:\n",
    "            pred = np.argmax(prob)\n",
    "        else:\n",
    "            prob = np.power(prob, power)\n",
    "            prob = prob / np.sum(prob)\n",
    "            pred = np.random.choice(range(voc_size), p=prob)\n",
    "        preSeq.append(pred)\n",
    "        pointer = pointer + 1\n",
    "\n",
    "    return preSeq, ' '.join([id_to_word[id] for id in preSeq])"
   ]
  },
  {
   "cell_type": "code",
   "execution_count": 26,
   "metadata": {},
   "outputs": [
    {
     "data": {
      "text/plain": [
       "'<SS> editors & murdered scandal a N of in <unk> right in even removed <unk> currency their corp. turn sign sept. on N a more revenue are were prices up <unk> to sets of to year'"
      ]
     },
     "execution_count": 26,
     "metadata": {},
     "output_type": "execute_result"
    }
   ],
   "source": [
    "_, seq = predict_seq(model, power=1)\n",
    "seq"
   ]
  },
  {
   "cell_type": "code",
   "execution_count": null,
   "metadata": {},
   "outputs": [],
   "source": []
  },
  {
   "cell_type": "markdown",
   "metadata": {},
   "source": [
    "# Character aware model\n",
    "\n",
    "[Character-Aware Neural Language Models -- arxiv-1508.06615 -- AAAI 2016](https://arxiv.org/abs/1508.06615)\n",
    "\n",
    "[Ref: Github/jarfo/kchar](https://github.com/jarfo/kchar)\n",
    "\n",
    "\n",
    "![model](https://github.com/stikbuf/Language_Modeling/blob/master/Character%20aware.png?raw=true)\n"
   ]
  },
  {
   "cell_type": "markdown",
   "metadata": {
    "colab": {},
    "colab_type": "code",
    "id": "fKog3W-MPo4c"
   },
   "source": [
    "## Load data"
   ]
  },
  {
   "cell_type": "markdown",
   "metadata": {},
   "source": [
    "### convert to text"
   ]
  },
  {
   "cell_type": "code",
   "execution_count": 10,
   "metadata": {},
   "outputs": [
    {
     "data": {
      "text/plain": [
       "Text(0.5,1,'word length distribution, max=19, min=1')"
      ]
     },
     "execution_count": 10,
     "metadata": {},
     "output_type": "execute_result"
    },
    {
     "data": {
      "image/png": "[encoded data removed]",
      "text/plain": [
       "<Figure size 720x360 with 1 Axes>"
      ]
     },
     "metadata": {},
     "output_type": "display_data"
    }
   ],
   "source": [
    "train_data_text = [id_to_word[idx] for idx in train_data]\n",
    "valid_data_text = [id_to_word[idx] for idx in valid_data]\n",
    "test_data_text = [id_to_word[idx] for idx in test_data]\n",
    "total_data_text = train_data_text + valid_data_text + test_data_text\n",
    "\n",
    "maxWordLen = max([len(word) for word in total_data_text])\n",
    "maxWordLen += 2 # Inclued Start and End character\n",
    "\n",
    "ds = pd.Series([len(word) for word in total_data_text])\n",
    "plt.figure(figsize=(10,5))\n",
    "ds.plot.hist(bins=range(1, maxWordLen))\n",
    "plt.title('word length distribution, max={0}, min={1}'.\n",
    "          format(ds.max(), ds.min()))"
   ]
  },
  {
   "cell_type": "markdown",
   "metadata": {},
   "source": [
    "### merge chars"
   ]
  },
  {
   "cell_type": "code",
   "execution_count": 11,
   "metadata": {},
   "outputs": [
    {
     "data": {
      "image/png": "[encoded data removed]",
      "text/plain": [
       "<Figure size 1080x720 with 1 Axes>"
      ]
     },
     "metadata": {},
     "output_type": "display_data"
    },
    {
     "name": "stdout",
     "output_type": "stream",
     "text": [
      "number of chars: 51 \n",
      "\n",
      "['#', 'b', '&', '.', '3', 'p', 'a', 'o', '4', 'E', 'g', '>', 'z', 'r', 'N', '\\\\', 'd', 'm', 'S', '<', '/', 'v', \"'\", '7', 'u', 'l', 'w', '0', 'c', 's', '8', '6', 'n', 'i', 'x', '5', 'j', ' ', 'y', '9', 'f', '$', 'q', 't', '-', '*', 'h', '1', '2', 'k', 'e'] \n",
      "\n",
      "{0: '#', 1: 'b', 2: '&', 3: '.', 4: '3', 5: 'p', 6: 'a', 7: 'o', 8: '4', 9: 'E', 10: 'g', 11: '>', 12: 'z', 13: 'r', 14: 'N', 15: '\\\\', 16: 'd', 17: 'm', 18: 'S', 19: '<', 20: '/', 21: 'v', 22: \"'\", 23: '7', 24: 'u', 25: 'l', 26: 'w', 27: '0', 28: 'c', 29: 's', 30: '8', 31: '6', 32: 'n', 33: 'i', 34: 'x', 35: '5', 36: 'j', 37: ' ', 38: 'y', 39: '9', 40: 'f', 41: '$', 42: 'q', 43: 't', 44: '-', 45: '*', 46: 'h', 47: '1', 48: '2', 49: 'k', 50: 'e'} \n",
      "\n",
      "{'#': 0, 'b': 1, '&': 2, '.': 3, 'm': 17, '3': 4, 'p': 5, 'a': 6, 'o': 7, 'E': 9, 'g': 10, '>': 11, 'z': 12, 'r': 13, 'N': 14, '2': 48, 'd': 16, '\\\\': 15, 'S': 18, '<': 19, '/': 20, 'v': 21, \"'\": 22, '7': 23, 'u': 24, 'l': 25, '0': 27, 'w': 26, 'y': 38, 's': 29, '6': 31, 'n': 32, 'i': 33, 'x': 34, '4': 8, 'j': 36, '$': 41, ' ': 37, '9': 39, 'c': 28, 'f': 40, '*': 45, 'q': 42, 't': 43, '-': 44, 'h': 46, '5': 35, '1': 47, 'k': 49, '8': 30, 'e': 50} \n",
      "\n"
     ]
    }
   ],
   "source": [
    "chars = []\n",
    "for word in total_data_text:\n",
    "    chars.extend(list(word))\n",
    "    \n",
    "ds = pd.Series(chars)\n",
    "plt.figure(figsize=(15,10))   \n",
    "matplotlib.rc('xtick', labelsize=20)\n",
    "matplotlib.rc('ytick', labelsize=15)\n",
    "ds.value_counts().plot.bar()\n",
    "plt.title('character distribution, total {0} characters(without \\'S\\' and \\'E\\')'.format(len(set(chars))))\n",
    "plt.show()\n",
    "\n",
    "chars = list(set(chars + ['S'] + ['E'] + [' ']))\n",
    "# 'S' for word leading char, 'E' for word ending char, space for padding\n",
    "id_to_chars = dict(enumerate(chars))\n",
    "chars_to_id = dict((v, k) for k,v in id_to_chars.items())\n",
    "num_chars = len(chars)\n",
    "\n",
    "print('number of chars:', num_chars, '\\n')\n",
    "print(chars, '\\n')\n",
    "print(id_to_chars, '\\n')\n",
    "print(chars_to_id, '\\n')"
   ]
  },
  {
   "cell_type": "code",
   "execution_count": 12,
   "metadata": {},
   "outputs": [
    {
     "data": {
      "text/plain": [
       "[18,\n",
       " 37,\n",
       " 37,\n",
       " 37,\n",
       " 37,\n",
       " 37,\n",
       " 37,\n",
       " 37,\n",
       " 37,\n",
       " 43,\n",
       " 46,\n",
       " 50,\n",
       " 37,\n",
       " 37,\n",
       " 37,\n",
       " 37,\n",
       " 37,\n",
       " 37,\n",
       " 37,\n",
       " 37,\n",
       " 9]"
      ]
     },
     "execution_count": 12,
     "metadata": {},
     "output_type": "execute_result"
    }
   ],
   "source": [
    "def word_to_charId(wordId):\n",
    "    # Convert word to a string of word Ids\n",
    "    wordString = 'S' + id_to_word[wordId].center(maxWordLen - 2) + 'E'\n",
    "    return [chars_to_id[char] for char in wordString]\n",
    "\n",
    "def wordSeq_charSeq(bWordSeq):\n",
    "    batch, seqLen = bWordSeq.shape\n",
    "    bWordSeq = bWordSeq.ravel()\n",
    "    charSeq = np.array([word_to_charId(wordId) for wordId in bWordSeq])\n",
    "    return charSeq.reshape(batch, seqLen, -1)\n",
    "\n",
    "word_to_charId(word_to_id['the']) # "
   ]
  },
  {
   "cell_type": "code",
   "execution_count": 13,
   "metadata": {},
   "outputs": [],
   "source": [
    "import random\n",
    "\n",
    "from tensorflow.python.keras.utils import to_categorical \n",
    "\n",
    "def gen_char_word(batch_size=128, dataset='train'):\n",
    "    assert dataset in ['train', 'valid', 'test'], 'Dataset must be train or valid or test.'\n",
    "    \n",
    "    dic = {'train':train_data, 'valid':valid_data, 'test':test_data}\n",
    "    data = dic[dataset]\n",
    "    \n",
    "    while True:\n",
    "        rnd_idxs = list(range(len(data)-seq_len-1))\n",
    "        random.shuffle(rnd_idxs)\n",
    "        cnt = 0\n",
    "        while cnt < len(rnd_idxs) - batch_size :\n",
    "            X = np.array([[word_to_id['<SS>']] + data[i:i+seq_len] + [word_to_id['<EE>']]\n",
    "                          for i in rnd_idxs[cnt:cnt+batch_size]])\n",
    "            Y = X[:,1:]\n",
    "            X = X[:,:-1]\n",
    "            Y = to_categorical(Y)\n",
    "            X = wordSeq_charSeq(X) \n",
    "            #print(X.shape)\n",
    "            cnt += batch_size\n",
    "            yield X, Y"
   ]
  },
  {
   "cell_type": "code",
   "execution_count": 14,
   "metadata": {},
   "outputs": [
    {
     "name": "stdout",
     "output_type": "stream",
     "text": [
      "(10002,)\n"
     ]
    }
   ],
   "source": [
    "print(next(gen_char_word(batch_size=1, dataset='train'))[1][0][2].shape)"
   ]
  },
  {
   "cell_type": "markdown",
   "metadata": {},
   "source": [
    "## option"
   ]
  },
  {
   "cell_type": "code",
   "execution_count": 15,
   "metadata": {},
   "outputs": [],
   "source": [
    "class Option():\n",
    "    def __init__(self):\n",
    "        self.batch_size = 20\n",
    "        self.seq_length = seq_len + 1\n",
    "        self.max_word_l = maxWordLen # Include Start and End character\n",
    "        self.char_vocab_size = num_chars\n",
    "        self.char_vec_size = 15\n",
    "        self.feature_maps = [50,100,150,200,200,200,200]\n",
    "        self.kernels = [1,2,3,4,5,6,7]\n",
    "        self.highway_layers = 2\n",
    "        self.num_lstm_layers = 2\n",
    "        self.rnn_size = 128\n",
    "        self.word_vocab_size = voc_size\n",
    "        self.dropout = 0.5\n",
    "        self.learing_rate = 1e-5\n",
    "        \n",
    "opt = Option()"
   ]
  },
  {
   "cell_type": "markdown",
   "metadata": {},
   "source": [
    "## CNN\n",
    "![CNN part](https://github.com/stikbuf/Language_Modeling/blob/master/Character%20aware-CNN.png?raw=true)"
   ]
  },
  {
   "cell_type": "code",
   "execution_count": 16,
   "metadata": {},
   "outputs": [],
   "source": [
    "from tensorflow.python.keras.layers import Conv2D, MaxPooling2D, Concatenate, Reshape\n",
    "\n",
    "def CNN(seq_length, length, feature_maps, kernels, x):\n",
    "\n",
    "    concat_input = []\n",
    "    for feature_map, kernel in zip(feature_maps, kernels):\n",
    "        reduced_l = length - kernel + 1\n",
    "        conv = Conv2D(feature_map, (1, kernel), activation='tanh', data_format=\"channels_last\")(x)\n",
    "        maxp = MaxPooling2D((1, reduced_l), data_format=\"channels_last\")(conv)\n",
    "        concat_input.append(maxp)\n",
    "\n",
    "    x = Concatenate()(concat_input)\n",
    "    x = Reshape((seq_length, sum(feature_maps)))(x)\n",
    "    return x"
   ]
  },
  {
   "cell_type": "markdown",
   "metadata": {},
   "source": [
    "## Highway Network  \n",
    "[Srivastava et al.](https://arxiv.org/abs/1505.00387)\n",
    "\n",
    "Input vector is $\\textbf{y}$, then layer output $\\textbf{z}$ is\n",
    "$$\\textbf{z = t} \\odot g(\\textbf{W}_H\\textbf{y}+\\textbf{b}_H) + \\textbf{(1 - t)} \\odot \\textbf{y}$$\n",
    "where \n",
    "$$\\textbf{t} = \\sigma(\\textbf{W}_T\\textbf{y}+\\textbf{b}_T)$$\n",
    "\n",
    "$\\textbf{t}$ is called the\n",
    "*transform gate*, and $(\\textbf{1}−\\textbf{t})$ is called the *carry gate*. \n",
    "Similar to the memory cells in LSTM networks, highway layers allow for training of deep networks by adaptively carrying some dimensions of the input directly to the output. By construction the dimensions of $\\textbf{y}$ and $\\textbf{z}$ have to match, and hence $\\textbf{W}_T$ and $\\textbf{W}_H$ are square matrices. **Basically, a highway layer is a dense layer with residual connection modulated by an adaptive gate.**\n",
    "\n",
    "A keras model is also a keras layer! So you can combine some keras layers to design your own layer. This is useful when combining with TimeDistributed wrapper. [See section 3 in this blog](https://keunwoochoi.wordpress.com/2016/11/18/for-beginners-writing-a-custom-keras-layer/)"
   ]
  },
  {
   "cell_type": "code",
   "execution_count": 17,
   "metadata": {},
   "outputs": [],
   "source": [
    "from tensorflow.python.keras import backend as K\n",
    "from tensorflow.python.keras.layers import Dense, Activation, Multiply, Add, Lambda, Input\n",
    "from tensorflow.python.keras.initializers import Constant\n",
    "from tensorflow.python.keras.models import Model\n",
    "\n",
    "def Highway(value, nLayers, activation='tanh', gateBias=-3):\n",
    "    dim = K.int_shape(value)[-1]\n",
    "    gateBiasInitalizer = Constant(gateBias)\n",
    "    for i in range(nLayers):\n",
    "        tGate = Dense(units=dim, bias_initializer=gateBiasInitalizer)(value)\n",
    "        tGate = Activation('sigmoid')(tGate)\n",
    "        cGate = Lambda(lambda x: 1.0-x)(tGate) # I do not specify output_shape\n",
    "        transformed = Dense(units=dim, bias_initializer=gateBiasInitalizer)(value)\n",
    "        transformed = Activation(activation)(value)\n",
    "        transformedGate = Multiply()([tGate, transformed])\n",
    "        identityGate = Multiply()([cGate, value])\n",
    "        value = Add()([transformedGate, identityGate])\n",
    "    return value\n",
    "\n",
    "inputs = Input((sum(opt.feature_maps),))\n",
    "HighwayLayer = Model(inputs=inputs, outputs=Highway(inputs, nLayers=opt.highway_layers))"
   ]
  },
  {
   "cell_type": "markdown",
   "metadata": {},
   "source": [
    "## Model"
   ]
  },
  {
   "cell_type": "code",
   "execution_count": 19,
   "metadata": {},
   "outputs": [
    {
     "name": "stdout",
     "output_type": "stream",
     "text": [
      "WARNING:tensorflow:All custom layers should implement the `compute_output_shape` method. This layer (lambda_1) is relying on the base `Layer.compute_output_shape` implementation, which will start raising a `NotImplementedError` as of July 1st, 2018.\n",
      "WARNING:tensorflow:All custom layers should implement the `compute_output_shape` method. This layer (lambda_2) is relying on the base `Layer.compute_output_shape` implementation, which will start raising a `NotImplementedError` as of July 1st, 2018.\n",
      "__________________________________________________________________________________________________\n",
      "Layer (type)                    Output Shape         Param #     Connected to                     \n",
      "==================================================================================================\n",
      "chars (InputLayer)              (None, 36, 21)       0                                            \n",
      "__________________________________________________________________________________________________\n",
      "chars_embedding (Embedding)     (None, 36, 21, 15)   765         chars[0][0]                      \n",
      "__________________________________________________________________________________________________\n",
      "conv2d_8 (Conv2D)               (None, 36, 21, 50)   800         chars_embedding[0][0]            \n",
      "__________________________________________________________________________________________________\n",
      "conv2d_9 (Conv2D)               (None, 36, 20, 100)  3100        chars_embedding[0][0]            \n",
      "__________________________________________________________________________________________________\n",
      "conv2d_10 (Conv2D)              (None, 36, 19, 150)  6900        chars_embedding[0][0]            \n",
      "__________________________________________________________________________________________________\n",
      "conv2d_11 (Conv2D)              (None, 36, 18, 200)  12200       chars_embedding[0][0]            \n",
      "__________________________________________________________________________________________________\n",
      "conv2d_12 (Conv2D)              (None, 36, 17, 200)  15200       chars_embedding[0][0]            \n",
      "__________________________________________________________________________________________________\n",
      "conv2d_13 (Conv2D)              (None, 36, 16, 200)  18200       chars_embedding[0][0]            \n",
      "__________________________________________________________________________________________________\n",
      "conv2d_14 (Conv2D)              (None, 36, 15, 200)  21200       chars_embedding[0][0]            \n",
      "__________________________________________________________________________________________________\n",
      "max_pooling2d_8 (MaxPooling2D)  (None, 36, 1, 50)    0           conv2d_8[0][0]                   \n",
      "__________________________________________________________________________________________________\n",
      "max_pooling2d_9 (MaxPooling2D)  (None, 36, 1, 100)   0           conv2d_9[0][0]                   \n",
      "__________________________________________________________________________________________________\n",
      "max_pooling2d_10 (MaxPooling2D) (None, 36, 1, 150)   0           conv2d_10[0][0]                  \n",
      "__________________________________________________________________________________________________\n",
      "max_pooling2d_11 (MaxPooling2D) (None, 36, 1, 200)   0           conv2d_11[0][0]                  \n",
      "__________________________________________________________________________________________________\n",
      "max_pooling2d_12 (MaxPooling2D) (None, 36, 1, 200)   0           conv2d_12[0][0]                  \n",
      "__________________________________________________________________________________________________\n",
      "max_pooling2d_13 (MaxPooling2D) (None, 36, 1, 200)   0           conv2d_13[0][0]                  \n",
      "__________________________________________________________________________________________________\n",
      "max_pooling2d_14 (MaxPooling2D) (None, 36, 1, 200)   0           conv2d_14[0][0]                  \n",
      "__________________________________________________________________________________________________\n",
      "concatenate_2 (Concatenate)     (None, 36, 1, 1100)  0           max_pooling2d_8[0][0]            \n",
      "                                                                 max_pooling2d_9[0][0]            \n",
      "                                                                 max_pooling2d_10[0][0]           \n",
      "                                                                 max_pooling2d_11[0][0]           \n",
      "                                                                 max_pooling2d_12[0][0]           \n",
      "                                                                 max_pooling2d_13[0][0]           \n",
      "                                                                 max_pooling2d_14[0][0]           \n",
      "__________________________________________________________________________________________________\n",
      "reshape_2 (Reshape)             (None, 36, 1100)     0           concatenate_2[0][0]              \n",
      "__________________________________________________________________________________________________\n",
      "batch_normalization_2 (BatchNor (None, 36, 1100)     4400        reshape_2[0][0]                  \n",
      "__________________________________________________________________________________________________\n",
      "time_distributed_2 (TimeDistrib (None, 36, 1100)     2422200     batch_normalization_2[0][0]      \n",
      "__________________________________________________________________________________________________\n",
      "gru_3 (GRU)                     (None, 36, 128)      471936      time_distributed_2[0][0]         \n",
      "__________________________________________________________________________________________________\n",
      "dropout_3 (Dropout)             (None, 36, 128)      0           gru_3[0][0]                      \n",
      "__________________________________________________________________________________________________\n",
      "gru_4 (GRU)                     (None, 36, 128)      98688       dropout_3[0][0]                  \n",
      "__________________________________________________________________________________________________\n",
      "dropout_4 (Dropout)             (None, 36, 128)      0           gru_4[0][0]                      \n",
      "__________________________________________________________________________________________________\n",
      "dense_6 (Dense)                 (None, 36, 10002)    1290258     dropout_4[0][0]                  \n",
      "==================================================================================================\n",
      "Total params: 4,365,847\n",
      "Trainable params: 4,363,647\n",
      "Non-trainable params: 2,200\n",
      "__________________________________________________________________________________________________\n"
     ]
    }
   ],
   "source": [
    "from tensorflow.python.keras.layers import Input, Embedding, GRU, Dropout, BatchNormalization, TimeDistributed\n",
    "#from tensorflow.python.keras.optimizers import SGD\n",
    "\n",
    "#chars = Input(batch_shape=(opt.batch_size, opt.seq_length, opt.max_word_l), name='chars')\n",
    "chars = Input(shape=(opt.seq_length, opt.max_word_l), name='chars') # will get a warning if you do not specify batch_shape\n",
    "chars_embedding = Embedding(opt.char_vocab_size, opt.char_vec_size, name='chars_embedding')(chars)\n",
    "cnn = CNN(opt.seq_length, opt.max_word_l, opt.feature_maps, opt.kernels, chars_embedding)\n",
    "x = cnn\n",
    "inputs = chars\n",
    "\n",
    "x = BatchNormalization()(x)\n",
    "\n",
    "x = TimeDistributed(HighwayLayer)(x)\n",
    "highway = x\n",
    "\n",
    "for l in range(opt.num_lstm_layers):\n",
    "    #x = GRU(opt.rnn_size, return_sequences=True, stateful=True)(x)\n",
    "    x = GRU(opt.rnn_size, return_sequences=True, stateful=False)(x)\n",
    "\n",
    "    if opt.dropout > 0:\n",
    "        x = Dropout(opt.dropout)(x)\n",
    "        \n",
    "output = Dense(opt.word_vocab_size, activation='softmax')(x)\n",
    "\n",
    "modelCAware = Model(inputs=inputs, outputs=output)\n",
    "modelCAware.summary()    "
   ]
  },
  {
   "cell_type": "code",
   "execution_count": 20,
   "metadata": {},
   "outputs": [],
   "source": [
    "modelConvWordFeatureBeforeHighway = Model(inputs=inputs, outputs=cnn)\n",
    "modelConvWordFeatureAfterHighway = Model(inputs=inputs, outputs=highway)"
   ]
  },
  {
   "cell_type": "code",
   "execution_count": 21,
   "metadata": {},
   "outputs": [],
   "source": [
    "# perplexity\n",
    "def PPL(y_true, y_pred):\n",
    "    return tf.exp(tf.reduce_mean(tf.keras.backend.categorical_crossentropy(y_true, y_pred)))\n",
    "\n",
    "def ACC(y_true, y_pred):\n",
    "    ACC = tf.equal(tf.argmax(y_true, axis = 2), \n",
    "                   tf.argmax(y_pred, axis = 2))\n",
    "    ACC = tf.cast(ACC, tf.float32)\n",
    "\n",
    "    return tf.reduce_mean(ACC)"
   ]
  },
  {
   "cell_type": "code",
   "execution_count": 22,
   "metadata": {},
   "outputs": [],
   "source": [
    "from tensorflow.python.keras.optimizers import RMSprop\n",
    "\n",
    "optimizer = RMSprop(lr=opt.learing_rate)\n",
    "modelCAware.compile(loss='categorical_crossentropy', optimizer='rmsprop',metrics=[ACC, PPL])  "
   ]
  },
  {
   "cell_type": "code",
   "execution_count": 23,
   "metadata": {},
   "outputs": [],
   "source": [
    "from tensorflow.python.keras.callbacks import TensorBoard, ModelCheckpoint\n",
    "import os\n",
    "if not os.path.exists(local_path + 'model/'):\n",
    "    os.mkdir(local_path + 'model/')\n",
    "\n",
    "path_model = local_path + 'model/model.keras'    \n",
    "tensorboard = TensorBoard(log_dir='log')\n",
    "checkpoint = ModelCheckpoint(filepath=path_model, verbose=1,\n",
    "                             monitor='val_PPL',mode='min' ,save_best_only='True')\n",
    "# path_model = local_path + 'model/model.keras'\n",
    "# model.save(path_model)\n",
    "\n",
    "callback_lists=[tensorboard,checkpoint]"
   ]
  },
  {
   "cell_type": "code",
   "execution_count": 24,
   "metadata": {},
   "outputs": [
    {
     "name": "stdout",
     "output_type": "stream",
     "text": [
      "Epoch 1/3\n",
      "49/50 [============================>.] - ETA: 0s - loss: 7.0295 - ACC: 0.0501 - PPL: 1707.5900\n",
      "Epoch 00001: val_PPL improved from inf to 1522.92904, saving model to ./model/model.keras\n",
      "50/50 [==============================] - 21s 424ms/step - loss: 7.0212 - ACC: 0.0506 - PPL: 1688.3645 - val_loss: 7.3216 - val_ACC: 0.0472 - val_PPL: 1522.9290\n",
      "Epoch 2/3\n",
      "49/50 [============================>.] - ETA: 0s - loss: 6.5010 - ACC: 0.0660 - PPL: 669.2948\n",
      "Epoch 00002: val_PPL improved from 1522.92904 to 834.56945, saving model to ./model/model.keras\n",
      "50/50 [==============================] - 15s 294ms/step - loss: 6.4976 - ACC: 0.0661 - PPL: 667.1297 - val_loss: 6.7235 - val_ACC: 0.0666 - val_PPL: 834.5695\n",
      "Epoch 3/3\n",
      "49/50 [============================>.] - ETA: 0s - loss: 6.4780 - ACC: 0.0932 - PPL: 655.2064\n",
      "Epoch 00003: val_PPL improved from 834.56945 to 715.12653, saving model to ./model/model.keras\n",
      "50/50 [==============================] - 14s 287ms/step - loss: 6.4819 - ACC: 0.0930 - PPL: 657.9221 - val_loss: 6.5648 - val_ACC: 0.0882 - val_PPL: 715.1265\n"
     ]
    }
   ],
   "source": [
    "history = modelCAware.fit_generator(generator=gen_char_word(batch_size=opt.batch_size), \n",
    "                           steps_per_epoch=50, epochs=3,\n",
    "                           callbacks=callback_lists,\n",
    "                           validation_data=gen_char_word(batch_size=opt.batch_size, dataset='valid'),\n",
    "                           validation_steps=30)"
   ]
  },
  {
   "cell_type": "code",
   "execution_count": 25,
   "metadata": {},
   "outputs": [
    {
     "name": "stdout",
     "output_type": "stream",
     "text": [
      "Index(['ACC', 'PPL', 'loss', 'val_ACC', 'val_PPL', 'val_loss'], dtype='object')\n"
     ]
    },
    {
     "data": {
      "image/png": "[encoded data removed]",
      "text/plain": [
       "<Figure size 936x576 with 1 Axes>"
      ]
     },
     "metadata": {},
     "output_type": "display_data"
    }
   ],
   "source": [
    "logs = pd.DataFrame(history.history)\n",
    "print(logs.columns)\n",
    "pylab.rcParams['figure.figsize'] = (13, 8)\n",
    "logs.loc[1:,['PPL','val_PPL']].plot()\n",
    "plt.show()"
   ]
  },
  {
   "cell_type": "code",
   "execution_count": 83,
   "metadata": {},
   "outputs": [],
   "source": [
    "def extractWordFeature(words, extcModel=modelConvWordFeatureAfterHighway):\n",
    "    batches = []\n",
    "    \n",
    "    padWord = lambda word: 'S' + word.center(maxWordLen - 2) + 'E'\n",
    "    wordsPadedCroped = [padWord(word[:opt.max_word_l-2]) for word in words]\n",
    "    #print(wordsPadedCroped)\n",
    "    wordsPadedCroped = [[chars_to_id[char] for char in word] for word in wordsPadedCroped]\n",
    "    #print(wordsPadedCroped)\n",
    "    while wordsPadedCroped != []:\n",
    "        if len(wordsPadedCroped)>opt.seq_length:\n",
    "            batches.append((np.array(wordsPadedCroped[:opt.seq_length]), opt.seq_length))\n",
    "            wordsPadedCroped = wordsPadedCroped[opt.seq_length:]\n",
    "        else:\n",
    "            wLast = wordsPadedCroped + [[chars_to_id[' ']]*opt.max_word_l]*(opt.seq_length-len(wordsPadedCroped))\n",
    "            #print(wLast)\n",
    "            batches.append((np.array(wLast), len(wordsPadedCroped)))\n",
    "            wordsPadedCroped = []\n",
    "    \n",
    "    #print(batches)\n",
    "    \n",
    "    features = []\n",
    "    for batch in batches:\n",
    "        data = batch[0]\n",
    "        validNum = batch[1]\n",
    "        features.append(extcModel.predict(np.expand_dims(data,0))[0,:validNum,:])\n",
    "    \n",
    "    features = np.vstack(features)\n",
    "    \n",
    "    return features"
   ]
  },
  {
   "cell_type": "code",
   "execution_count": 89,
   "metadata": {},
   "outputs": [
    {
     "data": {
      "text/html": [
       "<div>\n",
       "<style scoped>\n",
       "    .dataframe tbody tr th:only-of-type {\n",
       "        vertical-align: middle;\n",
       "    }\n",
       "\n",
       "    .dataframe tbody tr th {\n",
       "        vertical-align: top;\n",
       "    }\n",
       "\n",
       "    .dataframe thead th {\n",
       "        text-align: right;\n",
       "    }\n",
       "</style>\n",
       "<table border=\"1\" class=\"dataframe\">\n",
       "  <thead>\n",
       "    <tr style=\"text-align: right;\">\n",
       "      <th>vecDims</th>\n",
       "      <th>0</th>\n",
       "      <th>1</th>\n",
       "      <th>2</th>\n",
       "      <th>3</th>\n",
       "      <th>4</th>\n",
       "      <th>5</th>\n",
       "      <th>6</th>\n",
       "      <th>7</th>\n",
       "      <th>8</th>\n",
       "      <th>9</th>\n",
       "      <th>...</th>\n",
       "      <th>1090</th>\n",
       "      <th>1091</th>\n",
       "      <th>1092</th>\n",
       "      <th>1093</th>\n",
       "      <th>1094</th>\n",
       "      <th>1095</th>\n",
       "      <th>1096</th>\n",
       "      <th>1097</th>\n",
       "      <th>1098</th>\n",
       "      <th>1099</th>\n",
       "    </tr>\n",
       "    <tr>\n",
       "      <th>featVecs</th>\n",
       "      <th></th>\n",
       "      <th></th>\n",
       "      <th></th>\n",
       "      <th></th>\n",
       "      <th></th>\n",
       "      <th></th>\n",
       "      <th></th>\n",
       "      <th></th>\n",
       "      <th></th>\n",
       "      <th></th>\n",
       "      <th></th>\n",
       "      <th></th>\n",
       "      <th></th>\n",
       "      <th></th>\n",
       "      <th></th>\n",
       "      <th></th>\n",
       "      <th></th>\n",
       "      <th></th>\n",
       "      <th></th>\n",
       "      <th></th>\n",
       "      <th></th>\n",
       "    </tr>\n",
       "  </thead>\n",
       "  <tbody>\n",
       "    <tr>\n",
       "      <th>looooooook</th>\n",
       "      <td>-0.208705</td>\n",
       "      <td>0.048806</td>\n",
       "      <td>0.224354</td>\n",
       "      <td>0.096201</td>\n",
       "      <td>0.153760</td>\n",
       "      <td>0.550854</td>\n",
       "      <td>-0.109160</td>\n",
       "      <td>0.094636</td>\n",
       "      <td>-0.022238</td>\n",
       "      <td>0.266458</td>\n",
       "      <td>...</td>\n",
       "      <td>0.341956</td>\n",
       "      <td>-0.013686</td>\n",
       "      <td>-0.426028</td>\n",
       "      <td>0.291423</td>\n",
       "      <td>0.197110</td>\n",
       "      <td>0.193365</td>\n",
       "      <td>0.124791</td>\n",
       "      <td>-0.000609</td>\n",
       "      <td>0.018668</td>\n",
       "      <td>-0.162448</td>\n",
       "    </tr>\n",
       "    <tr>\n",
       "      <th>look</th>\n",
       "      <td>-0.208660</td>\n",
       "      <td>0.048807</td>\n",
       "      <td>0.224458</td>\n",
       "      <td>0.096201</td>\n",
       "      <td>0.153741</td>\n",
       "      <td>0.551116</td>\n",
       "      <td>-0.109165</td>\n",
       "      <td>0.094635</td>\n",
       "      <td>-0.022238</td>\n",
       "      <td>0.266380</td>\n",
       "      <td>...</td>\n",
       "      <td>0.149475</td>\n",
       "      <td>0.129103</td>\n",
       "      <td>-0.348557</td>\n",
       "      <td>0.372595</td>\n",
       "      <td>0.197070</td>\n",
       "      <td>0.294445</td>\n",
       "      <td>0.124785</td>\n",
       "      <td>0.052164</td>\n",
       "      <td>0.059667</td>\n",
       "      <td>-0.162465</td>\n",
       "    </tr>\n",
       "    <tr>\n",
       "      <th>looked</th>\n",
       "      <td>0.014479</td>\n",
       "      <td>0.172557</td>\n",
       "      <td>0.224400</td>\n",
       "      <td>0.096199</td>\n",
       "      <td>0.153779</td>\n",
       "      <td>0.548391</td>\n",
       "      <td>-0.109161</td>\n",
       "      <td>0.094640</td>\n",
       "      <td>-0.022238</td>\n",
       "      <td>0.266538</td>\n",
       "      <td>...</td>\n",
       "      <td>0.254710</td>\n",
       "      <td>0.129101</td>\n",
       "      <td>-0.345730</td>\n",
       "      <td>0.364443</td>\n",
       "      <td>0.197157</td>\n",
       "      <td>0.313236</td>\n",
       "      <td>0.226972</td>\n",
       "      <td>0.052161</td>\n",
       "      <td>0.229267</td>\n",
       "      <td>-0.162411</td>\n",
       "    </tr>\n",
       "    <tr>\n",
       "      <th>cook</th>\n",
       "      <td>-0.208687</td>\n",
       "      <td>0.048806</td>\n",
       "      <td>-0.035295</td>\n",
       "      <td>0.096202</td>\n",
       "      <td>0.153766</td>\n",
       "      <td>0.551049</td>\n",
       "      <td>-0.109159</td>\n",
       "      <td>0.301917</td>\n",
       "      <td>-0.022238</td>\n",
       "      <td>0.266587</td>\n",
       "      <td>...</td>\n",
       "      <td>0.108873</td>\n",
       "      <td>0.060469</td>\n",
       "      <td>-0.347929</td>\n",
       "      <td>0.372829</td>\n",
       "      <td>0.179425</td>\n",
       "      <td>0.231918</td>\n",
       "      <td>0.124786</td>\n",
       "      <td>0.047324</td>\n",
       "      <td>-0.075243</td>\n",
       "      <td>-0.100311</td>\n",
       "    </tr>\n",
       "    <tr>\n",
       "      <th>hear</th>\n",
       "      <td>0.516017</td>\n",
       "      <td>0.235405</td>\n",
       "      <td>0.027442</td>\n",
       "      <td>0.096199</td>\n",
       "      <td>0.153802</td>\n",
       "      <td>-0.292586</td>\n",
       "      <td>-0.056002</td>\n",
       "      <td>-0.027798</td>\n",
       "      <td>-0.022238</td>\n",
       "      <td>0.199110</td>\n",
       "      <td>...</td>\n",
       "      <td>0.114867</td>\n",
       "      <td>0.107156</td>\n",
       "      <td>-0.229816</td>\n",
       "      <td>0.424902</td>\n",
       "      <td>0.422659</td>\n",
       "      <td>0.221570</td>\n",
       "      <td>0.242314</td>\n",
       "      <td>0.055629</td>\n",
       "      <td>-0.034340</td>\n",
       "      <td>0.024878</td>\n",
       "    </tr>\n",
       "    <tr>\n",
       "      <th>run</th>\n",
       "      <td>0.515722</td>\n",
       "      <td>-0.007144</td>\n",
       "      <td>-0.102368</td>\n",
       "      <td>0.096203</td>\n",
       "      <td>0.153769</td>\n",
       "      <td>-0.211162</td>\n",
       "      <td>-0.056002</td>\n",
       "      <td>-0.027798</td>\n",
       "      <td>-0.022238</td>\n",
       "      <td>0.145332</td>\n",
       "      <td>...</td>\n",
       "      <td>0.140614</td>\n",
       "      <td>0.334711</td>\n",
       "      <td>-0.106839</td>\n",
       "      <td>0.338613</td>\n",
       "      <td>0.254011</td>\n",
       "      <td>0.139182</td>\n",
       "      <td>0.117326</td>\n",
       "      <td>0.208557</td>\n",
       "      <td>0.058712</td>\n",
       "      <td>-0.019013</td>\n",
       "    </tr>\n",
       "    <tr>\n",
       "      <th>programming</th>\n",
       "      <td>0.517166</td>\n",
       "      <td>0.235238</td>\n",
       "      <td>0.417893</td>\n",
       "      <td>0.096200</td>\n",
       "      <td>0.315708</td>\n",
       "      <td>0.099784</td>\n",
       "      <td>-0.055998</td>\n",
       "      <td>0.056032</td>\n",
       "      <td>-0.022238</td>\n",
       "      <td>0.266472</td>\n",
       "      <td>...</td>\n",
       "      <td>0.501098</td>\n",
       "      <td>0.142989</td>\n",
       "      <td>-0.057567</td>\n",
       "      <td>0.154412</td>\n",
       "      <td>0.381869</td>\n",
       "      <td>0.164361</td>\n",
       "      <td>0.248515</td>\n",
       "      <td>0.245863</td>\n",
       "      <td>0.262033</td>\n",
       "      <td>0.053843</td>\n",
       "    </tr>\n",
       "    <tr>\n",
       "      <th>python</th>\n",
       "      <td>0.114468</td>\n",
       "      <td>-0.007144</td>\n",
       "      <td>0.423084</td>\n",
       "      <td>0.096204</td>\n",
       "      <td>0.160922</td>\n",
       "      <td>-0.195476</td>\n",
       "      <td>0.297901</td>\n",
       "      <td>0.056029</td>\n",
       "      <td>-0.022238</td>\n",
       "      <td>0.266535</td>\n",
       "      <td>...</td>\n",
       "      <td>0.232573</td>\n",
       "      <td>0.022041</td>\n",
       "      <td>-0.269731</td>\n",
       "      <td>0.338985</td>\n",
       "      <td>0.304003</td>\n",
       "      <td>0.179793</td>\n",
       "      <td>0.261004</td>\n",
       "      <td>-0.043939</td>\n",
       "      <td>0.088953</td>\n",
       "      <td>-0.083746</td>\n",
       "    </tr>\n",
       "    <tr>\n",
       "      <th>jupyter</th>\n",
       "      <td>0.516505</td>\n",
       "      <td>0.294775</td>\n",
       "      <td>0.422213</td>\n",
       "      <td>0.096202</td>\n",
       "      <td>0.472164</td>\n",
       "      <td>-0.195322</td>\n",
       "      <td>0.297866</td>\n",
       "      <td>0.056030</td>\n",
       "      <td>-0.022238</td>\n",
       "      <td>0.262380</td>\n",
       "      <td>...</td>\n",
       "      <td>0.375287</td>\n",
       "      <td>-0.014334</td>\n",
       "      <td>-0.222531</td>\n",
       "      <td>0.424878</td>\n",
       "      <td>0.441198</td>\n",
       "      <td>0.143092</td>\n",
       "      <td>0.144065</td>\n",
       "      <td>0.265580</td>\n",
       "      <td>0.286674</td>\n",
       "      <td>0.093512</td>\n",
       "    </tr>\n",
       "  </tbody>\n",
       "</table>\n",
       "<p>9 rows × 1100 columns</p>\n",
       "</div>"
      ],
      "text/plain": [
       "vecDims          0         1         2         3         4         5     \\\n",
       "featVecs                                                                  \n",
       "looooooook  -0.208705  0.048806  0.224354  0.096201  0.153760  0.550854   \n",
       "look        -0.208660  0.048807  0.224458  0.096201  0.153741  0.551116   \n",
       "looked       0.014479  0.172557  0.224400  0.096199  0.153779  0.548391   \n",
       "cook        -0.208687  0.048806 -0.035295  0.096202  0.153766  0.551049   \n",
       "hear         0.516017  0.235405  0.027442  0.096199  0.153802 -0.292586   \n",
       "run          0.515722 -0.007144 -0.102368  0.096203  0.153769 -0.211162   \n",
       "programming  0.517166  0.235238  0.417893  0.096200  0.315708  0.099784   \n",
       "python       0.114468 -0.007144  0.423084  0.096204  0.160922 -0.195476   \n",
       "jupyter      0.516505  0.294775  0.422213  0.096202  0.472164 -0.195322   \n",
       "\n",
       "vecDims          6         7         8         9       ...         1090  \\\n",
       "featVecs                                               ...                \n",
       "looooooook  -0.109160  0.094636 -0.022238  0.266458    ...     0.341956   \n",
       "look        -0.109165  0.094635 -0.022238  0.266380    ...     0.149475   \n",
       "looked      -0.109161  0.094640 -0.022238  0.266538    ...     0.254710   \n",
       "cook        -0.109159  0.301917 -0.022238  0.266587    ...     0.108873   \n",
       "hear        -0.056002 -0.027798 -0.022238  0.199110    ...     0.114867   \n",
       "run         -0.056002 -0.027798 -0.022238  0.145332    ...     0.140614   \n",
       "programming -0.055998  0.056032 -0.022238  0.266472    ...     0.501098   \n",
       "python       0.297901  0.056029 -0.022238  0.266535    ...     0.232573   \n",
       "jupyter      0.297866  0.056030 -0.022238  0.262380    ...     0.375287   \n",
       "\n",
       "vecDims          1091      1092      1093      1094      1095      1096  \\\n",
       "featVecs                                                                  \n",
       "looooooook  -0.013686 -0.426028  0.291423  0.197110  0.193365  0.124791   \n",
       "look         0.129103 -0.348557  0.372595  0.197070  0.294445  0.124785   \n",
       "looked       0.129101 -0.345730  0.364443  0.197157  0.313236  0.226972   \n",
       "cook         0.060469 -0.347929  0.372829  0.179425  0.231918  0.124786   \n",
       "hear         0.107156 -0.229816  0.424902  0.422659  0.221570  0.242314   \n",
       "run          0.334711 -0.106839  0.338613  0.254011  0.139182  0.117326   \n",
       "programming  0.142989 -0.057567  0.154412  0.381869  0.164361  0.248515   \n",
       "python       0.022041 -0.269731  0.338985  0.304003  0.179793  0.261004   \n",
       "jupyter     -0.014334 -0.222531  0.424878  0.441198  0.143092  0.144065   \n",
       "\n",
       "vecDims          1097      1098      1099  \n",
       "featVecs                                   \n",
       "looooooook  -0.000609  0.018668 -0.162448  \n",
       "look         0.052164  0.059667 -0.162465  \n",
       "looked       0.052161  0.229267 -0.162411  \n",
       "cook         0.047324 -0.075243 -0.100311  \n",
       "hear         0.055629 -0.034340  0.024878  \n",
       "run          0.208557  0.058712 -0.019013  \n",
       "programming  0.245863  0.262033  0.053843  \n",
       "python      -0.043939  0.088953 -0.083746  \n",
       "jupyter      0.265580  0.286674  0.093512  \n",
       "\n",
       "[9 rows x 1100 columns]"
      ]
     },
     "execution_count": 89,
     "metadata": {},
     "output_type": "execute_result"
    }
   ],
   "source": [
    "wordList = ['looooooook','look','looked','cook','hear','run','programming','python','jupyter']\n",
    "features = extractWordFeature(wordList)\n",
    "features = pd.DataFrame(data=features, index=wordList)\n",
    "features.index.name = 'featVecs'\n",
    "features.columns.name = 'vecDims'\n",
    "features"
   ]
  },
  {
   "cell_type": "code",
   "execution_count": 90,
   "metadata": {},
   "outputs": [
    {
     "data": {
      "text/plain": [
       "featVecs\n",
       "looooooook     0.070852\n",
       "look           0.059044\n",
       "looked         0.104341\n",
       "cook           0.061204\n",
       "hear           0.105773\n",
       "run            0.071452\n",
       "programming    0.156555\n",
       "python         0.088476\n",
       "jupyter        0.126156\n",
       "dtype: float32"
      ]
     },
     "execution_count": 90,
     "metadata": {},
     "output_type": "execute_result"
    }
   ],
   "source": [
    "features.mean(axis='columns')"
   ]
  },
  {
   "cell_type": "code",
   "execution_count": 106,
   "metadata": {},
   "outputs": [
    {
     "data": {
      "image/png": "[encoded data removed]",
      "text/plain": [
       "<Figure size 936x576 with 1 Axes>"
      ]
     },
     "metadata": {},
     "output_type": "display_data"
    }
   ],
   "source": [
    "from sklearn.manifold import TSNE\n",
    "\n",
    "featTransed = TSNE(n_components=2).fit_transform(features)\n",
    "featTransed = pd.DataFrame(featTransed, index=wordList)\n",
    "featTransed.index.name = 'featVecs'\n",
    "featTransed.columns.name = 'vecDims'\n",
    "\n",
    "axes = featTransed.plot.scatter(x=0, y=1)\n",
    "for txt in wordList:\n",
    "    axes.annotate(txt, (featTransed.loc[txt,0],featTransed.loc[txt,1]))"
   ]
  },
  {
   "cell_type": "code",
   "execution_count": 98,
   "metadata": {},
   "outputs": [
    {
     "ename": "ImportError",
     "evalue": "No module named 'ploty'",
     "output_type": "error",
     "traceback": [
      "\u001b[0;31m---------------------------------------------------------------------------\u001b[0m",
      "\u001b[0;31mImportError\u001b[0m                               Traceback (most recent call last)",
      "\u001b[0;32m<ipython-input-98-161c6a25fc02>\u001b[0m in \u001b[0;36m<module>\u001b[0;34m()\u001b[0m\n\u001b[0;32m----> 1\u001b[0;31m \u001b[0;32mimport\u001b[0m \u001b[0mploty\u001b[0m\u001b[0;34m\u001b[0m\u001b[0m\n\u001b[0m",
      "\u001b[0;31mImportError\u001b[0m: No module named 'ploty'"
     ]
    }
   ],
   "source": [
    "import ploty"
   ]
  },
  {
   "cell_type": "code",
   "execution_count": null,
   "metadata": {},
   "outputs": [],
   "source": []
  }
 ],
 "metadata": {
  "accelerator": "GPU",
  "colab": {
   "collapsed_sections": [],
   "name": "Keras - Character-Aware Neural Language Models.ipynb",
   "provenance": [],
   "version": "0.3.2"
  },
  "kernelspec": {
   "display_name": "Python 3",
   "language": "python",
   "name": "python3"
  },
  "language_info": {
   "codemirror_mode": {
    "name": "ipython",
    "version": 3
   },
   "file_extension": ".py",
   "mimetype": "text/x-python",
   "name": "python",
   "nbconvert_exporter": "python",
   "pygments_lexer": "ipython3",
   "version": "3.5.2"
  }
 },
 "nbformat": 4,
 "nbformat_minor": 1
}
