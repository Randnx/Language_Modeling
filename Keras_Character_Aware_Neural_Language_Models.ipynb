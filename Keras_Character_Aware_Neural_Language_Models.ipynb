{
 "cells": [
  {
   "cell_type": "markdown",
   "metadata": {
    "colab_type": "text",
    "id": "view-in-github"
   },
   "source": [
    "[View in Colaboratory](https://colab.research.google.com/github/stikbuf/Language_Modeling/blob/master/Keras_Character_Aware_Neural_Language_Models.ipynb)"
   ]
  },
  {
   "cell_type": "markdown",
   "metadata": {
    "colab_type": "text",
    "id": "4_0CMzmyQXoy"
   },
   "source": [
    "## Configure the cloud environment\n"
   ]
  },
  {
   "cell_type": "markdown",
   "metadata": {
    "colab_type": "text",
    "id": "QB7JyNTfQfKF"
   },
   "source": [
    "### Mount Google Drive"
   ]
  },
  {
   "cell_type": "code",
   "execution_count": 0,
   "metadata": {
    "colab": {
     "base_uri": "https://localhost:8080/",
     "height": 2539
    },
    "colab_type": "code",
    "id": "oTB-axrvQiZU",
    "outputId": "e2997ab7-5a01-4406-d696-aae0c2c981aa"
   },
   "outputs": [
    {
     "name": "stdout",
     "output_type": "stream",
     "text": [
      "Preconfiguring packages ...\n",
      "Selecting previously unselected package cron.\n",
      "(Reading database ... 18298 files and directories currently installed.)\n",
      "Preparing to unpack .../00-cron_3.0pl1-128ubuntu5_amd64.deb ...\n",
      "Unpacking cron (3.0pl1-128ubuntu5) ...\n",
      "Selecting previously unselected package libapparmor1:amd64.\n",
      "Preparing to unpack .../01-libapparmor1_2.11.0-2ubuntu17.1_amd64.deb ...\n",
      "Unpacking libapparmor1:amd64 (2.11.0-2ubuntu17.1) ...\n",
      "Selecting previously unselected package libdbus-1-3:amd64.\n",
      "Preparing to unpack .../02-libdbus-1-3_1.10.22-1ubuntu1_amd64.deb ...\n",
      "Unpacking libdbus-1-3:amd64 (1.10.22-1ubuntu1) ...\n",
      "Selecting previously unselected package dbus.\n",
      "Preparing to unpack .../03-dbus_1.10.22-1ubuntu1_amd64.deb ...\n",
      "Unpacking dbus (1.10.22-1ubuntu1) ...\n",
      "Selecting previously unselected package dirmngr.\n",
      "Preparing to unpack .../04-dirmngr_2.1.15-1ubuntu8_amd64.deb ...\n",
      "Unpacking dirmngr (2.1.15-1ubuntu8) ...\n",
      "Selecting previously unselected package distro-info-data.\n",
      "Preparing to unpack .../05-distro-info-data_0.36ubuntu0.2_all.deb ...\n",
      "Unpacking distro-info-data (0.36ubuntu0.2) ...\n",
      "Selecting previously unselected package libkmod2:amd64.\n",
      "Preparing to unpack .../06-libkmod2_24-1ubuntu2_amd64.deb ...\n",
      "Unpacking libkmod2:amd64 (24-1ubuntu2) ...\n",
      "Selecting previously unselected package kmod.\n",
      "Preparing to unpack .../07-kmod_24-1ubuntu2_amd64.deb ...\n",
      "Unpacking kmod (24-1ubuntu2) ...\n",
      "Selecting previously unselected package lsb-release.\n",
      "Preparing to unpack .../08-lsb-release_9.20160110ubuntu5_all.deb ...\n",
      "Unpacking lsb-release (9.20160110ubuntu5) ...\n",
      "Selecting previously unselected package libgirepository-1.0-1:amd64.\n",
      "Preparing to unpack .../09-libgirepository-1.0-1_1.54.1-1_amd64.deb ...\n",
      "Unpacking libgirepository-1.0-1:amd64 (1.54.1-1) ...\n",
      "Selecting previously unselected package gir1.2-glib-2.0:amd64.\n",
      "Preparing to unpack .../10-gir1.2-glib-2.0_1.54.1-1_amd64.deb ...\n",
      "Unpacking gir1.2-glib-2.0:amd64 (1.54.1-1) ...\n",
      "Selecting previously unselected package iso-codes.\n",
      "Preparing to unpack .../11-iso-codes_3.75-1_all.deb ...\n",
      "Unpacking iso-codes (3.75-1) ...\n",
      "Selecting previously unselected package libdbus-glib-1-2:amd64.\n",
      "Preparing to unpack .../12-libdbus-glib-1-2_0.108-2_amd64.deb ...\n",
      "Unpacking libdbus-glib-1-2:amd64 (0.108-2) ...\n",
      "Selecting previously unselected package python-apt-common.\n",
      "Preparing to unpack .../13-python-apt-common_1.4.0~beta3build2_all.deb ...\n",
      "Unpacking python-apt-common (1.4.0~beta3build2) ...\n",
      "Selecting previously unselected package python3-apt.\n",
      "Preparing to unpack .../14-python3-apt_1.4.0~beta3build2_amd64.deb ...\n",
      "Unpacking python3-apt (1.4.0~beta3build2) ...\n",
      "Selecting previously unselected package python3-dbus.\n",
      "Preparing to unpack .../15-python3-dbus_1.2.4-1build3_amd64.deb ...\n",
      "Unpacking python3-dbus (1.2.4-1build3) ...\n",
      "Selecting previously unselected package python3-gi.\n",
      "Preparing to unpack .../16-python3-gi_3.24.1-2build1_amd64.deb ...\n",
      "Unpacking python3-gi (3.24.1-2build1) ...\n",
      "Selecting previously unselected package module-init-tools.\n",
      "Preparing to unpack .../17-module-init-tools_24-1ubuntu2_all.deb ...\n",
      "Unpacking module-init-tools (24-1ubuntu2) ...\n",
      "Selecting previously unselected package python-apt.\n",
      "Preparing to unpack .../18-python-apt_1.4.0~beta3build2_amd64.deb ...\n",
      "Unpacking python-apt (1.4.0~beta3build2) ...\n",
      "Selecting previously unselected package python-pycurl.\n",
      "Preparing to unpack .../19-python-pycurl_7.43.0-2build2_amd64.deb ...\n",
      "Unpacking python-pycurl (7.43.0-2build2) ...\n",
      "Selecting previously unselected package python-software-properties.\n",
      "Preparing to unpack .../20-python-software-properties_0.96.24.17_all.deb ...\n",
      "Unpacking python-software-properties (0.96.24.17) ...\n",
      "Selecting previously unselected package python3-software-properties.\n",
      "Preparing to unpack .../21-python3-software-properties_0.96.24.17_all.deb ...\n",
      "Unpacking python3-software-properties (0.96.24.17) ...\n",
      "Selecting previously unselected package software-properties-common.\n",
      "Preparing to unpack .../22-software-properties-common_0.96.24.17_all.deb ...\n",
      "Unpacking software-properties-common (0.96.24.17) ...\n",
      "Selecting previously unselected package unattended-upgrades.\n",
      "Preparing to unpack .../23-unattended-upgrades_0.98ubuntu1.1_all.deb ...\n",
      "Unpacking unattended-upgrades (0.98ubuntu1.1) ...\n",
      "Setting up python-apt-common (1.4.0~beta3build2) ...\n",
      "Setting up python3-apt (1.4.0~beta3build2) ...\n",
      "Setting up iso-codes (3.75-1) ...\n",
      "Setting up distro-info-data (0.36ubuntu0.2) ...\n",
      "Setting up python-pycurl (7.43.0-2build2) ...\n",
      "Setting up lsb-release (9.20160110ubuntu5) ...\n",
      "Setting up libgirepository-1.0-1:amd64 (1.54.1-1) ...\n",
      "Setting up libkmod2:amd64 (24-1ubuntu2) ...\n",
      "Setting up gir1.2-glib-2.0:amd64 (1.54.1-1) ...\n",
      "Processing triggers for libc-bin (2.26-0ubuntu2.1) ...\n",
      "Setting up libapparmor1:amd64 (2.11.0-2ubuntu17.1) ...\n",
      "Setting up unattended-upgrades (0.98ubuntu1.1) ...\n",
      "\n",
      "Creating config file /etc/apt/apt.conf.d/20auto-upgrades with new version\n",
      "\n",
      "Creating config file /etc/apt/apt.conf.d/50unattended-upgrades with new version\n",
      "invoke-rc.d: could not determine current runlevel\n",
      "invoke-rc.d: policy-rc.d denied execution of start.\n",
      "Setting up dirmngr (2.1.15-1ubuntu8) ...\n",
      "Setting up cron (3.0pl1-128ubuntu5) ...\n",
      "Adding group `crontab' (GID 102) ...\n",
      "Done.\n",
      "update-rc.d: warning: start and stop actions are no longer supported; falling back to defaults\n",
      "update-rc.d: warning: stop runlevel arguments (1) do not match cron Default-Stop values (none)\n",
      "invoke-rc.d: could not determine current runlevel\n",
      "invoke-rc.d: policy-rc.d denied execution of start.\n",
      "Setting up libdbus-1-3:amd64 (1.10.22-1ubuntu1) ...\n",
      "Setting up kmod (24-1ubuntu2) ...\n",
      "Setting up libdbus-glib-1-2:amd64 (0.108-2) ...\n",
      "Setting up python3-gi (3.24.1-2build1) ...\n",
      "Setting up module-init-tools (24-1ubuntu2) ...\n",
      "Setting up python3-software-properties (0.96.24.17) ...\n",
      "Setting up dbus (1.10.22-1ubuntu1) ...\n",
      "Setting up python-apt (1.4.0~beta3build2) ...\n",
      "Setting up python3-dbus (1.2.4-1build3) ...\n",
      "Setting up python-software-properties (0.96.24.17) ...\n",
      "Setting up software-properties-common (0.96.24.17) ...\n",
      "Processing triggers for libc-bin (2.26-0ubuntu2.1) ...\n",
      "Processing triggers for dbus (1.10.22-1ubuntu1) ...\n",
      "gpg: keybox '/tmp/tmpr9rr7_l7/pubring.gpg' created\n",
      "gpg: /tmp/tmpr9rr7_l7/trustdb.gpg: trustdb created\n",
      "gpg: key AD5F235DF639B041: public key \"Launchpad PPA for Alessandro Strada\" imported\n",
      "gpg: Total number processed: 1\n",
      "gpg:               imported: 1\n",
      "Warning: apt-key output should not be parsed (stdout is not a terminal)\n",
      "Selecting previously unselected package libfuse2:amd64.\n",
      "(Reading database ... 19706 files and directories currently installed.)\n",
      "Preparing to unpack .../libfuse2_2.9.7-1ubuntu1_amd64.deb ...\n",
      "Unpacking libfuse2:amd64 (2.9.7-1ubuntu1) ...\n",
      "Selecting previously unselected package fuse.\n",
      "Preparing to unpack .../fuse_2.9.7-1ubuntu1_amd64.deb ...\n",
      "Unpacking fuse (2.9.7-1ubuntu1) ...\n",
      "Selecting previously unselected package google-drive-ocamlfuse.\n",
      "Preparing to unpack .../google-drive-ocamlfuse_0.6.21-0ubuntu2_amd64.deb ...\n",
      "Unpacking google-drive-ocamlfuse (0.6.21-0ubuntu2) ...\n",
      "Setting up libfuse2:amd64 (2.9.7-1ubuntu1) ...\n",
      "Processing triggers for libc-bin (2.26-0ubuntu2.1) ...\n",
      "Setting up fuse (2.9.7-1ubuntu1) ...\n",
      "Setting up google-drive-ocamlfuse (0.6.21-0ubuntu2) ...\n",
      "Please, open the following URL in a web browser: https://accounts.google.com/o/oauth2/auth?client_id=32555940559.apps.googleusercontent.com&redirect_uri=urn%3Aietf%3Awg%3Aoauth%3A2.0%3Aoob&scope=https%3A%2F%2Fwww.googleapis.com%2Fauth%2Fdrive&response_type=code&access_type=offline&approval_prompt=force\n",
      "··········\n"
     ]
    }
   ],
   "source": [
    "# Install a Drive FUSE wrapper.\n",
    "# https://github.com/astrada/google-drive-ocamlfuse\n",
    "!apt-get install -y -qq software-properties-common python-software-properties module-init-tools\n",
    "!add-apt-repository -y ppa:alessandro-strada/ppa 2>&1 > /dev/null\n",
    "!apt-get update -qq 2>&1 > /dev/null\n",
    "!apt-get -y install -qq google-drive-ocamlfuse fuse\n",
    "\n",
    "\n",
    "# Generate auth tokens for Colab\n",
    "from google.colab import auth\n",
    "auth.authenticate_user()\n",
    "\n",
    "\n",
    "# Generate creds for the Drive FUSE library.\n",
    "from oauth2client.client import GoogleCredentials\n",
    "creds = GoogleCredentials.get_application_default()\n",
    "import getpass\n",
    "!google-drive-ocamlfuse -headless -id={creds.client_id} -secret={creds.client_secret} < /dev/null 2>&1 | grep URL\n",
    "vcode = getpass.getpass()\n",
    "!echo {vcode} | google-drive-ocamlfuse -headless -id={creds.client_id} -secret={creds.client_secret}"
   ]
  },
  {
   "cell_type": "code",
   "execution_count": 2,
   "metadata": {
    "colab": {
     "base_uri": "https://localhost:8080/",
     "height": 35
    },
    "colab_type": "code",
    "id": "zVhUtsJjQqy5",
    "outputId": "fbf684be-5cab-471f-ed07-2cc929cc4e7d"
   },
   "outputs": [
    {
     "name": "stdout",
     "output_type": "stream",
     "text": [
      "Files in Drive: ['share_with_me']\n"
     ]
    }
   ],
   "source": [
    "# If you got a \"Transport endpoint is not connected.\" error. Please run this line first to unmount the drive.\n",
    "# See https://stackoverflow.com/questions/49588113/google-colab-script-throws-transport-endpoint-is-not-connected?utm_medium=organic&utm_source=google_rich_qa&utm_campaign=google_rich_qa\n",
    "!fusermount -u drive\n",
    "\n",
    "# Create a directory and mount Google Drive using that directory.\n",
    "!mkdir -p drive\n",
    "!google-drive-ocamlfuse drive\n",
    "a = !ls drive/\n",
    "print('Files in Drive:', a)\n",
    "assert a!=[], 'Drive should not be empty!'"
   ]
  },
  {
   "cell_type": "code",
   "execution_count": 3,
   "metadata": {
    "colab": {
     "base_uri": "https://localhost:8080/",
     "height": 126
    },
    "colab_type": "code",
    "id": "bvfVOCzkRErx",
    "outputId": "2b10a93a-4be4-457f-ff93-749ace078ab4"
   },
   "outputs": [
    {
     "name": "stdout",
     "output_type": "stream",
     "text": [
      "Character-Aware Neural Language Models.ipynb\r\n",
      "data\r\n",
      "data_loader.py\r\n",
      "Keras - Character-Aware Neural Language Models.ipynb\r\n",
      "__pycache__\r\n",
      "reader.py\r\n"
     ]
    }
   ],
   "source": [
    "local_path='./drive/share_with_me/AI/Character-aware_LM/'\n",
    "#local_path='./'\n",
    "import sys\n",
    "sys.path.append(local_path)\n",
    "!ls './drive/share_with_me/AI/Character-aware_LM/'"
   ]
  },
  {
   "cell_type": "code",
   "execution_count": 4,
   "metadata": {
    "colab": {
     "base_uri": "https://localhost:8080/",
     "height": 35
    },
    "colab_type": "code",
    "id": "TbWRANsEQr6U",
    "outputId": "fbedffd8-9029-4ca3-c73c-b87c6a74bfe6"
   },
   "outputs": [
    {
     "data": {
      "text/plain": [
       "'/device:GPU:0'"
      ]
     },
     "execution_count": 4,
     "metadata": {
      "tags": []
     },
     "output_type": "execute_result"
    }
   ],
   "source": [
    "import tensorflow as tf\n",
    "#assert tf.test.gpu_device_name() != '', \"GPU not avaliable!\"\n",
    "tf.test.gpu_device_name()"
   ]
  },
  {
   "cell_type": "markdown",
   "metadata": {
    "colab_type": "text",
    "id": "yUldvgY1RH0S"
   },
   "source": [
    "## Load data"
   ]
  },
  {
   "cell_type": "code",
   "execution_count": 1,
   "metadata": {},
   "outputs": [],
   "source": [
    "local_path='./'"
   ]
  },
  {
   "cell_type": "code",
   "execution_count": 2,
   "metadata": {
    "colab": {},
    "colab_type": "code",
    "id": "5NgfjuJbPoz9"
   },
   "outputs": [
    {
     "name": "stderr",
     "output_type": "stream",
     "text": [
      "/usr/local/lib/python3.5/dist-packages/h5py/__init__.py:36: FutureWarning: Conversion of the second argument of issubdtype from `float` to `np.floating` is deprecated. In future, it will be treated as `np.float64 == np.dtype(float).type`.\n",
      "  from ._conv import register_converters as _register_converters\n"
     ]
    }
   ],
   "source": [
    "from __future__ import print_function\n",
    "import os\n",
    "import matplotlib.pyplot as plt\n",
    "%matplotlib inline\n",
    "import tensorflow as tf\n",
    "import numpy as np\n",
    "import pandas as pd\n",
    "\n",
    "from reader import ptb_raw_data, ptb_producer # by Google"
   ]
  },
  {
   "cell_type": "code",
   "execution_count": 3,
   "metadata": {
    "colab": {
     "base_uri": "https://localhost:8080/",
     "height": 35
    },
    "colab_type": "code",
    "id": "dpHEJHNnPo0U",
    "outputId": "78431c7b-a03d-4609-a381-9d7aa5b96632"
   },
   "outputs": [
    {
     "data": {
      "text/plain": [
       "10000"
      ]
     },
     "execution_count": 3,
     "metadata": {},
     "output_type": "execute_result"
    }
   ],
   "source": [
    "train_data, valid_data, test_data, word_to_id = ptb_raw_data(local_path + 'data')\n",
    "id_to_word = dict((v, k) for k, v in word_to_id.items())\n",
    "voc_size = len(id_to_word)\n",
    "voc_size"
   ]
  },
  {
   "cell_type": "code",
   "execution_count": 4,
   "metadata": {
    "colab": {
     "base_uri": "https://localhost:8080/",
     "height": 35
    },
    "colab_type": "code",
    "id": "oZ8sUleQSoWQ",
    "outputId": "c4796a76-4fe3-48a3-f62a-bef541f937b0"
   },
   "outputs": [
    {
     "data": {
      "text/plain": [
       "10002"
      ]
     },
     "execution_count": 4,
     "metadata": {},
     "output_type": "execute_result"
    }
   ],
   "source": [
    "id_to_word[voc_size]='<START>'\n",
    "id_to_word[voc_size+1]='<END>'\n",
    "word_to_id = dict((v, k) for k, v in id_to_word.items())\n",
    "voc_size = len(id_to_word)\n",
    "voc_size"
   ]
  },
  {
   "cell_type": "code",
   "execution_count": 5,
   "metadata": {
    "colab": {
     "base_uri": "https://localhost:8080/",
     "height": 235
    },
    "colab_type": "code",
    "id": "zj8IWqJ8Po0h",
    "outputId": "5e9fded6-d6d9-44f1-dfa6-9fdece6f2df4"
   },
   "outputs": [
    {
     "name": "stdout",
     "output_type": "stream",
     "text": [
      "       id\n",
      "the     0\n",
      "<unk>   1\n",
      "<eos>   2\n",
      "N       3\n",
      "of      4\n",
      "              id\n",
      "ssangyong   9997\n",
      "swapo       9998\n",
      "wachter     9999\n",
      "<START>    10000\n",
      "<END>      10001\n"
     ]
    }
   ],
   "source": [
    "word_id = pd.DataFrame.from_dict(word_to_id, orient='index').sort_values(by=0, ascending=True)\n",
    "word_id.columns = ['id']\n",
    "print(word_id.head())\n",
    "print(word_id.tail())"
   ]
  },
  {
   "cell_type": "code",
   "execution_count": 6,
   "metadata": {
    "colab": {
     "base_uri": "https://localhost:8080/",
     "height": 235
    },
    "colab_type": "code",
    "id": "uxPQPQqMPo0t",
    "outputId": "946af7f2-7906-4fa3-f2bc-d1d7bffe5428"
   },
   "outputs": [
    {
     "name": "stdout",
     "output_type": "stream",
     "text": [
      "    word\n",
      "0    the\n",
      "1  <unk>\n",
      "2  <eos>\n",
      "3      N\n",
      "4     of\n",
      "            word\n",
      "9997   ssangyong\n",
      "9998       swapo\n",
      "9999     wachter\n",
      "10000    <START>\n",
      "10001      <END>\n"
     ]
    }
   ],
   "source": [
    "id_word = pd.DataFrame.from_dict(id_to_word, orient='index')\n",
    "id_word.columns = ['word']\n",
    "print(id_word.head())\n",
    "print(id_word.tail())"
   ]
  },
  {
   "cell_type": "code",
   "execution_count": 7,
   "metadata": {
    "colab": {
     "base_uri": "https://localhost:8080/",
     "height": 55
    },
    "colab_type": "code",
    "id": "Hz5IRBM6Po04",
    "outputId": "3d885c2d-15f3-4176-e943-1ae2ed489515"
   },
   "outputs": [
    {
     "data": {
      "text/plain": [
       "'aer banknote berlitz calloway centrust cluett fromstein gitano guterman hydro-quebec ipo kia memotec mlx nahb punts rake regatta rubens sim snack-food ssangyong swapo wachter <eos> pierre <unk> N years old'"
      ]
     },
     "execution_count": 7,
     "metadata": {},
     "output_type": "execute_result"
    }
   ],
   "source": [
    "' '.join([id_to_word[id] for id in train_data[:30]])"
   ]
  },
  {
   "cell_type": "markdown",
   "metadata": {
    "colab_type": "text",
    "id": "GDwfc2jpPo1D"
   },
   "source": [
    "## RNN baseline"
   ]
  },
  {
   "cell_type": "code",
   "execution_count": 8,
   "metadata": {
    "colab": {},
    "colab_type": "code",
    "id": "KPQMjhyePo1F"
   },
   "outputs": [],
   "source": [
    "import random\n",
    "seq_len = 35\n",
    "\n",
    "from tensorflow.python.keras.utils import to_categorical # 源码值得一读\n",
    "\n",
    "def gen_word_word(batch_size=128, dataset='train'):\n",
    "    assert dataset in ['train', 'valid', 'test'], 'Dataset must be train or valid or test.'\n",
    "    \n",
    "    dic = {'train':train_data, 'valid':valid_data, 'test':test_data}\n",
    "    data = dic[dataset]\n",
    "    \n",
    "    while True:\n",
    "        rnd_idxs = list(range(len(data)-seq_len-1))\n",
    "        random.shuffle(rnd_idxs)\n",
    "        cnt = 0\n",
    "        while cnt < len(rnd_idxs) - batch_size :\n",
    "            X = np.array([[word_to_id['<START>']] + data[i:i+seq_len] + [word_to_id['<END>']]\n",
    "                          for i in rnd_idxs[cnt:cnt+batch_size]])\n",
    "            Y = X[:,1:]\n",
    "            X = X[:,:-1]\n",
    "            Y = to_categorical(Y)\n",
    "            #print(X.shape)\n",
    "            cnt += batch_size\n",
    "            yield X, Y"
   ]
  },
  {
   "cell_type": "code",
   "execution_count": 9,
   "metadata": {
    "colab": {
     "base_uri": "https://localhost:8080/",
     "height": 144
    },
    "colab_type": "code",
    "id": "ncrhxoFqWY03",
    "outputId": "7308ac20-b05c-43e7-bdb4-bb32f94dbd32"
   },
   "outputs": [
    {
     "data": {
      "text/plain": [
       "array([[[0., 1.],\n",
       "        [1., 0.],\n",
       "        [0., 1.]],\n",
       "\n",
       "       [[1., 0.],\n",
       "        [0., 1.],\n",
       "        [1., 0.]]])"
      ]
     },
     "execution_count": 9,
     "metadata": {},
     "output_type": "execute_result"
    }
   ],
   "source": [
    "t = np.array([[1,0,1],[0,1,0]], dtype=int)\n",
    "to_categorical(t, num_classes=2)"
   ]
  },
  {
   "cell_type": "code",
   "execution_count": 10,
   "metadata": {
    "colab": {},
    "colab_type": "code",
    "id": "JL6Za0iNPo1O"
   },
   "outputs": [],
   "source": [
    "from tensorflow.python.keras.models import Sequential\n",
    "from tensorflow.python.keras.layers import GRU, Dense, Embedding, InputLayer\n",
    "from tensorflow.python.keras.optimizers import RMSprop"
   ]
  },
  {
   "cell_type": "code",
   "execution_count": 11,
   "metadata": {
    "colab": {},
    "colab_type": "code",
    "id": "Pt6IvftHPo1Y"
   },
   "outputs": [],
   "source": [
    "model = Sequential()\n",
    "\n",
    "embedding_size = 8\n",
    "\n",
    "\n",
    "model.add(Embedding(input_dim=voc_size,\n",
    "                    output_dim=embedding_size,\n",
    "                    input_length=seq_len+1,\n",
    "                    name='inputEmbedding'))\n",
    "model.add(GRU(units=8, return_sequences=True))\n",
    "model.add(GRU(units=4, return_sequences=True))\n",
    "model.add(Dense(voc_size, activation='softmax'))"
   ]
  },
  {
   "cell_type": "code",
   "execution_count": 12,
   "metadata": {
    "colab": {},
    "colab_type": "code",
    "id": "Evcq5fYye8jt"
   },
   "outputs": [],
   "source": [
    "# perplexity\n",
    "def PPL(y_true, y_pred):\n",
    "    return tf.exp(tf.reduce_mean(tf.keras.backend.categorical_crossentropy(y_true, y_pred)))\n",
    "\n",
    "def ACC(y_true, y_pred):\n",
    "    ACC = tf.equal(tf.argmax(y_true, axis = 2), \n",
    "                   tf.argmax(y_pred, axis = 2))\n",
    "    ACC = tf.cast(ACC, tf.float32)\n",
    "\n",
    "    return tf.reduce_mean(ACC)"
   ]
  },
  {
   "cell_type": "code",
   "execution_count": 13,
   "metadata": {
    "colab": {},
    "colab_type": "code",
    "id": "KRoe-64bZAWz"
   },
   "outputs": [],
   "source": [
    "optimizer = RMSprop(lr=1e-3)\n",
    "model.compile(optimizer=optimizer,\n",
    "              loss='categorical_crossentropy',\n",
    "              metrics=[ACC, PPL])"
   ]
  },
  {
   "cell_type": "code",
   "execution_count": 14,
   "metadata": {
    "colab": {
     "base_uri": "https://localhost:8080/",
     "height": 290
    },
    "colab_type": "code",
    "id": "efPbWtAJPo2P",
    "outputId": "c9bf68c6-3436-44f3-e4e4-04b33a82dfd0"
   },
   "outputs": [
    {
     "name": "stdout",
     "output_type": "stream",
     "text": [
      "_________________________________________________________________\n",
      "Layer (type)                 Output Shape              Param #   \n",
      "=================================================================\n",
      "inputEmbedding (Embedding)   (None, 36, 8)             80016     \n",
      "_________________________________________________________________\n",
      "gru_1 (GRU)                  (None, 36, 8)             408       \n",
      "_________________________________________________________________\n",
      "gru_2 (GRU)                  (None, 36, 4)             156       \n",
      "_________________________________________________________________\n",
      "dense_1 (Dense)              (None, 36, 10002)         50010     \n",
      "=================================================================\n",
      "Total params: 130,590\n",
      "Trainable params: 130,590\n",
      "Non-trainable params: 0\n",
      "_________________________________________________________________\n"
     ]
    }
   ],
   "source": [
    "model.summary()"
   ]
  },
  {
   "cell_type": "code",
   "execution_count": 15,
   "metadata": {
    "colab": {
     "base_uri": "https://localhost:8080/",
     "height": 3677
    },
    "colab_type": "code",
    "id": "7rWihlHePo2Z",
    "outputId": "19ef2c40-5173-42d2-e4ff-d43ff273cd1d"
   },
   "outputs": [
    {
     "name": "stdout",
     "output_type": "stream",
     "text": [
      "Epoch 1/100\n",
      "50/50 [==============================] - 30s 602ms/step - loss: 9.0434 - ACC: 0.0039 - PPL: 8504.0292 - val_loss: 8.8692 - val_ACC: 0.0058 - val_PPL: 7109.7010\n",
      "Epoch 2/100\n",
      "50/50 [==============================] - 26s 521ms/step - loss: 8.7212 - ACC: 0.0230 - PPL: 6153.6707 - val_loss: 8.5691 - val_ACC: 0.0278 - val_PPL: 5266.7628\n",
      "Epoch 3/100\n",
      "50/50 [==============================] - 26s 521ms/step - loss: 8.4437 - ACC: 0.0278 - PPL: 4658.7478 - val_loss: 8.3060 - val_ACC: 0.0278 - val_PPL: 4048.1550\n",
      "Epoch 4/100\n",
      "50/50 [==============================] - 26s 520ms/step - loss: 8.1914 - ACC: 0.0278 - PPL: 3618.3752 - val_loss: 8.0668 - val_ACC: 0.0278 - val_PPL: 3187.2087\n",
      "Epoch 5/100\n",
      "50/50 [==============================] - 26s 521ms/step - loss: 7.9635 - ACC: 0.0278 - PPL: 2880.6197 - val_loss: 7.8422 - val_ACC: 0.0278 - val_PPL: 2546.2188\n",
      "Epoch 6/100\n",
      "50/50 [==============================] - 26s 520ms/step - loss: 7.7545 - ACC: 0.0278 - PPL: 2336.2737 - val_loss: 7.6450 - val_ACC: 0.0278 - val_PPL: 2090.3551\n",
      "Epoch 7/100\n",
      "50/50 [==============================] - 26s 520ms/step - loss: 7.5669 - ACC: 0.0278 - PPL: 1935.9620 - val_loss: 7.4616 - val_ACC: 0.0278 - val_PPL: 1740.2460\n",
      "Epoch 8/100\n",
      "50/50 [==============================] - 26s 520ms/step - loss: 7.3907 - ACC: 0.0278 - PPL: 1623.2621 - val_loss: 7.2968 - val_ACC: 0.0278 - val_PPL: 1475.6862\n",
      "Epoch 9/100\n",
      "50/50 [==============================] - 26s 522ms/step - loss: 7.2368 - ACC: 0.0278 - PPL: 1391.4887 - val_loss: 7.1509 - val_ACC: 0.0278 - val_PPL: 1275.5897\n",
      "Epoch 10/100\n",
      "50/50 [==============================] - 26s 520ms/step - loss: 7.0953 - ACC: 0.0278 - PPL: 1207.4328 - val_loss: 7.0213 - val_ACC: 0.0278 - val_PPL: 1120.6512\n",
      "Epoch 11/100\n",
      "50/50 [==============================] - 26s 521ms/step - loss: 6.9778 - ACC: 0.0278 - PPL: 1073.6496 - val_loss: 6.9129 - val_ACC: 0.0278 - val_PPL: 1005.5990\n",
      "Epoch 12/100\n",
      "50/50 [==============================] - 26s 520ms/step - loss: 6.8723 - ACC: 0.0278 - PPL: 966.0360 - val_loss: 6.8264 - val_ACC: 0.0278 - val_PPL: 922.2220\n",
      "Epoch 13/100\n",
      "50/50 [==============================] - 26s 521ms/step - loss: 6.7742 - ACC: 0.0278 - PPL: 875.7290 - val_loss: 6.7250 - val_ACC: 0.0278 - val_PPL: 833.4244\n",
      "Epoch 14/100\n",
      "50/50 [==============================] - 26s 520ms/step - loss: 6.6972 - ACC: 0.0278 - PPL: 810.5707 - val_loss: 6.6585 - val_ACC: 0.0278 - val_PPL: 779.9483\n",
      "Epoch 15/100\n",
      "50/50 [==============================] - 26s 521ms/step - loss: 6.6313 - ACC: 0.0278 - PPL: 758.9240 - val_loss: 6.5862 - val_ACC: 0.0278 - val_PPL: 725.3825\n",
      "Epoch 16/100\n",
      "50/50 [==============================] - 26s 521ms/step - loss: 6.5839 - ACC: 0.0278 - PPL: 723.6879 - val_loss: 6.5461 - val_ACC: 0.0278 - val_PPL: 696.9356\n",
      "Epoch 17/100\n",
      "50/50 [==============================] - 26s 521ms/step - loss: 6.5399 - ACC: 0.0338 - PPL: 692.6741 - val_loss: 6.5282 - val_ACC: 0.0453 - val_PPL: 684.7074\n",
      "Epoch 18/100\n",
      "50/50 [==============================] - 26s 520ms/step - loss: 6.5084 - ACC: 0.0469 - PPL: 671.3307 - val_loss: 6.4893 - val_ACC: 0.0462 - val_PPL: 658.6801\n",
      "Epoch 19/100\n",
      "50/50 [==============================] - 26s 520ms/step - loss: 6.4895 - ACC: 0.0467 - PPL: 658.7225 - val_loss: 6.4983 - val_ACC: 0.0471 - val_PPL: 664.4331\n",
      "Epoch 20/100\n",
      "50/50 [==============================] - 26s 519ms/step - loss: 6.4895 - ACC: 0.0498 - PPL: 658.6694 - val_loss: 6.4511 - val_ACC: 0.0547 - val_PPL: 633.9478\n",
      "Epoch 21/100\n",
      "50/50 [==============================] - 26s 520ms/step - loss: 6.4910 - ACC: 0.0527 - PPL: 659.7162 - val_loss: 6.4700 - val_ACC: 0.0548 - val_PPL: 645.8764\n",
      "Epoch 22/100\n",
      "50/50 [==============================] - 27s 530ms/step - loss: 6.4739 - ACC: 0.0543 - PPL: 648.5038 - val_loss: 6.4795 - val_ACC: 0.0547 - val_PPL: 652.2301\n",
      "Epoch 23/100\n",
      "50/50 [==============================] - 26s 520ms/step - loss: 6.4769 - ACC: 0.0531 - PPL: 650.4019 - val_loss: 6.4842 - val_ACC: 0.0533 - val_PPL: 655.1752\n",
      "Epoch 24/100\n",
      "50/50 [==============================] - 26s 529ms/step - loss: 6.4792 - ACC: 0.0530 - PPL: 652.1420 - val_loss: 6.4926 - val_ACC: 0.0532 - val_PPL: 660.4738\n",
      "Epoch 25/100\n",
      "50/50 [==============================] - 26s 520ms/step - loss: 6.4799 - ACC: 0.0526 - PPL: 652.5565 - val_loss: 6.4765 - val_ACC: 0.0548 - val_PPL: 650.1884\n",
      "Epoch 26/100\n",
      "50/50 [==============================] - 26s 520ms/step - loss: 6.4801 - ACC: 0.0530 - PPL: 652.7864 - val_loss: 6.4926 - val_ACC: 0.0549 - val_PPL: 660.7752\n",
      "Epoch 27/100\n",
      "50/50 [==============================] - 26s 521ms/step - loss: 6.4797 - ACC: 0.0535 - PPL: 652.4808 - val_loss: 6.4924 - val_ACC: 0.0553 - val_PPL: 660.6639\n",
      "Epoch 28/100\n",
      "50/50 [==============================] - 26s 520ms/step - loss: 6.4690 - ACC: 0.0539 - PPL: 645.4412 - val_loss: 6.4812 - val_ACC: 0.0541 - val_PPL: 653.1527\n",
      "Epoch 29/100\n",
      "50/50 [==============================] - 26s 529ms/step - loss: 6.4764 - ACC: 0.0525 - PPL: 650.2056 - val_loss: 6.4794 - val_ACC: 0.0542 - val_PPL: 652.2208\n",
      "Epoch 30/100\n",
      "50/50 [==============================] - 27s 530ms/step - loss: 6.4765 - ACC: 0.0529 - PPL: 650.1696 - val_loss: 6.4814 - val_ACC: 0.0538 - val_PPL: 653.7484\n",
      "Epoch 31/100\n",
      "50/50 [==============================] - 26s 521ms/step - loss: 6.4744 - ACC: 0.0534 - PPL: 648.8436 - val_loss: 6.4928 - val_ACC: 0.0542 - val_PPL: 661.1508\n",
      "Epoch 32/100\n",
      "50/50 [==============================] - 27s 532ms/step - loss: 6.4770 - ACC: 0.0531 - PPL: 650.5747 - val_loss: 6.4976 - val_ACC: 0.0546 - val_PPL: 664.3170\n",
      "Epoch 33/100\n",
      "50/50 [==============================] - 26s 530ms/step - loss: 6.4851 - ACC: 0.0533 - PPL: 656.0873 - val_loss: 6.4894 - val_ACC: 0.0549 - val_PPL: 658.9980\n",
      "Epoch 34/100\n",
      "50/50 [==============================] - 27s 531ms/step - loss: 6.4744 - ACC: 0.0535 - PPL: 648.8321 - val_loss: 6.4867 - val_ACC: 0.0542 - val_PPL: 657.0645\n",
      "Epoch 35/100\n",
      "50/50 [==============================] - 26s 523ms/step - loss: 6.4780 - ACC: 0.0527 - PPL: 651.4099 - val_loss: 6.4812 - val_ACC: 0.0548 - val_PPL: 653.2289\n",
      "Epoch 36/100\n",
      "50/50 [==============================] - 27s 540ms/step - loss: 6.4708 - ACC: 0.0539 - PPL: 646.6486 - val_loss: 6.4948 - val_ACC: 0.0545 - val_PPL: 662.4757\n",
      "Epoch 37/100\n",
      "50/50 [==============================] - 26s 521ms/step - loss: 6.4914 - ACC: 0.0524 - PPL: 660.0218 - val_loss: 6.4868 - val_ACC: 0.0541 - val_PPL: 656.6663\n",
      "Epoch 38/100\n",
      "50/50 [==============================] - 27s 532ms/step - loss: 6.4811 - ACC: 0.0537 - PPL: 653.1581 - val_loss: 6.4923 - val_ACC: 0.0547 - val_PPL: 660.6729\n",
      "Epoch 39/100\n",
      "50/50 [==============================] - 27s 532ms/step - loss: 6.4655 - ACC: 0.0534 - PPL: 643.1650 - val_loss: 6.5022 - val_ACC: 0.0546 - val_PPL: 667.4612\n",
      "Epoch 40/100\n",
      "50/50 [==============================] - 26s 521ms/step - loss: 6.4795 - ACC: 0.0533 - PPL: 652.1100 - val_loss: 6.4955 - val_ACC: 0.0541 - val_PPL: 662.7731\n",
      "Epoch 41/100\n",
      "50/50 [==============================] - 27s 531ms/step - loss: 6.4929 - ACC: 0.0536 - PPL: 660.9829 - val_loss: 6.4969 - val_ACC: 0.0543 - val_PPL: 664.0557\n",
      "Epoch 42/100\n",
      "50/50 [==============================] - 27s 549ms/step - loss: 6.4806 - ACC: 0.0533 - PPL: 652.7895 - val_loss: 6.4966 - val_ACC: 0.0549 - val_PPL: 663.6258\n",
      "Epoch 43/100\n",
      "50/50 [==============================] - 27s 530ms/step - loss: 6.4857 - ACC: 0.0533 - PPL: 656.2746 - val_loss: 6.5147 - val_ACC: 0.0538 - val_PPL: 675.2284\n",
      "Epoch 44/100\n",
      "50/50 [==============================] - 27s 542ms/step - loss: 6.4881 - ACC: 0.0528 - PPL: 657.6894 - val_loss: 6.5002 - val_ACC: 0.0537 - val_PPL: 666.1215\n",
      "Epoch 45/100\n",
      "50/50 [==============================] - 27s 530ms/step - loss: 6.4866 - ACC: 0.0537 - PPL: 657.0333 - val_loss: 6.4990 - val_ACC: 0.0548 - val_PPL: 665.0093\n",
      "Epoch 46/100\n",
      "50/50 [==============================] - 27s 531ms/step - loss: 6.4856 - ACC: 0.0530 - PPL: 656.2568 - val_loss: 6.5038 - val_ACC: 0.0538 - val_PPL: 668.4172\n",
      "Epoch 47/100\n",
      "50/50 [==============================] - 27s 530ms/step - loss: 6.4924 - ACC: 0.0533 - PPL: 660.5520 - val_loss: 6.5049 - val_ACC: 0.0550 - val_PPL: 668.9545\n",
      "Epoch 48/100\n",
      "50/50 [==============================] - 27s 532ms/step - loss: 6.4951 - ACC: 0.0532 - PPL: 662.3059 - val_loss: 6.5154 - val_ACC: 0.0550 - val_PPL: 676.1296\n"
     ]
    },
    {
     "name": "stdout",
     "output_type": "stream",
     "text": [
      "Epoch 49/100\n",
      "50/50 [==============================] - 27s 533ms/step - loss: 6.4869 - ACC: 0.0527 - PPL: 657.2337 - val_loss: 6.4880 - val_ACC: 0.0546 - val_PPL: 657.7653\n",
      "Epoch 50/100\n",
      "50/50 [==============================] - 27s 537ms/step - loss: 6.4879 - ACC: 0.0530 - PPL: 657.7375 - val_loss: 6.5062 - val_ACC: 0.0548 - val_PPL: 670.1401\n",
      "Epoch 51/100\n",
      "50/50 [==============================] - 27s 539ms/step - loss: 6.4803 - ACC: 0.0520 - PPL: 652.6668 - val_loss: 6.4979 - val_ACC: 0.0544 - val_PPL: 664.4688\n",
      "Epoch 52/100\n",
      "50/50 [==============================] - 27s 530ms/step - loss: 6.4991 - ACC: 0.0526 - PPL: 665.0230 - val_loss: 6.5064 - val_ACC: 0.0537 - val_PPL: 670.3162\n",
      "Epoch 53/100\n",
      "50/50 [==============================] - 27s 541ms/step - loss: 6.4857 - ACC: 0.0537 - PPL: 656.4225 - val_loss: 6.5113 - val_ACC: 0.0537 - val_PPL: 673.2695\n",
      "Epoch 54/100\n",
      "50/50 [==============================] - 27s 530ms/step - loss: 6.4943 - ACC: 0.0533 - PPL: 661.9708 - val_loss: 6.5071 - val_ACC: 0.0542 - val_PPL: 670.5017\n",
      "Epoch 55/100\n",
      "50/50 [==============================] - 27s 530ms/step - loss: 6.4913 - ACC: 0.0530 - PPL: 659.8400 - val_loss: 6.4885 - val_ACC: 0.0538 - val_PPL: 658.2865\n",
      "Epoch 56/100\n",
      "50/50 [==============================] - 27s 541ms/step - loss: 6.4684 - ACC: 0.0531 - PPL: 645.0500 - val_loss: 6.4861 - val_ACC: 0.0550 - val_PPL: 656.4144\n",
      "Epoch 57/100\n",
      "50/50 [==============================] - 27s 530ms/step - loss: 6.4556 - ACC: 0.0534 - PPL: 636.7626 - val_loss: 6.4731 - val_ACC: 0.0578 - val_PPL: 647.8721\n",
      "Epoch 58/100\n",
      "50/50 [==============================] - 27s 543ms/step - loss: 6.4283 - ACC: 0.0606 - PPL: 619.5458 - val_loss: 6.4592 - val_ACC: 0.0644 - val_PPL: 639.2767\n",
      "Epoch 59/100\n",
      "50/50 [==============================] - 27s 542ms/step - loss: 6.4366 - ACC: 0.0632 - PPL: 624.9090 - val_loss: 6.4335 - val_ACC: 0.0678 - val_PPL: 622.8561\n",
      "Epoch 60/100\n",
      "50/50 [==============================] - 26s 522ms/step - loss: 6.4237 - ACC: 0.0675 - PPL: 616.8231 - val_loss: 6.4316 - val_ACC: 0.0692 - val_PPL: 621.5918\n",
      "Epoch 61/100\n",
      "50/50 [==============================] - 27s 550ms/step - loss: 6.4038 - ACC: 0.0683 - PPL: 604.5726 - val_loss: 6.4168 - val_ACC: 0.0706 - val_PPL: 612.6619\n",
      "Epoch 62/100\n",
      "50/50 [==============================] - 27s 545ms/step - loss: 6.4030 - ACC: 0.0692 - PPL: 604.1502 - val_loss: 6.4097 - val_ACC: 0.0707 - val_PPL: 608.2372\n",
      "Epoch 63/100\n",
      "50/50 [==============================] - 27s 542ms/step - loss: 6.3868 - ACC: 0.0693 - PPL: 594.5307 - val_loss: 6.4094 - val_ACC: 0.0696 - val_PPL: 608.0632\n",
      "Epoch 64/100\n",
      "50/50 [==============================] - 27s 542ms/step - loss: 6.3820 - ACC: 0.0700 - PPL: 591.5743 - val_loss: 6.4034 - val_ACC: 0.0702 - val_PPL: 604.4232\n",
      "Epoch 65/100\n",
      "50/50 [==============================] - 27s 542ms/step - loss: 6.3693 - ACC: 0.0703 - PPL: 584.0645 - val_loss: 6.3847 - val_ACC: 0.0717 - val_PPL: 593.4138\n",
      "Epoch 66/100\n",
      "50/50 [==============================] - 28s 552ms/step - loss: 6.3629 - ACC: 0.0694 - PPL: 580.3930 - val_loss: 6.3714 - val_ACC: 0.0721 - val_PPL: 585.2353\n",
      "Epoch 67/100\n",
      "50/50 [==============================] - 27s 540ms/step - loss: 6.3650 - ACC: 0.0779 - PPL: 581.5383 - val_loss: 6.3824 - val_ACC: 0.0781 - val_PPL: 591.8611\n",
      "Epoch 68/100\n",
      "50/50 [==============================] - 28s 552ms/step - loss: 6.3568 - ACC: 0.0794 - PPL: 576.8531 - val_loss: 6.3663 - val_ACC: 0.0789 - val_PPL: 582.3951\n",
      "Epoch 69/100\n",
      "50/50 [==============================] - 27s 542ms/step - loss: 6.3532 - ACC: 0.0799 - PPL: 574.7465 - val_loss: 6.3656 - val_ACC: 0.0792 - val_PPL: 582.2401\n",
      "Epoch 70/100\n",
      "50/50 [==============================] - 27s 542ms/step - loss: 6.3328 - ACC: 0.0818 - PPL: 563.3979 - val_loss: 6.3633 - val_ACC: 0.0802 - val_PPL: 580.9005\n",
      "Epoch 71/100\n",
      "50/50 [==============================] - 27s 541ms/step - loss: 6.3323 - ACC: 0.0809 - PPL: 562.9444 - val_loss: 6.3465 - val_ACC: 0.0825 - val_PPL: 571.1159\n",
      "Epoch 72/100\n",
      "50/50 [==============================] - 27s 546ms/step - loss: 6.3341 - ACC: 0.0812 - PPL: 563.9255 - val_loss: 6.3408 - val_ACC: 0.0827 - val_PPL: 567.8337\n",
      "Epoch 73/100\n",
      "50/50 [==============================] - 27s 533ms/step - loss: 6.3159 - ACC: 0.0821 - PPL: 553.8837 - val_loss: 6.3408 - val_ACC: 0.0794 - val_PPL: 567.7392\n",
      "Epoch 74/100\n",
      "50/50 [==============================] - 28s 550ms/step - loss: 6.3168 - ACC: 0.0819 - PPL: 554.3924 - val_loss: 6.3428 - val_ACC: 0.0833 - val_PPL: 568.7582\n",
      "Epoch 75/100\n",
      "50/50 [==============================] - 28s 550ms/step - loss: 6.3193 - ACC: 0.0818 - PPL: 555.6218 - val_loss: 6.3370 - val_ACC: 0.0808 - val_PPL: 565.6694\n",
      "Epoch 76/100\n",
      "50/50 [==============================] - 28s 551ms/step - loss: 6.3014 - ACC: 0.0810 - PPL: 545.8105 - val_loss: 6.3355 - val_ACC: 0.0800 - val_PPL: 564.6948\n",
      "Epoch 77/100\n",
      "50/50 [==============================] - 27s 533ms/step - loss: 6.2959 - ACC: 0.0837 - PPL: 542.8405 - val_loss: 6.3243 - val_ACC: 0.0791 - val_PPL: 558.7706\n",
      "Epoch 78/100\n",
      "50/50 [==============================] - 27s 543ms/step - loss: 6.2893 - ACC: 0.0834 - PPL: 539.3346 - val_loss: 6.3240 - val_ACC: 0.0787 - val_PPL: 558.3316\n",
      "Epoch 79/100\n",
      "50/50 [==============================] - 28s 551ms/step - loss: 6.2812 - ACC: 0.0838 - PPL: 534.8077 - val_loss: 6.3208 - val_ACC: 0.0854 - val_PPL: 556.5548\n",
      "Epoch 80/100\n",
      "50/50 [==============================] - 27s 543ms/step - loss: 6.2915 - ACC: 0.0844 - PPL: 540.4643 - val_loss: 6.3099 - val_ACC: 0.0832 - val_PPL: 550.4032\n",
      "Epoch 81/100\n",
      "50/50 [==============================] - 28s 552ms/step - loss: 6.2807 - ACC: 0.0856 - PPL: 534.7266 - val_loss: 6.3091 - val_ACC: 0.0875 - val_PPL: 550.1368\n",
      "Epoch 82/100\n",
      "50/50 [==============================] - 27s 540ms/step - loss: 6.2724 - ACC: 0.0866 - PPL: 530.2862 - val_loss: 6.3058 - val_ACC: 0.0861 - val_PPL: 548.2455\n",
      "Epoch 83/100\n",
      "50/50 [==============================] - 27s 543ms/step - loss: 6.2612 - ACC: 0.0872 - PPL: 524.2300 - val_loss: 6.3073 - val_ACC: 0.0837 - val_PPL: 549.0051\n",
      "Epoch 84/100\n",
      "50/50 [==============================] - 27s 540ms/step - loss: 6.2653 - ACC: 0.0875 - PPL: 526.4762 - val_loss: 6.2930 - val_ACC: 0.0890 - val_PPL: 541.3651\n",
      "Epoch 85/100\n",
      "50/50 [==============================] - 28s 552ms/step - loss: 6.2556 - ACC: 0.0895 - PPL: 521.2895 - val_loss: 6.2959 - val_ACC: 0.0920 - val_PPL: 542.7885\n",
      "Epoch 86/100\n",
      "50/50 [==============================] - 28s 551ms/step - loss: 6.2611 - ACC: 0.0905 - PPL: 524.6717 - val_loss: 6.2893 - val_ACC: 0.0897 - val_PPL: 539.3650\n",
      "Epoch 87/100\n",
      "50/50 [==============================] - 27s 530ms/step - loss: 6.2532 - ACC: 0.0894 - PPL: 520.1094 - val_loss: 6.2885 - val_ACC: 0.0897 - val_PPL: 538.8925\n",
      "Epoch 88/100\n",
      "50/50 [==============================] - 27s 531ms/step - loss: 6.2559 - ACC: 0.0915 - PPL: 521.5181 - val_loss: 6.2648 - val_ACC: 0.0949 - val_PPL: 526.2751\n",
      "Epoch 89/100\n",
      "50/50 [==============================] - 27s 540ms/step - loss: 6.2462 - ACC: 0.0934 - PPL: 516.6833 - val_loss: 6.2699 - val_ACC: 0.0948 - val_PPL: 528.9691\n",
      "Epoch 90/100\n",
      "50/50 [==============================] - 27s 549ms/step - loss: 6.2359 - ACC: 0.0947 - PPL: 511.1308 - val_loss: 6.2683 - val_ACC: 0.0959 - val_PPL: 528.1895\n",
      "Epoch 91/100\n",
      "50/50 [==============================] - 27s 547ms/step - loss: 6.2219 - ACC: 0.0965 - PPL: 504.1657 - val_loss: 6.2615 - val_ACC: 0.0965 - val_PPL: 524.3399\n",
      "Epoch 92/100\n",
      "50/50 [==============================] - 27s 543ms/step - loss: 6.2278 - ACC: 0.0962 - PPL: 507.0490 - val_loss: 6.2526 - val_ACC: 0.0972 - val_PPL: 519.7826\n",
      "Epoch 93/100\n",
      "50/50 [==============================] - 27s 542ms/step - loss: 6.2158 - ACC: 0.0975 - PPL: 501.1107 - val_loss: 6.2490 - val_ACC: 0.0975 - val_PPL: 518.2062\n",
      "Epoch 94/100\n",
      "50/50 [==============================] - 27s 530ms/step - loss: 6.2098 - ACC: 0.0973 - PPL: 498.0925 - val_loss: 6.2408 - val_ACC: 0.0983 - val_PPL: 513.8648\n",
      "Epoch 95/100\n",
      "50/50 [==============================] - 27s 540ms/step - loss: 6.1972 - ACC: 0.0994 - PPL: 491.8832 - val_loss: 6.2390 - val_ACC: 0.0990 - val_PPL: 512.9352\n",
      "Epoch 96/100\n",
      "50/50 [==============================] - 27s 531ms/step - loss: 6.1956 - ACC: 0.0983 - PPL: 491.0344 - val_loss: 6.2242 - val_ACC: 0.0979 - val_PPL: 505.2985\n"
     ]
    },
    {
     "name": "stdout",
     "output_type": "stream",
     "text": [
      "Epoch 97/100\n",
      "50/50 [==============================] - 27s 543ms/step - loss: 6.1841 - ACC: 0.0978 - PPL: 485.3893 - val_loss: 6.2320 - val_ACC: 0.0964 - val_PPL: 509.0940\n",
      "Epoch 98/100\n",
      "50/50 [==============================] - 27s 548ms/step - loss: 6.1740 - ACC: 0.1001 - PPL: 480.4779 - val_loss: 6.2061 - val_ACC: 0.1015 - val_PPL: 496.2376\n",
      "Epoch 99/100\n",
      "50/50 [==============================] - 27s 545ms/step - loss: 6.1684 - ACC: 0.1026 - PPL: 477.9860 - val_loss: 6.2099 - val_ACC: 0.1037 - val_PPL: 498.1616\n",
      "Epoch 100/100\n",
      "50/50 [==============================] - 27s 532ms/step - loss: 6.1712 - ACC: 0.1070 - PPL: 479.1699 - val_loss: 6.1821 - val_ACC: 0.1071 - val_PPL: 484.4054\n"
     ]
    }
   ],
   "source": [
    "hist = model.fit_generator(generator=gen_word_word(), \n",
    "                           steps_per_epoch=50, epochs=100,\n",
    "                           validation_data=gen_word_word(dataset='valid'),\n",
    "                           validation_steps=30)"
   ]
  },
  {
   "cell_type": "code",
   "execution_count": 17,
   "metadata": {
    "colab": {},
    "colab_type": "code",
    "id": "G2l21JdFPo3A"
   },
   "outputs": [],
   "source": [
    "history = pd.DataFrame(hist.history)"
   ]
  },
  {
   "cell_type": "code",
   "execution_count": 18,
   "metadata": {
    "colab": {
     "base_uri": "https://localhost:8080/",
     "height": 301
    },
    "colab_type": "code",
    "id": "jQLqEZwRPo3M",
    "outputId": "9e0c5672-82b6-4fdb-8f11-739eb0007baa"
   },
   "outputs": [
    {
     "name": "stdout",
     "output_type": "stream",
     "text": [
      "Index(['ACC', 'PPL', 'loss', 'val_ACC', 'val_PPL', 'val_loss'], dtype='object')\n"
     ]
    },
    {
     "data": {
      "text/plain": [
       "<matplotlib.axes._subplots.AxesSubplot at 0x7f5e1839a7b8>"
      ]
     },
     "execution_count": 18,
     "metadata": {},
     "output_type": "execute_result"
    },
    {
     "data": {
      "image/png": "[encoded data removed]",
      "text/plain": [
       "<Figure size 432x288 with 1 Axes>"
      ]
     },
     "metadata": {},
     "output_type": "display_data"
    }
   ],
   "source": [
    "print(history.columns)\n",
    "history.loc[:,['PPL','val_PPL']].tail(4600).plot()"
   ]
  },
  {
   "cell_type": "code",
   "execution_count": 21,
   "metadata": {
    "colab": {},
    "colab_type": "code",
    "id": "kI9DyqjoPo3s"
   },
   "outputs": [],
   "source": [
    "import os\n",
    "if not os.path.exists(local_path + 'model/'):\n",
    "    os.mkdir(local_path + 'model/')\n",
    "\n",
    "path_model = local_path + 'model/model.keras'\n",
    "model.save(path_model)"
   ]
  },
  {
   "cell_type": "code",
   "execution_count": 22,
   "metadata": {
    "colab": {},
    "colab_type": "code",
    "id": "V_USEcjEPo3x"
   },
   "outputs": [],
   "source": [
    "from tensorflow.python.keras.models import load_model\n",
    "\n",
    "model_restore = load_model(path_model, custom_objects={'ACC':ACC,'PPL': PPL})"
   ]
  },
  {
   "cell_type": "code",
   "execution_count": 23,
   "metadata": {
    "colab": {
     "base_uri": "https://localhost:8080/",
     "height": 1129
    },
    "colab_type": "code",
    "id": "9iSl3szGPo37",
    "outputId": "150689c7-d3fb-4935-9184-dfc4ec6ef708"
   },
   "outputs": [
    {
     "name": "stdout",
     "output_type": "stream",
     "text": [
      "Epoch 1/30\n",
      "19/50 [==========>...................] - ETA: 13s - loss: 6.1350 - ACC: 0.1078 - PPL: 462.2678"
     ]
    },
    {
     "ename": "KeyboardInterrupt",
     "evalue": "",
     "output_type": "error",
     "traceback": [
      "\u001b[0;31m---------------------------------------------------------------------------\u001b[0m",
      "\u001b[0;31mKeyboardInterrupt\u001b[0m                         Traceback (most recent call last)",
      "\u001b[0;32m<ipython-input-23-477ea6644f11>\u001b[0m in \u001b[0;36m<module>\u001b[0;34m()\u001b[0m\n\u001b[1;32m      2\u001b[0m                            \u001b[0msteps_per_epoch\u001b[0m\u001b[0;34m=\u001b[0m\u001b[0;36m50\u001b[0m\u001b[0;34m,\u001b[0m \u001b[0mepochs\u001b[0m\u001b[0;34m=\u001b[0m\u001b[0;36m30\u001b[0m\u001b[0;34m,\u001b[0m\u001b[0;34m\u001b[0m\u001b[0m\n\u001b[1;32m      3\u001b[0m                            \u001b[0mvalidation_data\u001b[0m\u001b[0;34m=\u001b[0m\u001b[0mgen_word_word\u001b[0m\u001b[0;34m(\u001b[0m\u001b[0mdataset\u001b[0m\u001b[0;34m=\u001b[0m\u001b[0;34m'valid'\u001b[0m\u001b[0;34m)\u001b[0m\u001b[0;34m,\u001b[0m\u001b[0;34m\u001b[0m\u001b[0m\n\u001b[0;32m----> 4\u001b[0;31m                            validation_steps=30)\n\u001b[0m",
      "\u001b[0;32m/usr/local/lib/python3.5/dist-packages/tensorflow/python/keras/_impl/keras/engine/training.py\u001b[0m in \u001b[0;36mfit_generator\u001b[0;34m(self, generator, steps_per_epoch, epochs, verbose, callbacks, validation_data, validation_steps, class_weight, max_queue_size, workers, use_multiprocessing, shuffle, initial_epoch)\u001b[0m\n\u001b[1;32m   1596\u001b[0m         \u001b[0muse_multiprocessing\u001b[0m\u001b[0;34m=\u001b[0m\u001b[0muse_multiprocessing\u001b[0m\u001b[0;34m,\u001b[0m\u001b[0;34m\u001b[0m\u001b[0m\n\u001b[1;32m   1597\u001b[0m         \u001b[0mshuffle\u001b[0m\u001b[0;34m=\u001b[0m\u001b[0mshuffle\u001b[0m\u001b[0;34m,\u001b[0m\u001b[0;34m\u001b[0m\u001b[0m\n\u001b[0;32m-> 1598\u001b[0;31m         initial_epoch=initial_epoch)\n\u001b[0m\u001b[1;32m   1599\u001b[0m \u001b[0;34m\u001b[0m\u001b[0m\n\u001b[1;32m   1600\u001b[0m   def evaluate_generator(self,\n",
      "\u001b[0;32m/usr/local/lib/python3.5/dist-packages/tensorflow/python/keras/_impl/keras/engine/training_generator.py\u001b[0m in \u001b[0;36mfit_generator\u001b[0;34m(model, generator, steps_per_epoch, epochs, verbose, callbacks, validation_data, validation_steps, class_weight, max_queue_size, workers, use_multiprocessing, shuffle, initial_epoch)\u001b[0m\n\u001b[1;32m    189\u001b[0m \u001b[0;34m\u001b[0m\u001b[0m\n\u001b[1;32m    190\u001b[0m         outs = model.train_on_batch(\n\u001b[0;32m--> 191\u001b[0;31m             x, y, sample_weight=sample_weight, class_weight=class_weight)\n\u001b[0m\u001b[1;32m    192\u001b[0m \u001b[0;34m\u001b[0m\u001b[0m\n\u001b[1;32m    193\u001b[0m         \u001b[0;32mif\u001b[0m \u001b[0;32mnot\u001b[0m \u001b[0misinstance\u001b[0m\u001b[0;34m(\u001b[0m\u001b[0mouts\u001b[0m\u001b[0;34m,\u001b[0m \u001b[0mlist\u001b[0m\u001b[0;34m)\u001b[0m\u001b[0;34m:\u001b[0m\u001b[0;34m\u001b[0m\u001b[0m\n",
      "\u001b[0;32m/usr/local/lib/python3.5/dist-packages/tensorflow/python/keras/_impl/keras/engine/training.py\u001b[0m in \u001b[0;36mtrain_on_batch\u001b[0;34m(self, x, y, sample_weight, class_weight)\u001b[0m\n\u001b[1;32m   1388\u001b[0m \u001b[0;34m\u001b[0m\u001b[0m\n\u001b[1;32m   1389\u001b[0m       \u001b[0mself\u001b[0m\u001b[0;34m.\u001b[0m\u001b[0m_make_train_function\u001b[0m\u001b[0;34m(\u001b[0m\u001b[0;34m)\u001b[0m\u001b[0;34m\u001b[0m\u001b[0m\n\u001b[0;32m-> 1390\u001b[0;31m       \u001b[0moutputs\u001b[0m \u001b[0;34m=\u001b[0m \u001b[0mself\u001b[0m\u001b[0;34m.\u001b[0m\u001b[0mtrain_function\u001b[0m\u001b[0;34m(\u001b[0m\u001b[0mins\u001b[0m\u001b[0;34m)\u001b[0m\u001b[0;34m\u001b[0m\u001b[0m\n\u001b[0m\u001b[1;32m   1391\u001b[0m \u001b[0;34m\u001b[0m\u001b[0m\n\u001b[1;32m   1392\u001b[0m     \u001b[0;32mif\u001b[0m \u001b[0mlen\u001b[0m\u001b[0;34m(\u001b[0m\u001b[0moutputs\u001b[0m\u001b[0;34m)\u001b[0m \u001b[0;34m==\u001b[0m \u001b[0;36m1\u001b[0m\u001b[0;34m:\u001b[0m\u001b[0;34m\u001b[0m\u001b[0m\n",
      "\u001b[0;32m/usr/local/lib/python3.5/dist-packages/tensorflow/python/keras/_impl/keras/backend.py\u001b[0m in \u001b[0;36m__call__\u001b[0;34m(self, inputs)\u001b[0m\n\u001b[1;32m   2822\u001b[0m     \u001b[0mfetches\u001b[0m \u001b[0;34m=\u001b[0m \u001b[0mself\u001b[0m\u001b[0;34m.\u001b[0m\u001b[0moutputs\u001b[0m \u001b[0;34m+\u001b[0m \u001b[0;34m[\u001b[0m\u001b[0mself\u001b[0m\u001b[0;34m.\u001b[0m\u001b[0mupdates_op\u001b[0m\u001b[0;34m]\u001b[0m \u001b[0;34m+\u001b[0m \u001b[0mself\u001b[0m\u001b[0;34m.\u001b[0m\u001b[0mfetches\u001b[0m\u001b[0;34m\u001b[0m\u001b[0m\n\u001b[1;32m   2823\u001b[0m     updated = session.run(\n\u001b[0;32m-> 2824\u001b[0;31m         fetches=fetches, feed_dict=feed_dict, **self.session_kwargs)\n\u001b[0m\u001b[1;32m   2825\u001b[0m     \u001b[0;32mreturn\u001b[0m \u001b[0mupdated\u001b[0m\u001b[0;34m[\u001b[0m\u001b[0;34m:\u001b[0m\u001b[0mlen\u001b[0m\u001b[0;34m(\u001b[0m\u001b[0mself\u001b[0m\u001b[0;34m.\u001b[0m\u001b[0moutputs\u001b[0m\u001b[0;34m)\u001b[0m\u001b[0;34m]\u001b[0m\u001b[0;34m\u001b[0m\u001b[0m\n\u001b[1;32m   2826\u001b[0m \u001b[0;34m\u001b[0m\u001b[0m\n",
      "\u001b[0;32m/usr/local/lib/python3.5/dist-packages/tensorflow/python/client/session.py\u001b[0m in \u001b[0;36mrun\u001b[0;34m(self, fetches, feed_dict, options, run_metadata)\u001b[0m\n\u001b[1;32m    898\u001b[0m     \u001b[0;32mtry\u001b[0m\u001b[0;34m:\u001b[0m\u001b[0;34m\u001b[0m\u001b[0m\n\u001b[1;32m    899\u001b[0m       result = self._run(None, fetches, feed_dict, options_ptr,\n\u001b[0;32m--> 900\u001b[0;31m                          run_metadata_ptr)\n\u001b[0m\u001b[1;32m    901\u001b[0m       \u001b[0;32mif\u001b[0m \u001b[0mrun_metadata\u001b[0m\u001b[0;34m:\u001b[0m\u001b[0;34m\u001b[0m\u001b[0m\n\u001b[1;32m    902\u001b[0m         \u001b[0mproto_data\u001b[0m \u001b[0;34m=\u001b[0m \u001b[0mtf_session\u001b[0m\u001b[0;34m.\u001b[0m\u001b[0mTF_GetBuffer\u001b[0m\u001b[0;34m(\u001b[0m\u001b[0mrun_metadata_ptr\u001b[0m\u001b[0;34m)\u001b[0m\u001b[0;34m\u001b[0m\u001b[0m\n",
      "\u001b[0;32m/usr/local/lib/python3.5/dist-packages/tensorflow/python/client/session.py\u001b[0m in \u001b[0;36m_run\u001b[0;34m(self, handle, fetches, feed_dict, options, run_metadata)\u001b[0m\n\u001b[1;32m   1133\u001b[0m     \u001b[0;32mif\u001b[0m \u001b[0mfinal_fetches\u001b[0m \u001b[0;32mor\u001b[0m \u001b[0mfinal_targets\u001b[0m \u001b[0;32mor\u001b[0m \u001b[0;34m(\u001b[0m\u001b[0mhandle\u001b[0m \u001b[0;32mand\u001b[0m \u001b[0mfeed_dict_tensor\u001b[0m\u001b[0;34m)\u001b[0m\u001b[0;34m:\u001b[0m\u001b[0;34m\u001b[0m\u001b[0m\n\u001b[1;32m   1134\u001b[0m       results = self._do_run(handle, final_targets, final_fetches,\n\u001b[0;32m-> 1135\u001b[0;31m                              feed_dict_tensor, options, run_metadata)\n\u001b[0m\u001b[1;32m   1136\u001b[0m     \u001b[0;32melse\u001b[0m\u001b[0;34m:\u001b[0m\u001b[0;34m\u001b[0m\u001b[0m\n\u001b[1;32m   1137\u001b[0m       \u001b[0mresults\u001b[0m \u001b[0;34m=\u001b[0m \u001b[0;34m[\u001b[0m\u001b[0;34m]\u001b[0m\u001b[0;34m\u001b[0m\u001b[0m\n",
      "\u001b[0;32m/usr/local/lib/python3.5/dist-packages/tensorflow/python/client/session.py\u001b[0m in \u001b[0;36m_do_run\u001b[0;34m(self, handle, target_list, fetch_list, feed_dict, options, run_metadata)\u001b[0m\n\u001b[1;32m   1314\u001b[0m     \u001b[0;32mif\u001b[0m \u001b[0mhandle\u001b[0m \u001b[0;32mis\u001b[0m \u001b[0;32mNone\u001b[0m\u001b[0;34m:\u001b[0m\u001b[0;34m\u001b[0m\u001b[0m\n\u001b[1;32m   1315\u001b[0m       return self._do_call(_run_fn, feeds, fetches, targets, options,\n\u001b[0;32m-> 1316\u001b[0;31m                            run_metadata)\n\u001b[0m\u001b[1;32m   1317\u001b[0m     \u001b[0;32melse\u001b[0m\u001b[0;34m:\u001b[0m\u001b[0;34m\u001b[0m\u001b[0m\n\u001b[1;32m   1318\u001b[0m       \u001b[0;32mreturn\u001b[0m \u001b[0mself\u001b[0m\u001b[0;34m.\u001b[0m\u001b[0m_do_call\u001b[0m\u001b[0;34m(\u001b[0m\u001b[0m_prun_fn\u001b[0m\u001b[0;34m,\u001b[0m \u001b[0mhandle\u001b[0m\u001b[0;34m,\u001b[0m \u001b[0mfeeds\u001b[0m\u001b[0;34m,\u001b[0m \u001b[0mfetches\u001b[0m\u001b[0;34m)\u001b[0m\u001b[0;34m\u001b[0m\u001b[0m\n",
      "\u001b[0;32m/usr/local/lib/python3.5/dist-packages/tensorflow/python/client/session.py\u001b[0m in \u001b[0;36m_do_call\u001b[0;34m(self, fn, *args)\u001b[0m\n\u001b[1;32m   1320\u001b[0m   \u001b[0;32mdef\u001b[0m \u001b[0m_do_call\u001b[0m\u001b[0;34m(\u001b[0m\u001b[0mself\u001b[0m\u001b[0;34m,\u001b[0m \u001b[0mfn\u001b[0m\u001b[0;34m,\u001b[0m \u001b[0;34m*\u001b[0m\u001b[0margs\u001b[0m\u001b[0;34m)\u001b[0m\u001b[0;34m:\u001b[0m\u001b[0;34m\u001b[0m\u001b[0m\n\u001b[1;32m   1321\u001b[0m     \u001b[0;32mtry\u001b[0m\u001b[0;34m:\u001b[0m\u001b[0;34m\u001b[0m\u001b[0m\n\u001b[0;32m-> 1322\u001b[0;31m       \u001b[0;32mreturn\u001b[0m \u001b[0mfn\u001b[0m\u001b[0;34m(\u001b[0m\u001b[0;34m*\u001b[0m\u001b[0margs\u001b[0m\u001b[0;34m)\u001b[0m\u001b[0;34m\u001b[0m\u001b[0m\n\u001b[0m\u001b[1;32m   1323\u001b[0m     \u001b[0;32mexcept\u001b[0m \u001b[0merrors\u001b[0m\u001b[0;34m.\u001b[0m\u001b[0mOpError\u001b[0m \u001b[0;32mas\u001b[0m \u001b[0me\u001b[0m\u001b[0;34m:\u001b[0m\u001b[0;34m\u001b[0m\u001b[0m\n\u001b[1;32m   1324\u001b[0m       \u001b[0mmessage\u001b[0m \u001b[0;34m=\u001b[0m \u001b[0mcompat\u001b[0m\u001b[0;34m.\u001b[0m\u001b[0mas_text\u001b[0m\u001b[0;34m(\u001b[0m\u001b[0me\u001b[0m\u001b[0;34m.\u001b[0m\u001b[0mmessage\u001b[0m\u001b[0;34m)\u001b[0m\u001b[0;34m\u001b[0m\u001b[0m\n",
      "\u001b[0;32m/usr/local/lib/python3.5/dist-packages/tensorflow/python/client/session.py\u001b[0m in \u001b[0;36m_run_fn\u001b[0;34m(feed_dict, fetch_list, target_list, options, run_metadata)\u001b[0m\n\u001b[1;32m   1305\u001b[0m       \u001b[0mself\u001b[0m\u001b[0;34m.\u001b[0m\u001b[0m_extend_graph\u001b[0m\u001b[0;34m(\u001b[0m\u001b[0;34m)\u001b[0m\u001b[0;34m\u001b[0m\u001b[0m\n\u001b[1;32m   1306\u001b[0m       return self._call_tf_sessionrun(\n\u001b[0;32m-> 1307\u001b[0;31m           options, feed_dict, fetch_list, target_list, run_metadata)\n\u001b[0m\u001b[1;32m   1308\u001b[0m \u001b[0;34m\u001b[0m\u001b[0m\n\u001b[1;32m   1309\u001b[0m     \u001b[0;32mdef\u001b[0m \u001b[0m_prun_fn\u001b[0m\u001b[0;34m(\u001b[0m\u001b[0mhandle\u001b[0m\u001b[0;34m,\u001b[0m \u001b[0mfeed_dict\u001b[0m\u001b[0;34m,\u001b[0m \u001b[0mfetch_list\u001b[0m\u001b[0;34m)\u001b[0m\u001b[0;34m:\u001b[0m\u001b[0;34m\u001b[0m\u001b[0m\n",
      "\u001b[0;32m/usr/local/lib/python3.5/dist-packages/tensorflow/python/client/session.py\u001b[0m in \u001b[0;36m_call_tf_sessionrun\u001b[0;34m(self, options, feed_dict, fetch_list, target_list, run_metadata)\u001b[0m\n\u001b[1;32m   1407\u001b[0m       return tf_session.TF_SessionRun_wrapper(\n\u001b[1;32m   1408\u001b[0m           \u001b[0mself\u001b[0m\u001b[0;34m.\u001b[0m\u001b[0m_session\u001b[0m\u001b[0;34m,\u001b[0m \u001b[0moptions\u001b[0m\u001b[0;34m,\u001b[0m \u001b[0mfeed_dict\u001b[0m\u001b[0;34m,\u001b[0m \u001b[0mfetch_list\u001b[0m\u001b[0;34m,\u001b[0m \u001b[0mtarget_list\u001b[0m\u001b[0;34m,\u001b[0m\u001b[0;34m\u001b[0m\u001b[0m\n\u001b[0;32m-> 1409\u001b[0;31m           run_metadata)\n\u001b[0m\u001b[1;32m   1410\u001b[0m     \u001b[0;32melse\u001b[0m\u001b[0;34m:\u001b[0m\u001b[0;34m\u001b[0m\u001b[0m\n\u001b[1;32m   1411\u001b[0m       \u001b[0;32mwith\u001b[0m \u001b[0merrors\u001b[0m\u001b[0;34m.\u001b[0m\u001b[0mraise_exception_on_not_ok_status\u001b[0m\u001b[0;34m(\u001b[0m\u001b[0;34m)\u001b[0m \u001b[0;32mas\u001b[0m \u001b[0mstatus\u001b[0m\u001b[0;34m:\u001b[0m\u001b[0;34m\u001b[0m\u001b[0m\n",
      "\u001b[0;31mKeyboardInterrupt\u001b[0m: "
     ]
    }
   ],
   "source": [
    "hist = model_restore.fit_generator(generator=gen_word_word(), \n",
    "                           steps_per_epoch=50, epochs=30,\n",
    "                           validation_data=gen_word_word(dataset='valid'),\n",
    "                           validation_steps=30)"
   ]
  },
  {
   "cell_type": "code",
   "execution_count": 16,
   "metadata": {
    "colab": {
     "base_uri": "https://localhost:8080/",
     "height": 301
    },
    "colab_type": "code",
    "id": "WPNTJojePo4D",
    "outputId": "8b2ce958-73e2-4498-9f01-78d2f5d49a86"
   },
   "outputs": [
    {
     "name": "stdout",
     "output_type": "stream",
     "text": [
      "Index(['ACC', 'PPL', 'loss', 'val_ACC', 'val_PPL', 'val_loss'], dtype='object')\n"
     ]
    },
    {
     "data": {
      "text/plain": [
       "<matplotlib.axes._subplots.AxesSubplot at 0x7f5e18347d68>"
      ]
     },
     "execution_count": 16,
     "metadata": {},
     "output_type": "execute_result"
    },
    {
     "data": {
      "image/png": "[encoded data removed]",
      "text/plain": [
       "<Figure size 432x288 with 1 Axes>"
      ]
     },
     "metadata": {},
     "output_type": "display_data"
    }
   ],
   "source": [
    "history = pd.DataFrame(hist.history)\n",
    "print(history.columns)\n",
    "history.loc[:,['PPL','val_PPL']].tail(4600).plot()"
   ]
  },
  {
   "cell_type": "code",
   "execution_count": 0,
   "metadata": {
    "colab": {},
    "colab_type": "code",
    "id": "SY8V79vOPo4N"
   },
   "outputs": [],
   "source": []
  },
  {
   "cell_type": "code",
   "execution_count": 0,
   "metadata": {
    "colab": {},
    "colab_type": "code",
    "id": "P5XQ_DjcPo4V"
   },
   "outputs": [],
   "source": [
    "X,Y = next(gen_word_word(batch_size=1, dataset='valid'))\n",
    "X = list(X[0])\n",
    "' '.join([id_to_word[id] for id in X])"
   ]
  },
  {
   "cell_type": "code",
   "execution_count": 0,
   "metadata": {
    "colab": {},
    "colab_type": "code",
    "id": "fKog3W-MPo4c"
   },
   "outputs": [],
   "source": []
  }
 ],
 "metadata": {
  "accelerator": "GPU",
  "colab": {
   "collapsed_sections": [],
   "name": "Keras - Character-Aware Neural Language Models.ipynb",
   "provenance": [],
   "version": "0.3.2"
  },
  "kernelspec": {
   "display_name": "Python 3",
   "language": "python",
   "name": "python3"
  },
  "language_info": {
   "codemirror_mode": {
    "name": "ipython",
    "version": 3
   },
   "file_extension": ".py",
   "mimetype": "text/x-python",
   "name": "python",
   "nbconvert_exporter": "python",
   "pygments_lexer": "ipython3",
   "version": "3.5.2"
  }
 },
 "nbformat": 4,
 "nbformat_minor": 1
}
